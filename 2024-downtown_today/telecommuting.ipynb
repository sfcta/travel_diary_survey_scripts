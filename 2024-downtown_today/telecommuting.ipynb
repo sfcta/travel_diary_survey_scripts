{
 "cells": [
  {
   "cell_type": "code",
   "execution_count": 1,
   "metadata": {},
   "outputs": [],
   "source": [
    "%load_ext autoreload"
   ]
  },
  {
   "cell_type": "code",
   "execution_count": 2,
   "metadata": {},
   "outputs": [],
   "source": [
    "import altair as alt\n",
    "import geopandas as gpd\n",
    "import polars as pl\n",
    "\n",
    "%autoreload\n",
    "from altair_utils import color_value_transit_teal\n",
    "from downtown_today_utils import parse_geog"
   ]
  },
  {
   "cell_type": "code",
   "execution_count": 3,
   "metadata": {},
   "outputs": [],
   "source": [
    "taz_analysis_neighborhoods_gis_filepath = r\"Q:\\GIS\\Policy\\San_Francisco\\Analysis_Neighborhoods\\taz2454-sf_only-with_analysis_neighborhoods.gpkg\"\n",
    "taz_analysis_neighborhoods = gpd.read_file(taz_analysis_neighborhoods_gis_filepath)[\n",
    "    [\"TAZ\", \"analysis_neighborhood\"]\n",
    "]"
   ]
  },
  {
   "cell_type": "code",
   "execution_count": 10,
   "metadata": {},
   "outputs": [],
   "source": [
    "person_2018 = parse_geog(\n",
    "    pl.read_csv(\n",
    "        r\"Q:\\Data\\Surveys\\HouseholdSurveys\\MTC-SFCTA2018\\Processing_20211018\\v01\\04-merge_skims\\adj_weights\\survey2018_precx_rewt_base2019.dat\",\n",
    "        separator=\" \",\n",
    "        columns=[\"hhno\", \"pno\", \"pagey\", \"pwtaz\", \"psexpfac\"],\n",
    "    )\n",
    "    .join(\n",
    "        pl.read_csv(\n",
    "            r\"Q:\\Data\\Surveys\\HouseholdSurveys\\MTC-SFCTA2018\\Deliverable_20211018\\person.csv\",\n",
    "            columns=[\"hh_id\", \"person_num\", \"telework_freq\"],\n",
    "        ),\n",
    "        left_on=[\"hhno\", \"pno\"],\n",
    "        right_on=[\"hh_id\", \"person_num\"],\n",
    "    )\n",
    "    .filter(pl.col(\"pagey\") > 17),  # just to be safe; 2019 survey is adults only\n",
    "    taz_analysis_neighborhoods,\n",
    ")\n",
    "person_2022 = parse_geog(\n",
    "    # use nokids weight to be more consistent with 2018\n",
    "    pl.read_csv(\n",
    "        r\"Q:\\Data\\Surveys\\HouseholdSurveys\\MTC-SFCTA2022\\Processed_20241127\\reformat_2019_rmoveonly\\04-merge_skims\\adj_weights\\survey2023_precx_rewt_base2023.dat\",\n",
    "        separator=\" \",\n",
    "        columns=[\"hhno\", \"pno\", \"pagey\", \"pwtaz\", \"psexpfac\"],\n",
    "    )\n",
    "    .join(\n",
    "        pl.read_csv(\n",
    "            r\"Q:\\Data\\Surveys\\HouseholdSurveys\\MTC-SFCTA2022\\Deliverable_20241127\\person.csv\",\n",
    "            columns=[\"hh_id\", \"person_num\", \"telework_freq\"],\n",
    "        ),\n",
    "        left_on=[\"hhno\", \"pno\"],\n",
    "        right_on=[\"hh_id\", \"person_num\"],\n",
    "    )\n",
    "    .filter(pl.col(\"pagey\") > 17),  # adults only, to be consistent with 2019\n",
    "    taz_analysis_neighborhoods,\n",
    ")"
   ]
  },
  {
   "cell_type": "code",
   "execution_count": 11,
   "metadata": {},
   "outputs": [],
   "source": [
    "def plot_dist(df, df_name, col):\n",
    "    df = (\n",
    "        df.group_by(col).agg(weighted=pl.sum(\"psexpfac\"), unweighted=pl.len()).sort(col)\n",
    "    )\n",
    "    return df, alt.Chart(df.drop_nulls()).mark_bar().encode(\n",
    "        x=alt.X(f\"{col}:O\", title=None),\n",
    "        y=alt.Y(\"weighted\", title=col),\n",
    "        color=color_value_transit_teal,\n",
    "    ).properties(title=f\"{df_name}\")\n",
    "    # + df.plot.bar(\n",
    "    #     x=col, y=\"unweighted\", title=f\"{df_name}\\n{col}: unweighted\", frame_width=200\n",
    "    # ).opts(xrotation=45)\n",
    "\n",
    "\n",
    "def plot_dists(df2018, df2022, df_name, col):\n",
    "    df2018, plot2018 = plot_dist(df2018, f\"{df_name} preCOVID\", col)\n",
    "    df2022, plot2022 = plot_dist(df2022, f\"{df_name} postCOVID\", col)\n",
    "    display(df2018)\n",
    "    display(df2022)\n",
    "    df = pl.concat(\n",
    "        [\n",
    "            df2018.with_columns(year=pl.lit(2019)),\n",
    "            df2022.with_columns(year=pl.lit(2023)),\n",
    "        ]\n",
    "    )\n",
    "    print(\"look here to get null shares (non-response rate):\")\n",
    "    display(\n",
    "        df.with_columns(\n",
    "            (pl.col(\"weighted\") / pl.col(\"weighted\").sum().over(\"year\")).alias(\n",
    "                f\"{col}-share\"\n",
    "            )\n",
    "        )\n",
    "    )\n",
    "    df = df.drop_nulls().with_columns(\n",
    "        (pl.col(\"weighted\") / pl.col(\"weighted\").sum().over(\"year\")).alias(\n",
    "            f\"{col}-share\"\n",
    "        )\n",
    "    )\n",
    "    print(\"sums 2018/2022\", df2018.sum(), df2022.sum())\n",
    "    return df, (plot2018 | plot2022).resolve_scale(y=\"shared\")"
   ]
  },
  {
   "cell_type": "code",
   "execution_count": 12,
   "metadata": {},
   "outputs": [],
   "source": [
    "def parse_telework_freq(person, year):\n",
    "    if year == 2018:\n",
    "        replace_dict = {\n",
    "            1: \"5+\",\n",
    "            2: \"5+\",\n",
    "            3: \"4\",\n",
    "            4: \"2-3\",\n",
    "            5: \"1\",\n",
    "            6: \"0-1 (<1)\",\n",
    "            7: \"0-1 (<1)\",\n",
    "            8: \"0 (never)\",\n",
    "            995: None,\n",
    "        }\n",
    "    elif year == 2022:\n",
    "        replace_dict = {\n",
    "            1: \"5+\",\n",
    "            2: \"5+\",\n",
    "            3: \"4\",\n",
    "            4: \"2-3\",\n",
    "            5: \"2-3\",\n",
    "            6: \"1\",\n",
    "            7: \"0-1 (<1)\",\n",
    "            8: \"0-1 (<1)\",\n",
    "            996: \"0 (never)\",\n",
    "            995: None,\n",
    "        }\n",
    "    else:\n",
    "        raise NotImplementedError()\n",
    "    return person.with_columns(\n",
    "        telework_freq_days_per_week=pl.col(\"telework_freq\")\n",
    "        .replace_strict(replace_dict)\n",
    "        .replace(  # further simplifying/merging of categories\n",
    "            {\n",
    "                \"0 (never)\": \"0-1\",\n",
    "                \"0-1 (<1)\": \"0-1\",\n",
    "                \"1\": \"1\",\n",
    "                \"2-3\": \"2-3\",\n",
    "                \"4\": \"4\",\n",
    "                \"5+\": \"5+\",\n",
    "            }\n",
    "        )\n",
    "    )"
   ]
  },
  {
   "cell_type": "code",
   "execution_count": null,
   "metadata": {},
   "outputs": [],
   "source": [
    "telecommute_ne_core_df, telecommute_ne_core_chart = plot_dists(\n",
    "    parse_telework_freq(\n",
    "        person_2018.filter(pl.col(\"pw_geog\") == \"1. northeast core\"), 2018\n",
    "    ),\n",
    "    parse_telework_freq(\n",
    "        person_2022.filter(pl.col(\"pw_geog\") == \"1. northeast core\"), 2022\n",
    "    ),\n",
    "    \"persons working in NE core\",\n",
    "    \"telework_freq_days_per_week\",\n",
    ")\n",
    "telecommute_ne_core_chart"
   ]
  },
  {
   "cell_type": "code",
   "execution_count": 14,
   "metadata": {},
   "outputs": [],
   "source": [
    "telecommute_ne_core_df.write_csv(\"output/telework_freq-work_in_ne_core.csv\")"
   ]
  },
  {
   "cell_type": "code",
   "execution_count": 15,
   "metadata": {},
   "outputs": [],
   "source": [
    "# analysis for people working in rest of SF\n",
    "# plot_dists(\n",
    "#     parse_telework_freq(person_2018.filter((pl.col(\"pw_geog\") == \"2. rest of SF\") | (pl.col(\"pw_geog\") == \"1. northeast core\")), 2018),\n",
    "#     parse_telework_freq(person_2022.filter((pl.col(\"pw_geog\") == \"2. rest of SF\") | (pl.col(\"pw_geog\") == \"1. northeast core\")), 2022),\n",
    "#     \"persons working in entirety of SF\",\n",
    "#     \"telework_freq_days_per_week\"\n",
    "# )"
   ]
  },
  {
   "cell_type": "code",
   "execution_count": null,
   "metadata": {},
   "outputs": [],
   "source": [
    "alt.Chart(telecommute_ne_core_df).mark_bar().encode(\n",
    "    x=\"year:O\",\n",
    "    y=\"weighted\",\n",
    "    color=color_value_transit_teal,\n",
    "    column=\"telework_freq_days_per_week\",\n",
    ")"
   ]
  },
  {
   "cell_type": "code",
   "execution_count": null,
   "metadata": {},
   "outputs": [],
   "source": [
    "alt.Chart(telecommute_ne_core_df).mark_bar().encode(\n",
    "    x=\"year:O\",\n",
    "    y=\"telework_freq_days_per_week-share\",\n",
    "    color=color_value_transit_teal,\n",
    "    column=\"telework_freq_days_per_week\",\n",
    ")"
   ]
  }
 ],
 "metadata": {
  "kernelspec": {
   "display_name": "py312",
   "language": "python",
   "name": "python3"
  },
  "language_info": {
   "codemirror_mode": {
    "name": "ipython",
    "version": 3
   },
   "file_extension": ".py",
   "mimetype": "text/x-python",
   "name": "python",
   "nbconvert_exporter": "python",
   "pygments_lexer": "ipython3",
   "version": "3.12.3"
  }
 },
 "nbformat": 4,
 "nbformat_minor": 4
}
