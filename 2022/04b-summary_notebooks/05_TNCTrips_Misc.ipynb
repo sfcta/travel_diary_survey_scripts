{
 "cells": [
  {
   "cell_type": "code",
   "execution_count": null,
   "metadata": {},
   "outputs": [],
   "source": [
    "import pandas as pd\n",
    "from util_func import *\n",
    "from util_func import (\n",
    "    out_dir,\n",
    "    survey_processed_dir,\n",
    "    tour_extract_wkday_dir,\n",
    ")\n",
    "from xlsxwriter.utility import xl_rowcol_to_cell\n"
   ]
  },
  {
   "cell_type": "code",
   "execution_count": null,
   "metadata": {},
   "outputs": [],
   "source": [
    "out_filepath = out_dir / \"05_TNCTrips_Misc.xlsx\""
   ]
  },
  {
   "cell_type": "code",
   "execution_count": null,
   "metadata": {},
   "outputs": [],
   "source": [
    "## Process trip records\n",
    "raw_trips = pd.read_csv(survey_processed_dir / \"trip.csv\")\n",
    "raw_trips = raw_trips[\n",
    "    [\n",
    "        \"hh_id\",\n",
    "        \"person_num\",\n",
    "        \"trip_num\",\n",
    "        \"mode_uber\",\n",
    "        \"mode_lyft\",\n",
    "        \"tnc_decide\",\n",
    "        \"tnc_schedule\",\n",
    "        \"tnc_replace\",\n",
    "        \"tnc_pooled\",\n",
    "        \"mode_type_imputed\",\n",
    "    ]\n",
    "]\n",
    "raw_trips = raw_trips.rename(\n",
    "    columns={\"hh_id\": \"hhno\", \"person_num\": \"pno\", \"trip_num\": \"tsvid\"}\n",
    ")\n",
    "\n",
    "trip_df = pd.read_csv(tour_extract_wkday_dir / \"trips-assign_day.csv\")\n",
    "trip_df = link_dt(trip_df)\n",
    "trip_df = trip_df.loc[trip_df[\"mode\"] == 9,]\n",
    "trip_df = trip_dist_map(trip_df)\n",
    "trip_df = trip_df.merge(raw_trips, how=\"left\")\n",
    "trip_df = trip_df[trip_df[\"mode_type_imputed\"] != 4]  # remove taxi trips\n",
    "\n",
    "trip_df[\"tnc_type\"] = 3  # prem/other\n",
    "trip_df.loc[(trip_df[\"mode_uber\"] == 1) | (trip_df[\"mode_lyft\"] == 1), \"tnc_type\"] = (\n",
    "    1  # pooled\n",
    ")\n",
    "trip_df.loc[(trip_df[\"mode_uber\"] == 2) | (trip_df[\"mode_lyft\"] == 2), \"tnc_type\"] = (\n",
    "    2  # regular\n",
    ")\n",
    "\n",
    "trip_df[\"count\"] = 1\n",
    "trip_df = trip_df[(trip_df[\"trexpfac\"] > 0) & (trip_df[\"mode\"] > 0)]\n",
    "trip_df = trip_df[(trip_df[\"otaz\"] > 0) & (trip_df[\"dtaz\"] > 0)]"
   ]
  },
  {
   "cell_type": "code",
   "execution_count": null,
   "metadata": {},
   "outputs": [],
   "source": [
    "col_dict = {\n",
    "    \"altmode\": {\n",
    "        \"desc\": \"TNC_Alt\",\n",
    "        \"col\": \"tnc_replace\",\n",
    "        \"vals\": list(range(1, 8)) + [9, 10, 997, 995],\n",
    "        \"labels\": [\n",
    "            \"1_Taxi\",\n",
    "            \"2_DA\",\n",
    "            \"3_SR\",\n",
    "            \"4_Trn\",\n",
    "            \"5_WkBk\",\n",
    "            \"6_ODes\",\n",
    "            \"7_NoTrp\",\n",
    "            \"90_BART\",\n",
    "            \"91_OTrn\",\n",
    "            \"92_Oth\",\n",
    "            \"93_Miss\",\n",
    "        ],\n",
    "    },\n",
    "    \"when\": {\n",
    "        \"desc\": \"TNC_When\",\n",
    "        \"col\": \"tnc_decide\",\n",
    "        \"vals\": list(range(1, 6)) + [995],\n",
    "        \"labels\": [\n",
    "            \"1_RightBef\",\n",
    "            \"2_Hour\",\n",
    "            \"3_SameDay\",\n",
    "            \"4_PrevDay\",\n",
    "            \"5_2+Days\",\n",
    "            \"6_Miss\",\n",
    "        ],\n",
    "    },\n",
    "    \"sched\": {\n",
    "        \"desc\": \"TNC_Sched\",\n",
    "        \"col\": \"tnc_schedule\",\n",
    "        \"vals\": list(range(2)) + [995],\n",
    "        \"labels\": [\"1_No\", \"2_Yes\", \"3_Miss\"],\n",
    "    },\n",
    "    \"tncmode\": {\n",
    "        \"desc\": \"TNC_Mode\",\n",
    "        \"col\": \"tnc_type\",\n",
    "        \"vals\": range(1, 4),\n",
    "        \"labels\": [\"2_Pool\", \"1_Reg\", \"3_PremOth\"],\n",
    "    },\n",
    "}"
   ]
  },
  {
   "cell_type": "code",
   "execution_count": null,
   "metadata": {},
   "outputs": [],
   "source": [
    "writer = pd.ExcelWriter(out_filepath, engine=\"xlsxwriter\")\n",
    "workbook = writer.book\n",
    "format1 = workbook.add_format({\"num_format\": \"#,##0.0\"})"
   ]
  },
  {
   "cell_type": "code",
   "execution_count": null,
   "metadata": {},
   "outputs": [],
   "source": [
    "for key in [\"when\", \"sched\", \"altmode\", \"tncmode\"]:\n",
    "    d1_dict = col_dict[key]\n",
    "    row = 0\n",
    "    sname = d1_dict[\"desc\"]\n",
    "\n",
    "    title = \"TNC Trips by \" + d1_dict[\"desc\"]\n",
    "    tab = prep_data_1d(\n",
    "        trip_df,\n",
    "        d1_dict[\"desc\"],\n",
    "        d1_dict[\"col\"],\n",
    "        \"trexpfac\",\n",
    "        d1_dict[\"vals\"],\n",
    "        d1_dict[\"labels\"],\n",
    "    )\n",
    "    row = write_to_excel(tab, sname, title, row)\n",
    "\n",
    "    title = \"Column Shares by \" + d1_dict[\"desc\"]\n",
    "    row = write_to_excel(getSharesIdx(tab.copy()), sname, title, row)\n",
    "\n",
    "    tab2 = tab.copy()\n",
    "    tab2.iloc[-1, -1] = tab2.iloc[-1, 0]\n",
    "\n",
    "    title = \"Column Shares 95% CI by \" + d1_dict[\"desc\"]\n",
    "    row = write_to_excel(getSharesIdxCI95(tab.copy()), sname, title, row)\n",
    "\n",
    "    tab_range = xl_rowcol_to_cell(row, 1) + \":\" + xl_rowcol_to_cell(row, tab.shape[1])\n",
    "    _ = writer.sheets[sname].set_column(tab_range, 11, format1)"
   ]
  },
  {
   "cell_type": "code",
   "execution_count": null,
   "metadata": {},
   "outputs": [],
   "source": [
    "writer.close()"
   ]
  }
 ],
 "metadata": {
  "kernelspec": {
   "display_name": "Python 3",
   "language": "python",
   "name": "python3"
  },
  "language_info": {
   "codemirror_mode": {
    "name": "ipython",
    "version": 3
   },
   "file_extension": ".py",
   "mimetype": "text/x-python",
   "name": "python",
   "nbconvert_exporter": "python",
   "pygments_lexer": "ipython3",
   "version": "3.12.3"
  }
 },
 "nbformat": 4,
 "nbformat_minor": 4
}
