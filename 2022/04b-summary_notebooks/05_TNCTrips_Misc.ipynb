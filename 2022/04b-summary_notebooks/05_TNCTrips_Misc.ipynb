{
 "cells": [
  {
   "cell_type": "code",
   "execution_count": null,
   "metadata": {},
   "outputs": [],
   "source": [
    "import pandas as pd\n",
    "from utils import (\n",
    "    df_to_excel_col_dict,\n",
    "    filter_tnc_only,\n",
    "    getSharesIdx,\n",
    "    getSharesIdxCI95,\n",
    "    link_dt,\n",
    "    load_trip_assign_day,\n",
    "    load_trip_raw,\n",
    "    out_dir,\n",
    "    prep_data_1d,\n",
    "    tour_extract_wkday_dir,\n",
    "    trip_dist_map,\n",
    "    write_to_excel,\n",
    ")\n",
    "from xlsxwriter.utility import xl_rowcol_to_cell"
   ]
  },
  {
   "cell_type": "code",
   "execution_count": null,
   "metadata": {},
   "outputs": [],
   "source": [
    "out_filepath = out_dir / \"05_TNCTrips_Misc.xlsx\""
   ]
  },
  {
   "cell_type": "code",
   "execution_count": null,
   "metadata": {},
   "outputs": [],
   "source": [
    "## Process trip records\n",
    "trip = filter_tnc_only(\n",
    "    load_trip_assign_day(\n",
    "        tour_extract_wkday_dir / \"trip-assign_day.csv\", depart_hour=False\n",
    "    ),\n",
    "    load_trip_raw(num_travelers=False, tnc=True, transit_access_egress=False),\n",
    ").to_pandas()\n",
    "trip = link_dt(trip)\n",
    "trip = trip_dist_map(trip)"
   ]
  },
  {
   "cell_type": "code",
   "execution_count": null,
   "metadata": {},
   "outputs": [],
   "source": [
    "writer = pd.ExcelWriter(out_filepath, engine=\"xlsxwriter\")\n",
    "workbook = writer.book\n",
    "format1 = workbook.add_format({\"num_format\": \"#,##0.0\"})"
   ]
  },
  {
   "cell_type": "code",
   "execution_count": null,
   "metadata": {},
   "outputs": [],
   "source": [
    "for key in [\"tnc_type\"]:  # TODO add back in tnc_replace\n",
    "    d1_dict = df_to_excel_col_dict[key]\n",
    "    row = 0\n",
    "    sname = d1_dict[\"desc\"]\n",
    "\n",
    "    title = \"TNC Trips by \" + d1_dict[\"desc\"]\n",
    "    tab = prep_data_1d(\n",
    "        trip,\n",
    "        d1_dict[\"desc\"],\n",
    "        d1_dict[\"col\"],\n",
    "        \"trexpfac\",\n",
    "        d1_dict[\"vals\"],\n",
    "        d1_dict[\"labels\"],\n",
    "    )\n",
    "    row = write_to_excel(writer, tab, sname, title, row)\n",
    "\n",
    "    title = \"Column Shares by \" + d1_dict[\"desc\"]\n",
    "    row = write_to_excel(writer, getSharesIdx(tab.copy()), sname, title, row)\n",
    "\n",
    "    tab2 = tab.copy()\n",
    "    tab2.iloc[-1, -1] = tab2.iloc[-1, 0]\n",
    "\n",
    "    title = \"Column Shares 95% CI by \" + d1_dict[\"desc\"]\n",
    "    row = write_to_excel(writer, getSharesIdxCI95(tab.copy()), sname, title, row)\n",
    "\n",
    "    tab_range = xl_rowcol_to_cell(row, 1) + \":\" + xl_rowcol_to_cell(row, tab.shape[1])\n",
    "    _ = writer.sheets[sname].set_column(tab_range, 11, format1)"
   ]
  },
  {
   "cell_type": "code",
   "execution_count": null,
   "metadata": {},
   "outputs": [],
   "source": [
    "writer.close()"
   ]
  }
 ],
 "metadata": {
  "kernelspec": {
   "display_name": "Python 3",
   "language": "python",
   "name": "python3"
  },
  "language_info": {
   "codemirror_mode": {
    "name": "ipython",
    "version": 3
   },
   "file_extension": ".py",
   "mimetype": "text/x-python",
   "name": "python",
   "nbconvert_exporter": "python",
   "pygments_lexer": "ipython3",
   "version": "3.12.3"
  }
 },
 "nbformat": 4,
 "nbformat_minor": 4
}
