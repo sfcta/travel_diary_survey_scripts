{
 "cells": [
  {
   "cell_type": "code",
   "execution_count": null,
   "metadata": {},
   "outputs": [],
   "source": [
    "import pandas as pd\n",
    "from utils import (\n",
    "    df_to_excel_col_dict,\n",
    "    getRowSharesIdx,\n",
    "    load_hh_raw,\n",
    "    load_person_assign_day,\n",
    "    out_dir,\n",
    "    prep_data_2d,\n",
    "    tour_extract_wkday_dir,\n",
    "    write_to_excel,\n",
    ")\n",
    "from xlsxwriter.utility import xl_rowcol_to_cell"
   ]
  },
  {
   "cell_type": "code",
   "execution_count": null,
   "metadata": {},
   "outputs": [],
   "source": [
    "out_filepath = out_dir / \"11_Person_Attr.xlsx\""
   ]
  },
  {
   "cell_type": "code",
   "execution_count": null,
   "metadata": {},
   "outputs": [],
   "source": [
    "hh = load_hh_raw(income=True, home_county=True)\n",
    "person = (\n",
    "    load_person_assign_day(\n",
    "        tour_extract_wkday_dir / \"person-assign_day.csv\", demographics=True\n",
    "    )\n",
    "    .join(hh, on=\"hhno\", how=\"left\")\n",
    "    .to_pandas()\n",
    ")"
   ]
  },
  {
   "cell_type": "code",
   "execution_count": null,
   "metadata": {},
   "outputs": [],
   "source": [
    "writer = pd.ExcelWriter(out_filepath, engine=\"xlsxwriter\")\n",
    "workbook = writer.book\n",
    "format1 = workbook.add_format({\"num_format\": \"#,##0.0\"})"
   ]
  },
  {
   "cell_type": "code",
   "execution_count": null,
   "metadata": {},
   "outputs": [],
   "source": [
    "wt_cols = [\"count\", \"psexpfac\"]\n",
    "wt_desc = [\"(Unweighted)\", \"(Weighted)\"]\n",
    "\n",
    "d1_dict = df_to_excel_col_dict[\"home_county\"]\n",
    "for key in [\"raceeth\", \"hh_income_broad_cat\", \"pagey\", \"pgend\"]:\n",
    "    d2_dict = df_to_excel_col_dict[key]\n",
    "    row = 0\n",
    "    sname = d2_dict[\"desc\"]\n",
    "\n",
    "    for wc, wd in zip(wt_cols, wt_desc):\n",
    "        title = \"Persons by \" + d2_dict[\"desc\"] + \" and \" + d1_dict[\"desc\"] + \" \" + wd\n",
    "        tab = prep_data_2d(\n",
    "            person,\n",
    "            d1_dict[\"col\"],\n",
    "            d1_dict[\"vals\"],\n",
    "            d1_dict[\"labels\"],\n",
    "            d2_dict[\"col\"],\n",
    "            d2_dict[\"vals\"],\n",
    "            d2_dict[\"labels\"],\n",
    "            wc,\n",
    "        )\n",
    "        row = write_to_excel(writer, tab.astype(\"float64\"), sname, title, row)\n",
    "\n",
    "        title = (\n",
    "            \"Row Shares by \" + d2_dict[\"desc\"] + \" and \" + d1_dict[\"desc\"] + \" \" + wd\n",
    "        )\n",
    "        row = write_to_excel(writer, getRowSharesIdx(tab.copy()), sname, title, row)\n",
    "\n",
    "    tab_range = xl_rowcol_to_cell(row, 1) + \":\" + xl_rowcol_to_cell(row, tab.shape[1])\n",
    "    _ = writer.sheets[sname].set_column(tab_range, 11, format1)"
   ]
  },
  {
   "cell_type": "code",
   "execution_count": null,
   "metadata": {},
   "outputs": [],
   "source": [
    "writer.close()"
   ]
  }
 ],
 "metadata": {
  "kernelspec": {
   "display_name": "Python 3",
   "language": "python",
   "name": "python3"
  },
  "language_info": {
   "codemirror_mode": {
    "name": "ipython",
    "version": 3
   },
   "file_extension": ".py",
   "mimetype": "text/x-python",
   "name": "python",
   "nbconvert_exporter": "python",
   "pygments_lexer": "ipython3",
   "version": "3.12.3"
  }
 },
 "nbformat": 4,
 "nbformat_minor": 4
}
