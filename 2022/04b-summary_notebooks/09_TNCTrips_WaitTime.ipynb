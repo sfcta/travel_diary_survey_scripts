{
 "cells": [
  {
   "cell_type": "code",
   "execution_count": null,
   "metadata": {},
   "outputs": [],
   "source": [
    "%load_ext autoreload"
   ]
  },
  {
   "cell_type": "code",
   "execution_count": null,
   "metadata": {},
   "outputs": [],
   "source": [
    "%autoreload\n",
    "import pandas as pd\n",
    "import polars as pl\n",
    "from utils import (\n",
    "    agg_tnc,\n",
    "    df_to_excel_col_dict,\n",
    "    load_hh_raw,\n",
    "    load_person_assign_day,\n",
    "    load_tnc_trips,\n",
    "    out_dir,\n",
    "    tour_extract_wkday_dir,\n",
    "    trip_join_hh_person,\n",
    "    write_to_excel,\n",
    ")\n",
    "from xlsxwriter.utility import xl_rowcol_to_cell\n"
   ]
  },
  {
   "cell_type": "code",
   "execution_count": null,
   "metadata": {},
   "outputs": [],
   "source": [
    "out_filepath = out_dir / \"09_TNCTrips_WaitTime.xlsx\""
   ]
  },
  {
   "cell_type": "code",
   "execution_count": null,
   "metadata": {},
   "outputs": [],
   "source": [
    "trip = trip_join_hh_person(\n",
    "    pl.from_pandas(load_tnc_trips(tour_extract_wkday_dir, tnc_wait_time=True)).filter(\n",
    "        pl.col(\"tnc_wait_time\") < 100\n",
    "    ),\n",
    "    load_hh_raw(income=True, home_county=False),\n",
    "    # TODO do we have to load person-assign_day, or can we just load 2a person-reformat?\n",
    "    load_person_assign_day(  # TODO add back race/ethnicity\n",
    "        tour_extract_wkday_dir / \"person-assign_day.csv\", demographics=True\n",
    "    ),\n",
    ").to_pandas()"
   ]
  },
  {
   "cell_type": "code",
   "execution_count": null,
   "metadata": {},
   "outputs": [],
   "source": [
    "writer = pd.ExcelWriter(out_filepath, engine=\"xlsxwriter\")\n",
    "workbook = writer.book\n",
    "format1 = workbook.add_format({\"num_format\": \"#,##0.0\"})"
   ]
  },
  {
   "cell_type": "code",
   "execution_count": null,
   "metadata": {},
   "outputs": [],
   "source": [
    "PREF = \"Weekday Avg TNC Wait Time by \"\n",
    "for key in [\"raceeth\", \"hh_income_broad_cat\", \"pagey\", \"pgend\", \"tnc_type\"]:\n",
    "    d1_dict = df_to_excel_col_dict[key]\n",
    "    row = 0\n",
    "    sname = d1_dict[\"desc\"]\n",
    "    title = PREF + d1_dict[\"desc\"]\n",
    "    tab = agg_tnc(\n",
    "        trip, d1_dict[\"col\"], d1_dict[\"vals\"], d1_dict[\"labels\"], \"tnc_wait_time\"\n",
    "    )\n",
    "    row = write_to_excel(writer, tab, sname, title, row)\n",
    "    tab_range = xl_rowcol_to_cell(row, 1) + \":\" + xl_rowcol_to_cell(row, tab.shape[1])\n",
    "    writer.sheets[sname].set_column(tab_range, 18, format1)"
   ]
  },
  {
   "cell_type": "code",
   "execution_count": null,
   "metadata": {},
   "outputs": [],
   "source": [
    "writer.close()"
   ]
  }
 ],
 "metadata": {
  "kernelspec": {
   "display_name": "Python 3",
   "language": "python",
   "name": "python3"
  },
  "language_info": {
   "codemirror_mode": {
    "name": "ipython",
    "version": 3
   },
   "file_extension": ".py",
   "mimetype": "text/x-python",
   "name": "python",
   "nbconvert_exporter": "python",
   "pygments_lexer": "ipython3",
   "version": "3.12.3"
  }
 },
 "nbformat": 4,
 "nbformat_minor": 4
}
