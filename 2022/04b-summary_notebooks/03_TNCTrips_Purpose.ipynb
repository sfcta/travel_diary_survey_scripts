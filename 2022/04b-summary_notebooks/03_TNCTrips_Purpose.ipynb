{
 "cells": [
  {
   "cell_type": "code",
   "execution_count": null,
   "metadata": {},
   "outputs": [],
   "source": [
    "%load_ext autoreload"
   ]
  },
  {
   "cell_type": "code",
   "execution_count": null,
   "metadata": {},
   "outputs": [],
   "source": [
    "%autoreload\n",
    "import pandas as pd\n",
    "from utils import (\n",
    "    df_to_excel_col_dict,\n",
    "    filter_tnc_only,\n",
    "    getSharesIdx,\n",
    "    getSharesIdxCI95,\n",
    "    link_dt,\n",
    "    load_hh_raw,\n",
    "    load_person_reformat,\n",
    "    load_trip_assign_day,\n",
    "    load_trip_raw,\n",
    "    out_dir,\n",
    "    prep_data_1d,\n",
    "    prep_data_2d,\n",
    "    reformat_dir,\n",
    "    survey_processed_dir,\n",
    "    tour_extract_allwk_dir,\n",
    "    tour_extract_wkday_dir,\n",
    "    trip_join_hh_person,\n",
    "    write_to_excel,\n",
    ")\n",
    "from xlsxwriter.utility import xl_rowcol_to_cell\n"
   ]
  },
  {
   "cell_type": "code",
   "execution_count": null,
   "metadata": {},
   "outputs": [],
   "source": [
    "hh_raw_filepath = survey_processed_dir / \"hh.csv\"\n",
    "person_reformat_filepath = reformat_dir / \"person-reformat.csv\"\n",
    "out_filepath = out_dir / \"03_TNCTrips_Purpose.xlsx\""
   ]
  },
  {
   "cell_type": "code",
   "execution_count": null,
   "metadata": {},
   "outputs": [],
   "source": [
    "weighted = False"
   ]
  },
  {
   "cell_type": "code",
   "execution_count": null,
   "metadata": {},
   "outputs": [],
   "source": [
    "hh = load_hh_raw(hh_raw_filepath)\n",
    "person = load_person_reformat(person_reformat_filepath)\n",
    "trip_raw = trip_join_hh_person(\n",
    "    load_trip_raw(tnc=True, transit_access_egress=False), hh, person\n",
    ")\n",
    "# also load weight vars, but weights not available yet:\n",
    "# \"wt_alladult_mon\",\n",
    "# \"wt_alladult_tue\",\n",
    "# \"wt_alladult_wed\",\n",
    "# \"wt_alladult_thu\",\n",
    "# \"wt_alladult_fri\",\n",
    "# \"wt_alladult_sat\",\n",
    "# \"wt_alladult_sun\","
   ]
  },
  {
   "cell_type": "code",
   "execution_count": null,
   "metadata": {},
   "outputs": [],
   "source": [
    "def process_trip(trip_assign_day_filepath, trip_raw):\n",
    "    trip = filter_tnc_only(\n",
    "        load_trip_assign_day(trip_assign_day_filepath),\n",
    "        trip_raw,\n",
    "    ).to_pandas()\n",
    "    trip = link_dt(trip)\n",
    "    return trip"
   ]
  },
  {
   "cell_type": "code",
   "execution_count": null,
   "metadata": {},
   "outputs": [],
   "source": [
    "writer = pd.ExcelWriter(out_filepath, engine=\"xlsxwriter\")\n",
    "workbook = writer.book\n",
    "format1 = workbook.add_format({\"num_format\": \"#,##0.0\"})"
   ]
  },
  {
   "cell_type": "code",
   "execution_count": null,
   "metadata": {},
   "outputs": [],
   "source": [
    "# process weekdat trip records\n",
    "trip = process_trip(tour_extract_wkday_dir / \"trip-assign_day.csv\", trip_raw)"
   ]
  },
  {
   "cell_type": "code",
   "execution_count": null,
   "metadata": {},
   "outputs": [],
   "source": [
    "row = 0\n",
    "sname = \"Weekday\"\n",
    "d1_dict = df_to_excel_col_dict[\"dpurp\"]\n",
    "\n",
    "title = \"TNC Trips by \" + d1_dict[\"desc\"]\n",
    "tab = prep_data_1d(\n",
    "    trip,\n",
    "    d1_dict[\"desc\"],\n",
    "    d1_dict[\"col\"],\n",
    "    \"trexpfac\",\n",
    "    d1_dict[\"vals\"],\n",
    "    d1_dict[\"labels\"],\n",
    ")\n",
    "row = write_to_excel(writer, tab, sname, title, row)\n",
    "\n",
    "title = \"Column Shares by \" + d1_dict[\"desc\"]\n",
    "row = write_to_excel(writer, getSharesIdx(tab.copy()), sname, title, row)\n",
    "\n",
    "tab2 = tab.copy()\n",
    "tab2.iloc[-1, -1] = tab2.iloc[-1, 0]\n",
    "\n",
    "title = \"Column Shares 95% CI by \" + d1_dict[\"desc\"]\n",
    "row = write_to_excel(writer, getSharesIdxCI95(tab.copy()), sname, title, row)\n",
    "\n",
    "tab_range = xl_rowcol_to_cell(row, 1) + \":\" + xl_rowcol_to_cell(row, tab.shape[1])\n",
    "_ = writer.sheets[sname].set_column(tab_range, 11, format1)"
   ]
  },
  {
   "cell_type": "code",
   "execution_count": null,
   "metadata": {},
   "outputs": [],
   "source": [
    "wt_cols = [\"count\", \"trexpfac\"]\n",
    "wt_desc = [\"(Unweighted)\", \"(Weighted)\"]\n",
    "\n",
    "# TODO add back raceeth\n",
    "for key in [\"depart_hour\", \"hh_income_broad_cat\", \"pagey\", \"pgend\", \"tnc_type\"]:\n",
    "    d2_dict = df_to_excel_col_dict[key]\n",
    "    row = 0\n",
    "    sname = d2_dict[\"desc\"]\n",
    "\n",
    "    for wc, wd in zip(wt_cols, wt_desc):\n",
    "        title = \"TNC Trips by \" + d2_dict[\"desc\"] + \" and \" + d1_dict[\"desc\"] + \" \" + wd\n",
    "        tab = prep_data_2d(\n",
    "            trip,\n",
    "            d1_dict[\"col\"],\n",
    "            d1_dict[\"vals\"],\n",
    "            d1_dict[\"labels\"],\n",
    "            d2_dict[\"col\"],\n",
    "            d2_dict[\"vals\"],\n",
    "            d2_dict[\"labels\"],\n",
    "            wc,\n",
    "        )\n",
    "        row = write_to_excel(writer, tab.astype(\"float64\"), sname, title, row)\n",
    "\n",
    "        if wc == \"count\":\n",
    "            tab2 = tab.copy()\n",
    "        else:\n",
    "            tab2.iloc[:-1, :-1] = tab.iloc[:-1, :-1]\n",
    "\n",
    "        title = (\n",
    "            \"Column Shares by \" + d2_dict[\"desc\"] + \" and \" + d1_dict[\"desc\"] + \" \" + wd\n",
    "        )\n",
    "        row = write_to_excel(writer, getSharesIdx(tab.copy()), sname, title, row)\n",
    "\n",
    "        title = (\n",
    "            \"Column Shares 95% CI by \"\n",
    "            + d2_dict[\"desc\"]\n",
    "            + \" and \"\n",
    "            + d1_dict[\"desc\"]\n",
    "            + \" \"\n",
    "            + wd\n",
    "        )\n",
    "        row = write_to_excel(writer, getSharesIdxCI95(tab2.copy()), sname, title, row)\n",
    "    tab_range = xl_rowcol_to_cell(row, 1) + \":\" + xl_rowcol_to_cell(row, tab.shape[1])\n",
    "    _ = writer.sheets[sname].set_column(tab_range, 11, format1)"
   ]
  },
  {
   "cell_type": "code",
   "execution_count": null,
   "metadata": {},
   "outputs": [],
   "source": [
    "## Process all week trip records\n",
    "trip = process_trip(tour_extract_allwk_dir / \"trip-assign_day.csv\", trip_raw)\n",
    "\n",
    "if weighted:\n",
    "    DOW_LOOKUP = {1: \"mon\", 2: \"tue\", 3: \"wed\", 4: \"thu\", 5: \"fri\", 6: \"sat\", 7: \"sun\"}\n",
    "    trip[\"trexpfac\"] = 0\n",
    "    for dow_num, dow in DOW_LOOKUP.items():\n",
    "        trip.loc[trip[\"day\"] == dow_num, \"trexpfac\"] = trip.loc[\n",
    "            trip[\"day\"] == dow_num, \"wt_alladult_\" + dow\n",
    "        ]\n",
    "    trip[\"trexpfac\"] = trip[\"trexpfac\"].fillna(0)"
   ]
  },
  {
   "cell_type": "code",
   "execution_count": null,
   "metadata": {},
   "outputs": [],
   "source": [
    "row = 0\n",
    "sname = \"DOW\"\n",
    "d2_dict = df_to_excel_col_dict[\"day\"]"
   ]
  },
  {
   "cell_type": "code",
   "execution_count": null,
   "metadata": {},
   "outputs": [],
   "source": [
    "for wc, wd in zip(wt_cols, wt_desc):\n",
    "    title = \"TNC Trips by \" + d2_dict[\"desc\"] + \" and \" + d1_dict[\"desc\"] + \" \" + wd\n",
    "    tab = prep_data_2d(\n",
    "        trip,\n",
    "        d1_dict[\"col\"],\n",
    "        d1_dict[\"vals\"],\n",
    "        d1_dict[\"labels\"],\n",
    "        d2_dict[\"col\"],\n",
    "        d2_dict[\"vals\"],\n",
    "        d2_dict[\"labels\"],\n",
    "        wc,\n",
    "    )\n",
    "    row = write_to_excel(writer, tab.astype(\"float64\"), sname, title, row)\n",
    "\n",
    "    if wc == \"count\":\n",
    "        tab2 = tab.copy()\n",
    "    else:\n",
    "        tab2.iloc[:-1, :-1] = tab.iloc[:-1, :-1]\n",
    "\n",
    "    title = \"Column Shares by \" + d2_dict[\"desc\"] + \" and \" + d1_dict[\"desc\"] + \" \" + wd\n",
    "    row = write_to_excel(writer, getSharesIdx(tab.copy()), sname, title, row)\n",
    "\n",
    "    title = (\n",
    "        \"Column Shares 95% CI by \"\n",
    "        + d2_dict[\"desc\"]\n",
    "        + \" and \"\n",
    "        + d1_dict[\"desc\"]\n",
    "        + \" \"\n",
    "        + wd\n",
    "    )\n",
    "    row = write_to_excel(writer, getSharesIdxCI95(tab2.copy()), sname, title, row)\n",
    "tab_range = xl_rowcol_to_cell(row, 1) + \":\" + xl_rowcol_to_cell(row, tab.shape[1])\n",
    "_ = writer.sheets[sname].set_column(tab_range, 11, format1)"
   ]
  },
  {
   "cell_type": "code",
   "execution_count": null,
   "metadata": {},
   "outputs": [],
   "source": [
    "writer.close()"
   ]
  }
 ],
 "metadata": {
  "kernelspec": {
   "display_name": "Python 3",
   "language": "python",
   "name": "python3"
  },
  "language_info": {
   "codemirror_mode": {
    "name": "ipython",
    "version": 3
   },
   "file_extension": ".py",
   "mimetype": "text/x-python",
   "name": "python",
   "nbconvert_exporter": "python",
   "pygments_lexer": "ipython3",
   "version": "3.12.3"
  }
 },
 "nbformat": 4,
 "nbformat_minor": 4
}
