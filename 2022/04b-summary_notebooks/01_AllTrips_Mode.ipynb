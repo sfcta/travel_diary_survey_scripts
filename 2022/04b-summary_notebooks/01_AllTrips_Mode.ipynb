{
 "cells": [
  {
   "cell_type": "code",
   "execution_count": null,
   "metadata": {},
   "outputs": [],
   "source": [
    "from pathlib import Path\n",
    "\n",
    "import pandas as pd\n",
    "from util_func import *\n",
    "from xlsxwriter.utility import xl_rowcol_to_cell"
   ]
  },
  {
   "cell_type": "code",
   "execution_count": null,
   "metadata": {},
   "outputs": [],
   "source": [
    "survey_processed_dir = Path(\n",
    "    \"Q:/Data/Surveys/HouseholdSurveys/MTC-SFCTA2022/Processed_20240329\"\n",
    ")\n",
    "reformat_dir = survey_processed_dir / \"02-reformat\"\n",
    "tour_extract_wkday_dir = survey_processed_dir / \"03-tour_extract\" / \"wt_wkday\"\n",
    "tour_extract_allwk_dir = survey_processed_dir / \"03-tour_extract\" / \"wt_7day\"\n",
    "out_dir = survey_processed_dir / \"04b-summary_notebooks\"\n",
    "out_dir.mkdir(exist_ok=True)\n",
    "out_filepath = out_dir / \"01_AllTrips_Mode.xlsx\""
   ]
  },
  {
   "cell_type": "code",
   "execution_count": null,
   "metadata": {},
   "outputs": [],
   "source": [
    "## Process trip records\n",
    "trip_df = pd.read_csv(tour_extract_wkday_dir / \"trip-assign_day.csv\")\n",
    "trip_df = link_dt(trip_df)\n",
    "trip_df[\"count\"] = 1\n",
    "trip_df = trip_df[(trip_df[\"trexpfac\"] > 0) & (trip_df[\"mode\"] > 0)]\n",
    "trip_df = trip_df[(trip_df[\"otaz\"] > 0) & (trip_df[\"dtaz\"] > 0)]"
   ]
  },
  {
   "cell_type": "code",
   "execution_count": null,
   "metadata": {},
   "outputs": [],
   "source": [
    "col_dict = {\n",
    "    \"mode\": {\n",
    "        \"desc\": \"Mode\",\n",
    "        \"col\": \"mode\",\n",
    "        \"vals\": range(1, 10),\n",
    "        \"labels\": [\n",
    "            \"7_Wk\",\n",
    "            \"8_Bk\",\n",
    "            \"1_DA\",\n",
    "            \"2_SOV2\",\n",
    "            \"3_SOV3\",\n",
    "            \"5_WTrn\",\n",
    "            \"6_DTrn\",\n",
    "            \"9_SBus\",\n",
    "            \"4_TNC\",\n",
    "        ],\n",
    "    },\n",
    "    \"day\": {\n",
    "        \"desc\": \"DOW\",\n",
    "        \"col\": \"day\",\n",
    "        \"vals\": range(6, 8),\n",
    "        \"labels\": [\"6_Sat\", \"7_Sun\"],\n",
    "    },\n",
    "}"
   ]
  },
  {
   "cell_type": "code",
   "execution_count": null,
   "metadata": {},
   "outputs": [],
   "source": [
    "writer = pd.ExcelWriter(out_filepath, engine=\"xlsxwriter\")\n",
    "workbook = writer.book\n",
    "# format1 = workbook.add_format({\"num_format\": \"#,##0.0\"})"
   ]
  },
  {
   "cell_type": "code",
   "execution_count": null,
   "metadata": {},
   "outputs": [],
   "source": [
    "row = 0\n",
    "sname = \"Weekday\"\n",
    "d1_dict = col_dict[\"mode\"]\n",
    "\n",
    "title = \"All Trips by \" + d1_dict[\"desc\"]\n",
    "tab = prep_data_1d(\n",
    "    trip_df,\n",
    "    d1_dict[\"desc\"],\n",
    "    d1_dict[\"col\"],\n",
    "    \"trexpfac\",\n",
    "    d1_dict[\"vals\"],\n",
    "    d1_dict[\"labels\"],\n",
    ")\n",
    "row = write_to_excel(writer, tab, sname, title, row)\n",
    "\n",
    "title = \"Column Shares by \" + d1_dict[\"desc\"]\n",
    "row = write_to_excel(writer, getSharesIdx(tab.copy()), sname, title, row)\n",
    "\n",
    "tab2 = tab.copy()\n",
    "tab2.iloc[-1, -1] = tab2.iloc[-1, 0]\n",
    "\n",
    "title = \"Column Shares 95% CI by \" + d1_dict[\"desc\"]\n",
    "row = write_to_excel(writer, getSharesIdxCI95(tab.copy()), sname, title, row)\n",
    "\n",
    "tab_range = xl_rowcol_to_cell(row, 1) + \":\" + xl_rowcol_to_cell(row, tab.shape[1])\n",
    "_ = writer.sheets[sname].set_column(tab_range, 11)  # , format1)"
   ]
  },
  {
   "cell_type": "code",
   "execution_count": null,
   "metadata": {},
   "outputs": [],
   "source": [
    "# Process all week trip records\n",
    "trip_df = pd.read_csv(tour_extract_allwk_dir / \"trip-assign_day.csv\")\n",
    "trip_df = link_dt(trip_df)\n",
    "trip_df[\"count\"] = 1\n",
    "trip_df = trip_df[(trip_df[\"trexpfac\"] > 0) & (trip_df[\"mode\"] > 0)]\n",
    "trip_df = trip_df[(trip_df[\"otaz\"] > 0) & (trip_df[\"dtaz\"] > 0)]"
   ]
  },
  {
   "cell_type": "code",
   "execution_count": null,
   "metadata": {},
   "outputs": [],
   "source": [
    "row = 0\n",
    "sname = \"Weekend\"\n",
    "d1_dict = col_dict[\"mode\"]\n",
    "d2_dict = col_dict[\"day\"]\n",
    "\n",
    "wt_cols = [\"count\", \"trexpfac\"]\n",
    "wt_desc = [\"(Unweighted)\", \"(Weighted)\"]\n",
    "\n",
    "for wc, wd in zip(wt_cols, wt_desc):\n",
    "    title = \"All Trips by \" + d2_dict[\"desc\"] + \" and \" + d1_dict[\"desc\"] + \" \" + wd\n",
    "    tab = prep_data_2d(\n",
    "        trip_df,\n",
    "        d1_dict[\"col\"],\n",
    "        d1_dict[\"vals\"],\n",
    "        d1_dict[\"labels\"],\n",
    "        d2_dict[\"col\"],\n",
    "        d2_dict[\"vals\"],\n",
    "        d2_dict[\"labels\"],\n",
    "        wc,\n",
    "    )\n",
    "    row = write_to_excel(writer, tab.astype(\"float64\"), sname, title, row)\n",
    "\n",
    "    if wc == \"count\":\n",
    "        tab2 = tab.copy()\n",
    "    else:\n",
    "        tab2.iloc[:-1, :-1] = tab.iloc[:-1, :-1]\n",
    "\n",
    "    title = \"Column Shares by \" + d2_dict[\"desc\"] + \" and \" + d1_dict[\"desc\"] + \" \" + wd\n",
    "    row = write_to_excel(writer, getSharesIdx(tab.copy()), sname, title, row)\n",
    "\n",
    "    title = (\n",
    "        \"Column Shares 95% CI by \"\n",
    "        + d2_dict[\"desc\"]\n",
    "        + \" and \"\n",
    "        + d1_dict[\"desc\"]\n",
    "        + \" \"\n",
    "        + wd\n",
    "    )\n",
    "    row = write_to_excel(writer, getSharesIdxCI95(tab2.copy()), sname, title, row)\n",
    "tab_range = xl_rowcol_to_cell(row, 1) + \":\" + xl_rowcol_to_cell(row, tab.shape[1])\n",
    "_ = writer.sheets[sname].set_column(tab_range, 11)  # , format1)"
   ]
  },
  {
   "cell_type": "code",
   "execution_count": null,
   "metadata": {},
   "outputs": [],
   "source": [
    "writer.close()"
   ]
  }
 ],
 "metadata": {
  "kernelspec": {
   "display_name": "Python 3",
   "language": "python",
   "name": "python3"
  },
  "language_info": {
   "codemirror_mode": {
    "name": "ipython",
    "version": 3
   },
   "file_extension": ".py",
   "mimetype": "text/x-python",
   "name": "python",
   "nbconvert_exporter": "python",
   "pygments_lexer": "ipython3",
   "version": "3.12.3"
  }
 },
 "nbformat": 4,
 "nbformat_minor": 4
}
