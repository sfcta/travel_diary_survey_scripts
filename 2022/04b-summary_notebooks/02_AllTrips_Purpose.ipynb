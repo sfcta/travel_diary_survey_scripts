{
 "cells": [
  {
   "cell_type": "code",
   "execution_count": null,
   "metadata": {},
   "outputs": [],
   "source": [
    "%load_ext autoreload"
   ]
  },
  {
   "cell_type": "code",
   "execution_count": null,
   "metadata": {},
   "outputs": [],
   "source": [
    "%autoreload\n",
    "import pandas as pd\n",
    "from utils import (\n",
    "    df_to_excel_col_dict,\n",
    "    getSharesIdx,\n",
    "    getSharesIdxCI95,\n",
    "    load_hh_raw,\n",
    "    load_person_demographics,\n",
    "    load_trip_assign_day,\n",
    "    out_dir,\n",
    "    prep_data_1d,\n",
    "    prep_data_2d,\n",
    "    tour_extract_allwk_dir,\n",
    "    tour_extract_wkday_dir,\n",
    "    trip_join_hh_person,\n",
    "    write_to_excel,\n",
    ")\n",
    "from xlsxwriter.utility import xl_rowcol_to_cell\n"
   ]
  },
  {
   "cell_type": "code",
   "execution_count": null,
   "metadata": {},
   "outputs": [],
   "source": [
    "out_filepath = out_dir / \"02_AllTrips_Purpose.xlsx\""
   ]
  },
  {
   "cell_type": "code",
   "execution_count": null,
   "metadata": {},
   "outputs": [],
   "source": [
    "hh = load_hh_raw(income=True, home_county=False)\n",
    "person = load_person_demographics()"
   ]
  },
  {
   "cell_type": "code",
   "execution_count": null,
   "metadata": {},
   "outputs": [],
   "source": [
    "writer = pd.ExcelWriter(out_filepath, engine=\"xlsxwriter\")\n",
    "workbook = writer.book\n",
    "format1 = workbook.add_format({\"num_format\": \"#,##0.0\"})"
   ]
  },
  {
   "cell_type": "code",
   "execution_count": null,
   "metadata": {},
   "outputs": [],
   "source": [
    "trip = trip_join_hh_person(\n",
    "    load_trip_assign_day(\n",
    "        tour_extract_wkday_dir / \"trip-assign_day.csv\", depart_hour=True\n",
    "    ),\n",
    "    hh,\n",
    "    person,\n",
    ").to_pandas()"
   ]
  },
  {
   "cell_type": "code",
   "execution_count": null,
   "metadata": {},
   "outputs": [],
   "source": [
    "row = 0\n",
    "sname = \"Weekday\"\n",
    "d1_dict = df_to_excel_col_dict[\"dpurp\"]\n",
    "title = \"All Trips by \" + d1_dict[\"desc\"]\n",
    "\n",
    "tab = prep_data_1d(\n",
    "    trip,\n",
    "    d1_dict[\"desc\"],\n",
    "    d1_dict[\"col\"],\n",
    "    \"trexpfac\",\n",
    "    d1_dict[\"vals\"],\n",
    "    d1_dict[\"labels\"],\n",
    ")\n",
    "row = write_to_excel(writer, tab, sname, title, row)\n",
    "title = \"Column Shares by \" + d1_dict[\"desc\"]\n",
    "row = write_to_excel(writer, getSharesIdx(tab.copy()), sname, title, row)\n",
    "tab2 = tab.copy()\n",
    "tab2.iloc[-1, -1] = tab2.iloc[-1, 0]\n",
    "title = \"Column Shares 95% CI by \" + d1_dict[\"desc\"]\n",
    "row = write_to_excel(writer, getSharesIdxCI95(tab.copy()), sname, title, row)\n",
    "tab_range = xl_rowcol_to_cell(row, 1) + \":\" + xl_rowcol_to_cell(row, tab.shape[1])\n",
    "_ = writer.sheets[sname].set_column(tab_range, 11, format1)"
   ]
  },
  {
   "cell_type": "code",
   "execution_count": null,
   "metadata": {},
   "outputs": [],
   "source": [
    "wt_cols = [\"count\", \"trexpfac\"]\n",
    "wt_desc = [\"(Unweighted)\", \"(Weighted)\"]\n",
    "\n",
    "for key in [\"depart_hour\", \"raceeth\", \"hh_income_broad_cat\", \"pagey\", \"pgend\"]:\n",
    "    d2_dict = df_to_excel_col_dict[key]\n",
    "    row = 0\n",
    "    sname = d2_dict[\"desc\"]\n",
    "\n",
    "    for wc, wd in zip(wt_cols, wt_desc):\n",
    "        title = \"All Trips by \" + d2_dict[\"desc\"] + \" and \" + d1_dict[\"desc\"] + \" \" + wd\n",
    "        tab = prep_data_2d(\n",
    "            trip,\n",
    "            d1_dict[\"col\"],\n",
    "            d1_dict[\"vals\"],\n",
    "            d1_dict[\"labels\"],\n",
    "            d2_dict[\"col\"],\n",
    "            d2_dict[\"vals\"],\n",
    "            d2_dict[\"labels\"],\n",
    "            wc,\n",
    "        )\n",
    "        row = write_to_excel(writer, tab.astype(\"float64\"), sname, title, row)\n",
    "\n",
    "        if wc == \"count\":\n",
    "            tab2 = tab.copy()\n",
    "        else:\n",
    "            tab2.iloc[:-1, :-1] = tab.iloc[:-1, :-1]\n",
    "\n",
    "        title = (\n",
    "            \"Column Shares by \" + d2_dict[\"desc\"] + \" and \" + d1_dict[\"desc\"] + \" \" + wd\n",
    "        )\n",
    "        row = write_to_excel(writer, getSharesIdx(tab.copy()), sname, title, row)\n",
    "\n",
    "        title = (\n",
    "            \"Column Shares 95% CI by \"\n",
    "            + d2_dict[\"desc\"]\n",
    "            + \" and \"\n",
    "            + d1_dict[\"desc\"]\n",
    "            + \" \"\n",
    "            + wd\n",
    "        )\n",
    "        row = write_to_excel(writer, getSharesIdxCI95(tab2.copy()), sname, title, row)\n",
    "    tab_range = xl_rowcol_to_cell(row, 1) + \":\" + xl_rowcol_to_cell(row, tab.shape[1])\n",
    "    _ = writer.sheets[sname].set_column(tab_range, 11, format1)"
   ]
  },
  {
   "cell_type": "code",
   "execution_count": null,
   "metadata": {},
   "outputs": [],
   "source": [
    "## Process all week trip records\n",
    "trip = trip_join_hh_person(\n",
    "    load_trip_assign_day(tour_extract_allwk_dir / \"trip-assign_day.csv\"), hh, person\n",
    ").to_pandas()"
   ]
  },
  {
   "cell_type": "code",
   "execution_count": null,
   "metadata": {},
   "outputs": [],
   "source": [
    "row = 0\n",
    "sname = \"DOW\"\n",
    "d2_dict = df_to_excel_col_dict[\"day\"]\n",
    "\n",
    "for wc, wd in zip(wt_cols, wt_desc):\n",
    "    title = \"All Trips by \" + d2_dict[\"desc\"] + \" and \" + d1_dict[\"desc\"] + \" \" + wd\n",
    "    tab = prep_data_2d(\n",
    "        trip,\n",
    "        d1_dict[\"col\"],\n",
    "        d1_dict[\"vals\"],\n",
    "        d1_dict[\"labels\"],\n",
    "        d2_dict[\"col\"],\n",
    "        d2_dict[\"vals\"],\n",
    "        d2_dict[\"labels\"],\n",
    "        wc,\n",
    "    )\n",
    "    row = write_to_excel(writer, tab.astype(\"float64\"), sname, title, row)\n",
    "\n",
    "    if wc == \"count\":\n",
    "        tab2 = tab.copy()\n",
    "    else:\n",
    "        tab2.iloc[:-1, :-1] = tab.iloc[:-1, :-1]\n",
    "\n",
    "    title = \"Column Shares by \" + d2_dict[\"desc\"] + \" and \" + d1_dict[\"desc\"] + \" \" + wd\n",
    "    row = write_to_excel(writer, getSharesIdx(tab.copy()), sname, title, row)\n",
    "\n",
    "    title = (\n",
    "        \"Column Shares 95% CI by \"\n",
    "        + d2_dict[\"desc\"]\n",
    "        + \" and \"\n",
    "        + d1_dict[\"desc\"]\n",
    "        + \" \"\n",
    "        + wd\n",
    "    )\n",
    "    row = write_to_excel(writer, getSharesIdxCI95(tab2.copy()), sname, title, row)\n",
    "tab_range = xl_rowcol_to_cell(row, 1) + \":\" + xl_rowcol_to_cell(row, tab.shape[1])\n",
    "_ = writer.sheets[sname].set_column(tab_range, 11, format1)"
   ]
  },
  {
   "cell_type": "code",
   "execution_count": null,
   "metadata": {},
   "outputs": [],
   "source": [
    "writer.close()"
   ]
  }
 ],
 "metadata": {
  "kernelspec": {
   "display_name": "Python 3",
   "language": "python",
   "name": "python3"
  },
  "language_info": {
   "codemirror_mode": {
    "name": "ipython",
    "version": 3
   },
   "file_extension": ".py",
   "mimetype": "text/x-python",
   "name": "python",
   "nbconvert_exporter": "python",
   "pygments_lexer": "ipython3",
   "version": "3.12.3"
  }
 },
 "nbformat": 4,
 "nbformat_minor": 4
}
