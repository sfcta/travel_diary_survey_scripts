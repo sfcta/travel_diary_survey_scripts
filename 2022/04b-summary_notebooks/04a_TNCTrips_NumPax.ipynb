{
 "cells": [
  {
   "cell_type": "code",
   "execution_count": null,
   "metadata": {},
   "outputs": [],
   "source": [
    "%load_ext autoreload"
   ]
  },
  {
   "cell_type": "code",
   "execution_count": null,
   "metadata": {},
   "outputs": [],
   "source": [
    "%autoreload\n",
    "import pandas as pd\n",
    "from utils import (\n",
    "    df_to_excel_col_dict,\n",
    "    getSharesIdx,\n",
    "    getSharesIdxCI95,\n",
    "    load_tnc_trips,\n",
    "    out_dir,\n",
    "    prep_data_1d,\n",
    "    prep_data_2d,\n",
    "    tour_extract_wkday_dir,\n",
    "    write_to_excel,\n",
    ")\n",
    "from xlsxwriter.utility import xl_rowcol_to_cell\n"
   ]
  },
  {
   "cell_type": "code",
   "execution_count": null,
   "metadata": {},
   "outputs": [],
   "source": [
    "out_filepath = out_dir / \"04a_TNCTrips_NumPax.xlsx\""
   ]
  },
  {
   "cell_type": "code",
   "execution_count": null,
   "metadata": {},
   "outputs": [],
   "source": [
    "# column tnc_pooled no longer available in 2022\n",
    "# in 2019: tnc_occupancy = tnc_pooled + num_travelers (see 2019 ipynb for exact logic)\n",
    "# in 2022: we just use num_travelers directly\n",
    "trip = load_tnc_trips(tour_extract_wkday_dir)\n",
    "\n",
    "# dpurp2 is the dpurp with dpurp == 0 (home) replaced by opurp\n",
    "trip[\"dpurp2\"] = trip[\"dpurp\"]\n",
    "trip.loc[trip[\"dpurp\"] == 0, \"dpurp2\"] = trip.loc[trip[\"dpurp\"] == 0, \"opurp\"]\n"
   ]
  },
  {
   "cell_type": "code",
   "execution_count": null,
   "metadata": {},
   "outputs": [],
   "source": [
    "df_to_excel_col_dict |= {\n",
    "    \"dpurp2\": {\n",
    "        \"desc\": \"dpurp (= opurp, if dpurp==home)\",\n",
    "        \"col\": \"dpurp2\",\n",
    "        \"vals\": range(1, 8),\n",
    "        \"labels\": [\n",
    "            \"1_Work\",\n",
    "            \"2_School\",\n",
    "            \"3_Escort\",\n",
    "            \"4_PersBus\",\n",
    "            \"5_Shop\",\n",
    "            \"6_Meal\",\n",
    "            \"7_SocRec\",\n",
    "        ],\n",
    "    }\n",
    "}\n"
   ]
  },
  {
   "cell_type": "code",
   "execution_count": null,
   "metadata": {},
   "outputs": [],
   "source": [
    "writer = pd.ExcelWriter(out_filepath, engine=\"xlsxwriter\")\n",
    "workbook = writer.book\n",
    "format1 = workbook.add_format({\"num_format\": \"#,##0.0\"})"
   ]
  },
  {
   "cell_type": "code",
   "execution_count": null,
   "metadata": {},
   "outputs": [],
   "source": [
    "row = 0\n",
    "sname = \"Weekday\"\n",
    "d1_dict = df_to_excel_col_dict[\"num_travelers_cat\"]\n",
    "\n",
    "title = \"TNC Trips by \" + d1_dict[\"desc\"]\n",
    "tab = prep_data_1d(\n",
    "    trip,\n",
    "    d1_dict[\"desc\"],\n",
    "    d1_dict[\"col\"],\n",
    "    \"trexpfac\",\n",
    "    d1_dict[\"vals\"],\n",
    "    d1_dict[\"labels\"],\n",
    ")\n",
    "row = write_to_excel(writer, tab, sname, title, row)\n",
    "\n",
    "title = \"Column Shares by \" + d1_dict[\"desc\"]\n",
    "row = write_to_excel(writer, getSharesIdx(tab.copy()), sname, title, row)\n",
    "\n",
    "tab2 = tab.copy()\n",
    "tab2.iloc[-1, -1] = tab2.iloc[-1, 0]\n",
    "\n",
    "title = \"Column Shares 95% CI by \" + d1_dict[\"desc\"]\n",
    "row = write_to_excel(writer, getSharesIdxCI95(tab.copy()), sname, title, row)\n",
    "\n",
    "tab_range = xl_rowcol_to_cell(row, 1) + \":\" + xl_rowcol_to_cell(row, tab.shape[1])\n",
    "_ = writer.sheets[sname].set_column(tab_range, 11, format1)"
   ]
  },
  {
   "cell_type": "code",
   "execution_count": null,
   "metadata": {},
   "outputs": [],
   "source": [
    "wt_cols = [\"count\", \"trexpfac\"]\n",
    "wt_desc = [\"(Unweighted)\", \"(Weighted)\"]\n",
    "\n",
    "for key in [\"dpurp2\", \"tnc_type\"]:\n",
    "    d2_dict = df_to_excel_col_dict[key]\n",
    "    row = 0\n",
    "    sname = d2_dict[\"desc\"]\n",
    "\n",
    "    for wc, wd in zip(wt_cols, wt_desc):\n",
    "        title = \"TNC Trips by \" + d2_dict[\"desc\"] + \" and \" + d1_dict[\"desc\"] + \" \" + wd\n",
    "        tab = prep_data_2d(\n",
    "            trip,\n",
    "            d1_dict[\"col\"],\n",
    "            d1_dict[\"vals\"],\n",
    "            d1_dict[\"labels\"],\n",
    "            d2_dict[\"col\"],\n",
    "            d2_dict[\"vals\"],\n",
    "            d2_dict[\"labels\"],\n",
    "            wc,\n",
    "        )\n",
    "        row = write_to_excel(writer, tab.astype(\"float64\"), sname, title, row)\n",
    "\n",
    "        if wc == \"count\":\n",
    "            tab2 = tab.copy()\n",
    "        else:\n",
    "            tab2.iloc[:-1, :-1] = tab.iloc[:-1, :-1]\n",
    "\n",
    "        title = (\n",
    "            \"Column Shares by \" + d2_dict[\"desc\"] + \" and \" + d1_dict[\"desc\"] + \" \" + wd\n",
    "        )\n",
    "        row = write_to_excel(writer, getSharesIdx(tab.copy()), sname, title, row)\n",
    "\n",
    "        title = (\n",
    "            \"Column Shares 95% CI by \"\n",
    "            + d2_dict[\"desc\"]\n",
    "            + \" and \"\n",
    "            + d1_dict[\"desc\"]\n",
    "            + \" \"\n",
    "            + wd\n",
    "        )\n",
    "        row = write_to_excel(writer, getSharesIdxCI95(tab2.copy()), sname, title, row)\n",
    "    tab_range = xl_rowcol_to_cell(row, 1) + \":\" + xl_rowcol_to_cell(row, tab.shape[1])\n",
    "    _ = writer.sheets[sname].set_column(tab_range, 11, format1)"
   ]
  },
  {
   "cell_type": "code",
   "execution_count": null,
   "metadata": {},
   "outputs": [],
   "source": [
    "writer.close()"
   ]
  }
 ],
 "metadata": {
  "kernelspec": {
   "display_name": "Python 3",
   "language": "python",
   "name": "python3"
  },
  "language_info": {
   "codemirror_mode": {
    "name": "ipython",
    "version": 3
   },
   "file_extension": ".py",
   "mimetype": "text/x-python",
   "name": "python",
   "nbconvert_exporter": "python",
   "pygments_lexer": "ipython3",
   "version": "3.12.3"
  }
 },
 "nbformat": 4,
 "nbformat_minor": 4
}
