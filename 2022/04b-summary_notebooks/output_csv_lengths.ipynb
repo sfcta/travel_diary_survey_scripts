{
 "cells": [
  {
   "cell_type": "code",
   "execution_count": null,
   "metadata": {},
   "outputs": [],
   "source": [
    "from pathlib import Path\n",
    "\n",
    "import polars as pl"
   ]
  },
  {
   "cell_type": "code",
   "execution_count": null,
   "metadata": {},
   "outputs": [],
   "source": [
    "survey_processed_dir = Path(\n",
    "    \"Q:/Data/Surveys/HouseholdSurveys/MTC-SFCTA2022/Processed_20240329\"\n",
    ")\n",
    "taz_spatial_join_dir = survey_processed_dir / \"01-taz_spatial_join\"\n",
    "reformat_dir = survey_processed_dir / \"02-reformat\"\n",
    "tour_extract_dir = survey_processed_dir / \"03-tour_extract\"\n",
    "tour_extract_allwk_dir = tour_extract_dir / \"wt_7day\"\n",
    "tour_extract_wkday_dir = tour_extract_dir / \"wt_wkday\"\n",
    "merge_skims_dir = survey_processed_dir / \"04a-merge_skims\"\n",
    "\n",
    "out_dir = survey_processed_dir / \"04b-summary_notebooks\"\n",
    "out_dir.mkdir(exist_ok=True)\n",
    "out_filepath = out_dir / \"output_csv_lengths.csv\""
   ]
  },
  {
   "cell_type": "code",
   "execution_count": null,
   "metadata": {},
   "outputs": [],
   "source": [
    "def get_csv_len(csv_filepath, separator=\",\"):\n",
    "    # with open(csv_filepath, \"rb\") as f:\n",
    "    #     return sum(1 for _ in f) - 1 # count the number of lines (drop the last newline)\n",
    "    return (\n",
    "        pl.scan_csv(csv_filepath, separator=separator).select(pl.len()).collect().item()\n",
    "    )"
   ]
  },
  {
   "cell_type": "code",
   "execution_count": null,
   "metadata": {},
   "outputs": [],
   "source": [
    "# TODO once filenames are more standardized, maybe we can simplify this\n",
    "# TODO is there a cleaner way to do this?\n",
    "df = pl.from_dict(\n",
    "    {\n",
    "        \"step\": [\n",
    "            \"0-raw\",\n",
    "            \"1-taz_spatial_join\",\n",
    "            \"2a-reformat\",\n",
    "            \"2b-link_trips_week\",\n",
    "            \"3a-tour_extract\",\n",
    "            \"3b-tour_extract-wt_7day\",\n",
    "            \"3b-tour_extract-wt_wkday\",\n",
    "            \"4a-merge_skims\",\n",
    "        ],\n",
    "        \"hh\": [\n",
    "            get_csv_len(survey_processed_dir / \"hh.csv\"),\n",
    "            get_csv_len(taz_spatial_join_dir / \"hh-taz_spatial_join.csv\"),\n",
    "            get_csv_len(reformat_dir / \"hh-reformat.csv\"),\n",
    "            None,\n",
    "            get_csv_len(tour_extract_dir / \"hh-tour_extract_week.csv\"),\n",
    "            get_csv_len(tour_extract_allwk_dir / \"hh-assign_day.csv\"),\n",
    "            get_csv_len(tour_extract_wkday_dir / \"hh-assign_day.csv\"),\n",
    "            get_csv_len(merge_skims_dir / \"hh-merge_skims.csv\"),\n",
    "        ],\n",
    "        \"person\": [\n",
    "            get_csv_len(survey_processed_dir / \"person.csv\"),\n",
    "            get_csv_len(taz_spatial_join_dir / \"person-taz_spatial_join.csv\"),\n",
    "            get_csv_len(reformat_dir / \"person-reformat.csv\"),\n",
    "            None,\n",
    "            get_csv_len(tour_extract_dir / \"person-tour_extract_week.csv\"),\n",
    "            get_csv_len(tour_extract_allwk_dir / \"person-assign_day.csv\"),\n",
    "            get_csv_len(tour_extract_wkday_dir / \"person-assign_day.csv\"),\n",
    "            get_csv_len(merge_skims_dir / \"person-merge_skims.csv\"),\n",
    "        ],\n",
    "        \"trip\": [\n",
    "            get_csv_len(survey_processed_dir / \"trip.csv\"),\n",
    "            get_csv_len(taz_spatial_join_dir / \"trip-taz_spatial_join.csv\"),\n",
    "            get_csv_len(reformat_dir / \"trip-reformat.csv\"),\n",
    "            get_csv_len(reformat_dir / \"temp_tripx_linked_week.dat\", separator=\" \"),\n",
    "            get_csv_len(tour_extract_dir / \"trip-tour_extract_week.csv\"),\n",
    "            get_csv_len(tour_extract_allwk_dir / \"trip-assign_day.csv\"),\n",
    "            get_csv_len(tour_extract_wkday_dir / \"trip-assign_day.csv\"),\n",
    "            get_csv_len(merge_skims_dir / \"trip-merge_skims.csv\"),\n",
    "        ],\n",
    "        \"personday\": [\n",
    "            None,\n",
    "            None,\n",
    "            None,\n",
    "            None,\n",
    "            get_csv_len(tour_extract_dir / \"personday-tour_extract_week.csv\"),\n",
    "            get_csv_len(tour_extract_allwk_dir / \"personday-assign_day.csv\"),\n",
    "            get_csv_len(tour_extract_wkday_dir / \"personday-assign_day.csv\"),\n",
    "            get_csv_len(merge_skims_dir / \"personday-merge_skims.csv\"),\n",
    "        ],\n",
    "        \"tour\": [\n",
    "            None,\n",
    "            None,\n",
    "            None,\n",
    "            None,\n",
    "            get_csv_len(tour_extract_dir / \"tour-tour_extract_week.csv\"),\n",
    "            get_csv_len(tour_extract_allwk_dir / \"tour-assign_day.csv\"),\n",
    "            get_csv_len(tour_extract_wkday_dir / \"tour-assign_day.csv\"),\n",
    "            get_csv_len(merge_skims_dir / \"tour-merge_skims.csv\"),\n",
    "        ],\n",
    "        \"trip_detailed\": [\n",
    "            None,\n",
    "            None,\n",
    "            None,\n",
    "            get_csv_len(reformat_dir / \"temp_tripx_linked_detail_week.csv\"),\n",
    "            None,\n",
    "            None,\n",
    "            None,\n",
    "            None,\n",
    "        ],\n",
    "        \"accegr_week\": [\n",
    "            None,\n",
    "            None,\n",
    "            None,\n",
    "            get_csv_len(reformat_dir / \"accegr_week.csv\"),\n",
    "            None,\n",
    "            None,\n",
    "            None,\n",
    "            None,\n",
    "        ],\n",
    "    }\n",
    ")"
   ]
  },
  {
   "cell_type": "code",
   "execution_count": null,
   "metadata": {},
   "outputs": [],
   "source": [
    "print(df)"
   ]
  },
  {
   "cell_type": "code",
   "execution_count": null,
   "metadata": {},
   "outputs": [],
   "source": [
    "df.write_csv(out_filepath)"
   ]
  }
 ],
 "metadata": {
  "kernelspec": {
   "display_name": "py312",
   "language": "python",
   "name": "python3"
  },
  "language_info": {
   "codemirror_mode": {
    "name": "ipython",
    "version": 3
   },
   "file_extension": ".py",
   "mimetype": "text/x-python",
   "name": "python",
   "nbconvert_exporter": "python",
   "pygments_lexer": "ipython3",
   "version": "3.12.3"
  }
 },
 "nbformat": 4,
 "nbformat_minor": 2
}
