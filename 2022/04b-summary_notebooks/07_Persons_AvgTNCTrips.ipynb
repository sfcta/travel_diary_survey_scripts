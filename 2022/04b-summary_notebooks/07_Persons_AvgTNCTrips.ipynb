{
 "cells": [
  {
   "cell_type": "code",
   "execution_count": null,
   "metadata": {},
   "outputs": [],
   "source": [
    "import pandas as pd\n",
    "from utils import (\n",
    "    df_to_excel_col_dict,\n",
    "    load_person_assign_day,\n",
    "    load_tnc_trips,\n",
    "    out_dir,\n",
    "    prep_data_1d,\n",
    "    tour_extract_wkday_dir,\n",
    "    write_to_excel,\n",
    ")\n",
    "from xlsxwriter.utility import xl_rowcol_to_cell\n"
   ]
  },
  {
   "cell_type": "code",
   "execution_count": null,
   "metadata": {},
   "outputs": [],
   "source": [
    "out_filepath = out_dir / \"07_Persons_AvgTNCTrips.xlsx\""
   ]
  },
  {
   "cell_type": "code",
   "execution_count": null,
   "metadata": {},
   "outputs": [],
   "source": [
    "person = load_person_assign_day(\n",
    "    tour_extract_wkday_dir / \"person-assign_day.csv\", demographics=False\n",
    ").to_pandas()\n",
    "trip = load_tnc_trips(tour_extract_wkday_dir)"
   ]
  },
  {
   "cell_type": "code",
   "execution_count": null,
   "metadata": {},
   "outputs": [],
   "source": [
    "writer = pd.ExcelWriter(out_filepath, engine=\"xlsxwriter\")\n",
    "workbook = writer.book\n",
    "format1 = workbook.add_format({\"num_format\": \"#,##0.0\"})\n",
    "format2 = workbook.add_format({\"num_format\": \"0.000\"})"
   ]
  },
  {
   "cell_type": "code",
   "execution_count": null,
   "metadata": {},
   "outputs": [],
   "source": [
    "row = 0\n",
    "sname = \"Weekday\"\n",
    "d1_dict = df_to_excel_col_dict[\"tnc_type\"]\n",
    "PREF = \"Daily Avg TNC Trips\"\n",
    "\n",
    "tab = prep_data_1d(\n",
    "    trip,\n",
    "    d1_dict[\"desc\"],\n",
    "    d1_dict[\"col\"],\n",
    "    \"trexpfac\",\n",
    "    d1_dict[\"vals\"],\n",
    "    d1_dict[\"labels\"],\n",
    ")\n",
    "\n",
    "\n",
    "def prep_avg(suff, num_per):\n",
    "    df = tab[[d1_dict[\"desc\"] + \"_\" + suff]]\n",
    "    df[\"persons_\" + suff] = num_per\n",
    "    df[\"AvgDaily_TNCTrips\"] = df[d1_dict[\"desc\"] + \"_\" + suff] / df[\"persons_\" + suff]\n",
    "    return df\n",
    "\n",
    "\n",
    "title = PREF + \" (Unweighted)\"\n",
    "out_tab = prep_avg(\"samp\", len(person))\n",
    "row = write_to_excel(writer, out_tab, sname, title, row)\n",
    "\n",
    "title = PREF + \" (Weighted)\"\n",
    "out_tab = prep_avg(\"wtd\", sum(person[\"psexpfac\"]))\n",
    "row = write_to_excel(writer, out_tab, sname, title, row)\n",
    "\n",
    "tab_range = xl_rowcol_to_cell(0, 1) + \":\" + xl_rowcol_to_cell(0, 2)\n",
    "_ = writer.sheets[sname].set_column(tab_range, 11, format1)\n",
    "tab_range = xl_rowcol_to_cell(0, 3) + \":\" + xl_rowcol_to_cell(0, 3)\n",
    "_ = writer.sheets[sname].set_column(tab_range, 11, format2)"
   ]
  },
  {
   "cell_type": "code",
   "execution_count": null,
   "metadata": {},
   "outputs": [],
   "source": [
    "writer.close()"
   ]
  }
 ],
 "metadata": {
  "kernelspec": {
   "display_name": "Python 3",
   "language": "python",
   "name": "python3"
  },
  "language_info": {
   "codemirror_mode": {
    "name": "ipython",
    "version": 3
   },
   "file_extension": ".py",
   "mimetype": "text/x-python",
   "name": "python",
   "nbconvert_exporter": "python",
   "pygments_lexer": "ipython3",
   "version": "3.12.3"
  }
 },
 "nbformat": 4,
 "nbformat_minor": 4
}
