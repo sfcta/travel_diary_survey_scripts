{
 "cells": [
  {
   "cell_type": "code",
   "execution_count": 1,
   "metadata": {},
   "outputs": [
    {
     "data": {
      "application/javascript": "(function(root) {\n  function now() {\n    return new Date();\n  }\n\n  var force = true;\n  var py_version = '3.4.2'.replace('rc', '-rc.').replace('.dev', '-dev.');\n  var reloading = false;\n  var Bokeh = root.Bokeh;\n\n  if (typeof (root._bokeh_timeout) === \"undefined\" || force) {\n    root._bokeh_timeout = Date.now() + 5000;\n    root._bokeh_failed_load = false;\n  }\n\n  function run_callbacks() {\n    try {\n      root._bokeh_onload_callbacks.forEach(function(callback) {\n        if (callback != null)\n          callback();\n      });\n    } finally {\n      delete root._bokeh_onload_callbacks;\n    }\n    console.debug(\"Bokeh: all callbacks have finished\");\n  }\n\n  function load_libs(css_urls, js_urls, js_modules, js_exports, callback) {\n    if (css_urls == null) css_urls = [];\n    if (js_urls == null) js_urls = [];\n    if (js_modules == null) js_modules = [];\n    if (js_exports == null) js_exports = {};\n\n    root._bokeh_onload_callbacks.push(callback);\n\n    if (root._bokeh_is_loading > 0) {\n      console.debug(\"Bokeh: BokehJS is being loaded, scheduling callback at\", now());\n      return null;\n    }\n    if (js_urls.length === 0 && js_modules.length === 0 && Object.keys(js_exports).length === 0) {\n      run_callbacks();\n      return null;\n    }\n    if (!reloading) {\n      console.debug(\"Bokeh: BokehJS not loaded, scheduling load and callback at\", now());\n    }\n\n    function on_load() {\n      root._bokeh_is_loading--;\n      if (root._bokeh_is_loading === 0) {\n        console.debug(\"Bokeh: all BokehJS libraries/stylesheets loaded\");\n        run_callbacks()\n      }\n    }\n    window._bokeh_on_load = on_load\n\n    function on_error() {\n      console.error(\"failed to load \" + url);\n    }\n\n    var skip = [];\n    if (window.requirejs) {\n      window.requirejs.config({'packages': {}, 'paths': {}, 'shim': {}});\n      root._bokeh_is_loading = css_urls.length + 0;\n    } else {\n      root._bokeh_is_loading = css_urls.length + js_urls.length + js_modules.length + Object.keys(js_exports).length;\n    }\n\n    var existing_stylesheets = []\n    var links = document.getElementsByTagName('link')\n    for (var i = 0; i < links.length; i++) {\n      var link = links[i]\n      if (link.href != null) {\n\texisting_stylesheets.push(link.href)\n      }\n    }\n    for (var i = 0; i < css_urls.length; i++) {\n      var url = css_urls[i];\n      if (existing_stylesheets.indexOf(url) !== -1) {\n\ton_load()\n\tcontinue;\n      }\n      const element = document.createElement(\"link\");\n      element.onload = on_load;\n      element.onerror = on_error;\n      element.rel = \"stylesheet\";\n      element.type = \"text/css\";\n      element.href = url;\n      console.debug(\"Bokeh: injecting link tag for BokehJS stylesheet: \", url);\n      document.body.appendChild(element);\n    }    var existing_scripts = []\n    var scripts = document.getElementsByTagName('script')\n    for (var i = 0; i < scripts.length; i++) {\n      var script = scripts[i]\n      if (script.src != null) {\n\texisting_scripts.push(script.src)\n      }\n    }\n    for (var i = 0; i < js_urls.length; i++) {\n      var url = js_urls[i];\n      if (skip.indexOf(url) !== -1 || existing_scripts.indexOf(url) !== -1) {\n\tif (!window.requirejs) {\n\t  on_load();\n\t}\n\tcontinue;\n      }\n      var element = document.createElement('script');\n      element.onload = on_load;\n      element.onerror = on_error;\n      element.async = false;\n      element.src = url;\n      console.debug(\"Bokeh: injecting script tag for BokehJS library: \", url);\n      document.head.appendChild(element);\n    }\n    for (var i = 0; i < js_modules.length; i++) {\n      var url = js_modules[i];\n      if (skip.indexOf(url) !== -1 || existing_scripts.indexOf(url) !== -1) {\n\tif (!window.requirejs) {\n\t  on_load();\n\t}\n\tcontinue;\n      }\n      var element = document.createElement('script');\n      element.onload = on_load;\n      element.onerror = on_error;\n      element.async = false;\n      element.src = url;\n      element.type = \"module\";\n      console.debug(\"Bokeh: injecting script tag for BokehJS library: \", url);\n      document.head.appendChild(element);\n    }\n    for (const name in js_exports) {\n      var url = js_exports[name];\n      if (skip.indexOf(url) >= 0 || root[name] != null) {\n\tif (!window.requirejs) {\n\t  on_load();\n\t}\n\tcontinue;\n      }\n      var element = document.createElement('script');\n      element.onerror = on_error;\n      element.async = false;\n      element.type = \"module\";\n      console.debug(\"Bokeh: injecting script tag for BokehJS library: \", url);\n      element.textContent = `\n      import ${name} from \"${url}\"\n      window.${name} = ${name}\n      window._bokeh_on_load()\n      `\n      document.head.appendChild(element);\n    }\n    if (!js_urls.length && !js_modules.length) {\n      on_load()\n    }\n  };\n\n  function inject_raw_css(css) {\n    const element = document.createElement(\"style\");\n    element.appendChild(document.createTextNode(css));\n    document.body.appendChild(element);\n  }\n\n  var js_urls = [\"https://cdn.bokeh.org/bokeh/release/bokeh-3.4.2.min.js\", \"https://cdn.bokeh.org/bokeh/release/bokeh-gl-3.4.2.min.js\", \"https://cdn.bokeh.org/bokeh/release/bokeh-widgets-3.4.2.min.js\", \"https://cdn.bokeh.org/bokeh/release/bokeh-tables-3.4.2.min.js\", \"https://cdn.holoviz.org/panel/1.4.5/dist/panel.min.js\"];\n  var js_modules = [];\n  var js_exports = {};\n  var css_urls = [];\n  var inline_js = [    function(Bokeh) {\n      Bokeh.set_log_level(\"info\");\n    },\nfunction(Bokeh) {} // ensure no trailing comma for IE\n  ];\n\n  function run_inline_js() {\n    if ((root.Bokeh !== undefined) || (force === true)) {\n      for (var i = 0; i < inline_js.length; i++) {\n\ttry {\n          inline_js[i].call(root, root.Bokeh);\n\t} catch(e) {\n\t  if (!reloading) {\n\t    throw e;\n\t  }\n\t}\n      }\n      // Cache old bokeh versions\n      if (Bokeh != undefined && !reloading) {\n\tvar NewBokeh = root.Bokeh;\n\tif (Bokeh.versions === undefined) {\n\t  Bokeh.versions = new Map();\n\t}\n\tif (NewBokeh.version !== Bokeh.version) {\n\t  Bokeh.versions.set(NewBokeh.version, NewBokeh)\n\t}\n\troot.Bokeh = Bokeh;\n      }} else if (Date.now() < root._bokeh_timeout) {\n      setTimeout(run_inline_js, 100);\n    } else if (!root._bokeh_failed_load) {\n      console.log(\"Bokeh: BokehJS failed to load within specified timeout.\");\n      root._bokeh_failed_load = true;\n    }\n    root._bokeh_is_initializing = false\n  }\n\n  function load_or_wait() {\n    // Implement a backoff loop that tries to ensure we do not load multiple\n    // versions of Bokeh and its dependencies at the same time.\n    // In recent versions we use the root._bokeh_is_initializing flag\n    // to determine whether there is an ongoing attempt to initialize\n    // bokeh, however for backward compatibility we also try to ensure\n    // that we do not start loading a newer (Panel>=1.0 and Bokeh>3) version\n    // before older versions are fully initialized.\n    if (root._bokeh_is_initializing && Date.now() > root._bokeh_timeout) {\n      root._bokeh_is_initializing = false;\n      root._bokeh_onload_callbacks = undefined;\n      console.log(\"Bokeh: BokehJS was loaded multiple times but one version failed to initialize.\");\n      load_or_wait();\n    } else if (root._bokeh_is_initializing || (typeof root._bokeh_is_initializing === \"undefined\" && root._bokeh_onload_callbacks !== undefined)) {\n      setTimeout(load_or_wait, 100);\n    } else {\n      root._bokeh_is_initializing = true\n      root._bokeh_onload_callbacks = []\n      var bokeh_loaded = Bokeh != null && (Bokeh.version === py_version || (Bokeh.versions !== undefined && Bokeh.versions.has(py_version)));\n      if (!reloading && !bokeh_loaded) {\n\troot.Bokeh = undefined;\n      }\n      load_libs(css_urls, js_urls, js_modules, js_exports, function() {\n\tconsole.debug(\"Bokeh: BokehJS plotting callback run at\", now());\n\trun_inline_js();\n      });\n    }\n  }\n  // Give older versions of the autoload script a head-start to ensure\n  // they initialize before we start loading newer version.\n  setTimeout(load_or_wait, 100)\n}(window));",
      "application/vnd.holoviews_load.v0+json": ""
     },
     "metadata": {},
     "output_type": "display_data"
    },
    {
     "data": {
      "application/javascript": "\nif ((window.PyViz === undefined) || (window.PyViz instanceof HTMLElement)) {\n  window.PyViz = {comms: {}, comm_status:{}, kernels:{}, receivers: {}, plot_index: []}\n}\n\n\n    function JupyterCommManager() {\n    }\n\n    JupyterCommManager.prototype.register_target = function(plot_id, comm_id, msg_handler) {\n      if (window.comm_manager || ((window.Jupyter !== undefined) && (Jupyter.notebook.kernel != null))) {\n        var comm_manager = window.comm_manager || Jupyter.notebook.kernel.comm_manager;\n        comm_manager.register_target(comm_id, function(comm) {\n          comm.on_msg(msg_handler);\n        });\n      } else if ((plot_id in window.PyViz.kernels) && (window.PyViz.kernels[plot_id])) {\n        window.PyViz.kernels[plot_id].registerCommTarget(comm_id, function(comm) {\n          comm.onMsg = msg_handler;\n        });\n      } else if (typeof google != 'undefined' && google.colab.kernel != null) {\n        google.colab.kernel.comms.registerTarget(comm_id, (comm) => {\n          var messages = comm.messages[Symbol.asyncIterator]();\n          function processIteratorResult(result) {\n            var message = result.value;\n            console.log(message)\n            var content = {data: message.data, comm_id};\n            var buffers = []\n            for (var buffer of message.buffers || []) {\n              buffers.push(new DataView(buffer))\n            }\n            var metadata = message.metadata || {};\n            var msg = {content, buffers, metadata}\n            msg_handler(msg);\n            return messages.next().then(processIteratorResult);\n          }\n          return messages.next().then(processIteratorResult);\n        })\n      }\n    }\n\n    JupyterCommManager.prototype.get_client_comm = function(plot_id, comm_id, msg_handler) {\n      if (comm_id in window.PyViz.comms) {\n        return window.PyViz.comms[comm_id];\n      } else if (window.comm_manager || ((window.Jupyter !== undefined) && (Jupyter.notebook.kernel != null))) {\n        var comm_manager = window.comm_manager || Jupyter.notebook.kernel.comm_manager;\n        var comm = comm_manager.new_comm(comm_id, {}, {}, {}, comm_id);\n        if (msg_handler) {\n          comm.on_msg(msg_handler);\n        }\n      } else if ((plot_id in window.PyViz.kernels) && (window.PyViz.kernels[plot_id])) {\n        var comm = window.PyViz.kernels[plot_id].connectToComm(comm_id);\n        comm.open();\n        if (msg_handler) {\n          comm.onMsg = msg_handler;\n        }\n      } else if (typeof google != 'undefined' && google.colab.kernel != null) {\n        var comm_promise = google.colab.kernel.comms.open(comm_id)\n        comm_promise.then((comm) => {\n          window.PyViz.comms[comm_id] = comm;\n          if (msg_handler) {\n            var messages = comm.messages[Symbol.asyncIterator]();\n            function processIteratorResult(result) {\n              var message = result.value;\n              var content = {data: message.data};\n              var metadata = message.metadata || {comm_id};\n              var msg = {content, metadata}\n              msg_handler(msg);\n              return messages.next().then(processIteratorResult);\n            }\n            return messages.next().then(processIteratorResult);\n          }\n        }) \n        var sendClosure = (data, metadata, buffers, disposeOnDone) => {\n          return comm_promise.then((comm) => {\n            comm.send(data, metadata, buffers, disposeOnDone);\n          });\n        };\n        var comm = {\n          send: sendClosure\n        };\n      }\n      window.PyViz.comms[comm_id] = comm;\n      return comm;\n    }\n    window.PyViz.comm_manager = new JupyterCommManager();\n    \n\n\nvar JS_MIME_TYPE = 'application/javascript';\nvar HTML_MIME_TYPE = 'text/html';\nvar EXEC_MIME_TYPE = 'application/vnd.holoviews_exec.v0+json';\nvar CLASS_NAME = 'output';\n\n/**\n * Render data to the DOM node\n */\nfunction render(props, node) {\n  var div = document.createElement(\"div\");\n  var script = document.createElement(\"script\");\n  node.appendChild(div);\n  node.appendChild(script);\n}\n\n/**\n * Handle when a new output is added\n */\nfunction handle_add_output(event, handle) {\n  var output_area = handle.output_area;\n  var output = handle.output;\n  if ((output.data == undefined) || (!output.data.hasOwnProperty(EXEC_MIME_TYPE))) {\n    return\n  }\n  var id = output.metadata[EXEC_MIME_TYPE][\"id\"];\n  var toinsert = output_area.element.find(\".\" + CLASS_NAME.split(' ')[0]);\n  if (id !== undefined) {\n    var nchildren = toinsert.length;\n    var html_node = toinsert[nchildren-1].children[0];\n    html_node.innerHTML = output.data[HTML_MIME_TYPE];\n    var scripts = [];\n    var nodelist = html_node.querySelectorAll(\"script\");\n    for (var i in nodelist) {\n      if (nodelist.hasOwnProperty(i)) {\n        scripts.push(nodelist[i])\n      }\n    }\n\n    scripts.forEach( function (oldScript) {\n      var newScript = document.createElement(\"script\");\n      var attrs = [];\n      var nodemap = oldScript.attributes;\n      for (var j in nodemap) {\n        if (nodemap.hasOwnProperty(j)) {\n          attrs.push(nodemap[j])\n        }\n      }\n      attrs.forEach(function(attr) { newScript.setAttribute(attr.name, attr.value) });\n      newScript.appendChild(document.createTextNode(oldScript.innerHTML));\n      oldScript.parentNode.replaceChild(newScript, oldScript);\n    });\n    if (JS_MIME_TYPE in output.data) {\n      toinsert[nchildren-1].children[1].textContent = output.data[JS_MIME_TYPE];\n    }\n    output_area._hv_plot_id = id;\n    if ((window.Bokeh !== undefined) && (id in Bokeh.index)) {\n      window.PyViz.plot_index[id] = Bokeh.index[id];\n    } else {\n      window.PyViz.plot_index[id] = null;\n    }\n  } else if (output.metadata[EXEC_MIME_TYPE][\"server_id\"] !== undefined) {\n    var bk_div = document.createElement(\"div\");\n    bk_div.innerHTML = output.data[HTML_MIME_TYPE];\n    var script_attrs = bk_div.children[0].attributes;\n    for (var i = 0; i < script_attrs.length; i++) {\n      toinsert[toinsert.length - 1].childNodes[1].setAttribute(script_attrs[i].name, script_attrs[i].value);\n    }\n    // store reference to server id on output_area\n    output_area._bokeh_server_id = output.metadata[EXEC_MIME_TYPE][\"server_id\"];\n  }\n}\n\n/**\n * Handle when an output is cleared or removed\n */\nfunction handle_clear_output(event, handle) {\n  var id = handle.cell.output_area._hv_plot_id;\n  var server_id = handle.cell.output_area._bokeh_server_id;\n  if (((id === undefined) || !(id in PyViz.plot_index)) && (server_id !== undefined)) { return; }\n  var comm = window.PyViz.comm_manager.get_client_comm(\"hv-extension-comm\", \"hv-extension-comm\", function () {});\n  if (server_id !== null) {\n    comm.send({event_type: 'server_delete', 'id': server_id});\n    return;\n  } else if (comm !== null) {\n    comm.send({event_type: 'delete', 'id': id});\n  }\n  delete PyViz.plot_index[id];\n  if ((window.Bokeh !== undefined) & (id in window.Bokeh.index)) {\n    var doc = window.Bokeh.index[id].model.document\n    doc.clear();\n    const i = window.Bokeh.documents.indexOf(doc);\n    if (i > -1) {\n      window.Bokeh.documents.splice(i, 1);\n    }\n  }\n}\n\n/**\n * Handle kernel restart event\n */\nfunction handle_kernel_cleanup(event, handle) {\n  delete PyViz.comms[\"hv-extension-comm\"];\n  window.PyViz.plot_index = {}\n}\n\n/**\n * Handle update_display_data messages\n */\nfunction handle_update_output(event, handle) {\n  handle_clear_output(event, {cell: {output_area: handle.output_area}})\n  handle_add_output(event, handle)\n}\n\nfunction register_renderer(events, OutputArea) {\n  function append_mime(data, metadata, element) {\n    // create a DOM node to render to\n    var toinsert = this.create_output_subarea(\n    metadata,\n    CLASS_NAME,\n    EXEC_MIME_TYPE\n    );\n    this.keyboard_manager.register_events(toinsert);\n    // Render to node\n    var props = {data: data, metadata: metadata[EXEC_MIME_TYPE]};\n    render(props, toinsert[0]);\n    element.append(toinsert);\n    return toinsert\n  }\n\n  events.on('output_added.OutputArea', handle_add_output);\n  events.on('output_updated.OutputArea', handle_update_output);\n  events.on('clear_output.CodeCell', handle_clear_output);\n  events.on('delete.Cell', handle_clear_output);\n  events.on('kernel_ready.Kernel', handle_kernel_cleanup);\n\n  OutputArea.prototype.register_mime_type(EXEC_MIME_TYPE, append_mime, {\n    safe: true,\n    index: 0\n  });\n}\n\nif (window.Jupyter !== undefined) {\n  try {\n    var events = require('base/js/events');\n    var OutputArea = require('notebook/js/outputarea').OutputArea;\n    if (OutputArea.prototype.mime_types().indexOf(EXEC_MIME_TYPE) == -1) {\n      register_renderer(events, OutputArea);\n    }\n  } catch(err) {\n  }\n}\n",
      "application/vnd.holoviews_load.v0+json": ""
     },
     "metadata": {},
     "output_type": "display_data"
    },
    {
     "data": {
      "text/html": [
       "<style>*[data-root-id],\n",
       "*[data-root-id] > * {\n",
       "  box-sizing: border-box;\n",
       "  font-family: var(--jp-ui-font-family);\n",
       "  font-size: var(--jp-ui-font-size1);\n",
       "  color: var(--vscode-editor-foreground, var(--jp-ui-font-color1));\n",
       "}\n",
       "\n",
       "/* Override VSCode background color */\n",
       ".cell-output-ipywidget-background:has(\n",
       "    > .cell-output-ipywidget-background > .lm-Widget > *[data-root-id]\n",
       "  ),\n",
       ".cell-output-ipywidget-background:has(> .lm-Widget > *[data-root-id]) {\n",
       "  background-color: transparent !important;\n",
       "}\n",
       "</style>"
      ]
     },
     "metadata": {},
     "output_type": "display_data"
    },
    {
     "data": {
      "application/vnd.holoviews_exec.v0+json": "",
      "text/html": [
       "<div id='p1002'>\n",
       "  <div id=\"db2b70b0-f62e-4a13-a476-6d19240ecbc4\" data-root-id=\"p1002\" style=\"display: contents;\"></div>\n",
       "</div>\n",
       "<script type=\"application/javascript\">(function(root) {\n",
       "  var docs_json = {\"6850ab6c-49f8-4427-885c-62ec646d57be\":{\"version\":\"3.4.2\",\"title\":\"Bokeh Application\",\"roots\":[{\"type\":\"object\",\"name\":\"panel.models.browser.BrowserInfo\",\"id\":\"p1002\"},{\"type\":\"object\",\"name\":\"panel.models.comm_manager.CommManager\",\"id\":\"p1003\",\"attributes\":{\"plot_id\":\"p1002\",\"comm_id\":\"79fe0eed4d86425680eb852ce7993639\",\"client_comm_id\":\"de5f62d79efe428bb44947b37fcd5486\"}}],\"defs\":[{\"type\":\"model\",\"name\":\"ReactiveHTML1\"},{\"type\":\"model\",\"name\":\"FlexBox1\",\"properties\":[{\"name\":\"align_content\",\"kind\":\"Any\",\"default\":\"flex-start\"},{\"name\":\"align_items\",\"kind\":\"Any\",\"default\":\"flex-start\"},{\"name\":\"flex_direction\",\"kind\":\"Any\",\"default\":\"row\"},{\"name\":\"flex_wrap\",\"kind\":\"Any\",\"default\":\"wrap\"},{\"name\":\"gap\",\"kind\":\"Any\",\"default\":\"\"},{\"name\":\"justify_content\",\"kind\":\"Any\",\"default\":\"flex-start\"}]},{\"type\":\"model\",\"name\":\"FloatPanel1\",\"properties\":[{\"name\":\"config\",\"kind\":\"Any\",\"default\":{\"type\":\"map\"}},{\"name\":\"contained\",\"kind\":\"Any\",\"default\":true},{\"name\":\"position\",\"kind\":\"Any\",\"default\":\"right-top\"},{\"name\":\"offsetx\",\"kind\":\"Any\",\"default\":null},{\"name\":\"offsety\",\"kind\":\"Any\",\"default\":null},{\"name\":\"theme\",\"kind\":\"Any\",\"default\":\"primary\"},{\"name\":\"status\",\"kind\":\"Any\",\"default\":\"normalized\"}]},{\"type\":\"model\",\"name\":\"GridStack1\",\"properties\":[{\"name\":\"mode\",\"kind\":\"Any\",\"default\":\"warn\"},{\"name\":\"ncols\",\"kind\":\"Any\",\"default\":null},{\"name\":\"nrows\",\"kind\":\"Any\",\"default\":null},{\"name\":\"allow_resize\",\"kind\":\"Any\",\"default\":true},{\"name\":\"allow_drag\",\"kind\":\"Any\",\"default\":true},{\"name\":\"state\",\"kind\":\"Any\",\"default\":[]}]},{\"type\":\"model\",\"name\":\"drag1\",\"properties\":[{\"name\":\"slider_width\",\"kind\":\"Any\",\"default\":5},{\"name\":\"slider_color\",\"kind\":\"Any\",\"default\":\"black\"},{\"name\":\"value\",\"kind\":\"Any\",\"default\":50}]},{\"type\":\"model\",\"name\":\"click1\",\"properties\":[{\"name\":\"terminal_output\",\"kind\":\"Any\",\"default\":\"\"},{\"name\":\"debug_name\",\"kind\":\"Any\",\"default\":\"\"},{\"name\":\"clears\",\"kind\":\"Any\",\"default\":0}]},{\"type\":\"model\",\"name\":\"FastWrapper1\",\"properties\":[{\"name\":\"object\",\"kind\":\"Any\",\"default\":null},{\"name\":\"style\",\"kind\":\"Any\",\"default\":null}]},{\"type\":\"model\",\"name\":\"NotificationAreaBase1\",\"properties\":[{\"name\":\"js_events\",\"kind\":\"Any\",\"default\":{\"type\":\"map\"}},{\"name\":\"position\",\"kind\":\"Any\",\"default\":\"bottom-right\"},{\"name\":\"_clear\",\"kind\":\"Any\",\"default\":0}]},{\"type\":\"model\",\"name\":\"NotificationArea1\",\"properties\":[{\"name\":\"js_events\",\"kind\":\"Any\",\"default\":{\"type\":\"map\"}},{\"name\":\"notifications\",\"kind\":\"Any\",\"default\":[]},{\"name\":\"position\",\"kind\":\"Any\",\"default\":\"bottom-right\"},{\"name\":\"_clear\",\"kind\":\"Any\",\"default\":0},{\"name\":\"types\",\"kind\":\"Any\",\"default\":[{\"type\":\"map\",\"entries\":[[\"type\",\"warning\"],[\"background\",\"#ffc107\"],[\"icon\",{\"type\":\"map\",\"entries\":[[\"className\",\"fas fa-exclamation-triangle\"],[\"tagName\",\"i\"],[\"color\",\"white\"]]}]]},{\"type\":\"map\",\"entries\":[[\"type\",\"info\"],[\"background\",\"#007bff\"],[\"icon\",{\"type\":\"map\",\"entries\":[[\"className\",\"fas fa-info-circle\"],[\"tagName\",\"i\"],[\"color\",\"white\"]]}]]}]}]},{\"type\":\"model\",\"name\":\"Notification\",\"properties\":[{\"name\":\"background\",\"kind\":\"Any\",\"default\":null},{\"name\":\"duration\",\"kind\":\"Any\",\"default\":3000},{\"name\":\"icon\",\"kind\":\"Any\",\"default\":null},{\"name\":\"message\",\"kind\":\"Any\",\"default\":\"\"},{\"name\":\"notification_type\",\"kind\":\"Any\",\"default\":null},{\"name\":\"_destroyed\",\"kind\":\"Any\",\"default\":false}]},{\"type\":\"model\",\"name\":\"TemplateActions1\",\"properties\":[{\"name\":\"open_modal\",\"kind\":\"Any\",\"default\":0},{\"name\":\"close_modal\",\"kind\":\"Any\",\"default\":0}]},{\"type\":\"model\",\"name\":\"BootstrapTemplateActions1\",\"properties\":[{\"name\":\"open_modal\",\"kind\":\"Any\",\"default\":0},{\"name\":\"close_modal\",\"kind\":\"Any\",\"default\":0}]},{\"type\":\"model\",\"name\":\"TemplateEditor1\",\"properties\":[{\"name\":\"layout\",\"kind\":\"Any\",\"default\":[]}]},{\"type\":\"model\",\"name\":\"MaterialTemplateActions1\",\"properties\":[{\"name\":\"open_modal\",\"kind\":\"Any\",\"default\":0},{\"name\":\"close_modal\",\"kind\":\"Any\",\"default\":0}]},{\"type\":\"model\",\"name\":\"copy_to_clipboard1\",\"properties\":[{\"name\":\"fill\",\"kind\":\"Any\",\"default\":\"none\"},{\"name\":\"value\",\"kind\":\"Any\",\"default\":null}]}]}};\n",
       "  var render_items = [{\"docid\":\"6850ab6c-49f8-4427-885c-62ec646d57be\",\"roots\":{\"p1002\":\"db2b70b0-f62e-4a13-a476-6d19240ecbc4\"},\"root_ids\":[\"p1002\"]}];\n",
       "  var docs = Object.values(docs_json)\n",
       "  if (!docs) {\n",
       "    return\n",
       "  }\n",
       "  const py_version = docs[0].version.replace('rc', '-rc.').replace('.dev', '-dev.')\n",
       "  async function embed_document(root) {\n",
       "    var Bokeh = get_bokeh(root)\n",
       "    await Bokeh.embed.embed_items_notebook(docs_json, render_items);\n",
       "    for (const render_item of render_items) {\n",
       "      for (const root_id of render_item.root_ids) {\n",
       "\tconst id_el = document.getElementById(root_id)\n",
       "\tif (id_el.children.length && id_el.children[0].hasAttribute('data-root-id')) {\n",
       "\t  const root_el = id_el.children[0]\n",
       "\t  root_el.id = root_el.id + '-rendered'\n",
       "\t  for (const child of root_el.children) {\n",
       "            // Ensure JupyterLab does not capture keyboard shortcuts\n",
       "            // see: https://jupyterlab.readthedocs.io/en/4.1.x/extension/notebook.html#keyboard-interaction-model\n",
       "\t    child.setAttribute('data-lm-suppress-shortcuts', 'true')\n",
       "\t  }\n",
       "\t}\n",
       "      }\n",
       "    }\n",
       "  }\n",
       "  function get_bokeh(root) {\n",
       "    if (root.Bokeh === undefined) {\n",
       "      return null\n",
       "    } else if (root.Bokeh.version !== py_version) {\n",
       "      if (root.Bokeh.versions === undefined || !root.Bokeh.versions.has(py_version)) {\n",
       "\treturn null\n",
       "      }\n",
       "      return root.Bokeh.versions.get(py_version);\n",
       "    } else if (root.Bokeh.version === py_version) {\n",
       "      return root.Bokeh\n",
       "    }\n",
       "    return null\n",
       "  }\n",
       "  function is_loaded(root) {\n",
       "    var Bokeh = get_bokeh(root)\n",
       "    return (Bokeh != null && Bokeh.Panel !== undefined)\n",
       "  }\n",
       "  if (is_loaded(root)) {\n",
       "    embed_document(root);\n",
       "  } else {\n",
       "    var attempts = 0;\n",
       "    var timer = setInterval(function(root) {\n",
       "      if (is_loaded(root)) {\n",
       "        clearInterval(timer);\n",
       "        embed_document(root);\n",
       "      } else if (document.readyState == \"complete\") {\n",
       "        attempts++;\n",
       "        if (attempts > 200) {\n",
       "          clearInterval(timer);\n",
       "\t  var Bokeh = get_bokeh(root)\n",
       "\t  if (Bokeh == null || Bokeh.Panel == null) {\n",
       "            console.warn(\"Panel: ERROR: Unable to run Panel code because Bokeh or Panel library is missing\");\n",
       "\t  } else {\n",
       "\t    console.warn(\"Panel: WARNING: Attempting to render but not all required libraries could be resolved.\")\n",
       "\t    embed_document(root)\n",
       "\t  }\n",
       "        }\n",
       "      }\n",
       "    }, 25, root)\n",
       "  }\n",
       "})(window);</script>"
      ]
     },
     "metadata": {
      "application/vnd.holoviews_exec.v0+json": {
       "id": "p1002"
      }
     },
     "output_type": "display_data"
    },
    {
     "data": {
      "application/javascript": "(function(root) {\n  function now() {\n    return new Date();\n  }\n\n  var force = true;\n  var py_version = '3.4.2'.replace('rc', '-rc.').replace('.dev', '-dev.');\n  var reloading = true;\n  var Bokeh = root.Bokeh;\n\n  if (typeof (root._bokeh_timeout) === \"undefined\" || force) {\n    root._bokeh_timeout = Date.now() + 5000;\n    root._bokeh_failed_load = false;\n  }\n\n  function run_callbacks() {\n    try {\n      root._bokeh_onload_callbacks.forEach(function(callback) {\n        if (callback != null)\n          callback();\n      });\n    } finally {\n      delete root._bokeh_onload_callbacks;\n    }\n    console.debug(\"Bokeh: all callbacks have finished\");\n  }\n\n  function load_libs(css_urls, js_urls, js_modules, js_exports, callback) {\n    if (css_urls == null) css_urls = [];\n    if (js_urls == null) js_urls = [];\n    if (js_modules == null) js_modules = [];\n    if (js_exports == null) js_exports = {};\n\n    root._bokeh_onload_callbacks.push(callback);\n\n    if (root._bokeh_is_loading > 0) {\n      console.debug(\"Bokeh: BokehJS is being loaded, scheduling callback at\", now());\n      return null;\n    }\n    if (js_urls.length === 0 && js_modules.length === 0 && Object.keys(js_exports).length === 0) {\n      run_callbacks();\n      return null;\n    }\n    if (!reloading) {\n      console.debug(\"Bokeh: BokehJS not loaded, scheduling load and callback at\", now());\n    }\n\n    function on_load() {\n      root._bokeh_is_loading--;\n      if (root._bokeh_is_loading === 0) {\n        console.debug(\"Bokeh: all BokehJS libraries/stylesheets loaded\");\n        run_callbacks()\n      }\n    }\n    window._bokeh_on_load = on_load\n\n    function on_error() {\n      console.error(\"failed to load \" + url);\n    }\n\n    var skip = [];\n    if (window.requirejs) {\n      window.requirejs.config({'packages': {}, 'paths': {}, 'shim': {}});\n      root._bokeh_is_loading = css_urls.length + 0;\n    } else {\n      root._bokeh_is_loading = css_urls.length + js_urls.length + js_modules.length + Object.keys(js_exports).length;\n    }\n\n    var existing_stylesheets = []\n    var links = document.getElementsByTagName('link')\n    for (var i = 0; i < links.length; i++) {\n      var link = links[i]\n      if (link.href != null) {\n\texisting_stylesheets.push(link.href)\n      }\n    }\n    for (var i = 0; i < css_urls.length; i++) {\n      var url = css_urls[i];\n      if (existing_stylesheets.indexOf(url) !== -1) {\n\ton_load()\n\tcontinue;\n      }\n      const element = document.createElement(\"link\");\n      element.onload = on_load;\n      element.onerror = on_error;\n      element.rel = \"stylesheet\";\n      element.type = \"text/css\";\n      element.href = url;\n      console.debug(\"Bokeh: injecting link tag for BokehJS stylesheet: \", url);\n      document.body.appendChild(element);\n    }    var existing_scripts = []\n    var scripts = document.getElementsByTagName('script')\n    for (var i = 0; i < scripts.length; i++) {\n      var script = scripts[i]\n      if (script.src != null) {\n\texisting_scripts.push(script.src)\n      }\n    }\n    for (var i = 0; i < js_urls.length; i++) {\n      var url = js_urls[i];\n      if (skip.indexOf(url) !== -1 || existing_scripts.indexOf(url) !== -1) {\n\tif (!window.requirejs) {\n\t  on_load();\n\t}\n\tcontinue;\n      }\n      var element = document.createElement('script');\n      element.onload = on_load;\n      element.onerror = on_error;\n      element.async = false;\n      element.src = url;\n      console.debug(\"Bokeh: injecting script tag for BokehJS library: \", url);\n      document.head.appendChild(element);\n    }\n    for (var i = 0; i < js_modules.length; i++) {\n      var url = js_modules[i];\n      if (skip.indexOf(url) !== -1 || existing_scripts.indexOf(url) !== -1) {\n\tif (!window.requirejs) {\n\t  on_load();\n\t}\n\tcontinue;\n      }\n      var element = document.createElement('script');\n      element.onload = on_load;\n      element.onerror = on_error;\n      element.async = false;\n      element.src = url;\n      element.type = \"module\";\n      console.debug(\"Bokeh: injecting script tag for BokehJS library: \", url);\n      document.head.appendChild(element);\n    }\n    for (const name in js_exports) {\n      var url = js_exports[name];\n      if (skip.indexOf(url) >= 0 || root[name] != null) {\n\tif (!window.requirejs) {\n\t  on_load();\n\t}\n\tcontinue;\n      }\n      var element = document.createElement('script');\n      element.onerror = on_error;\n      element.async = false;\n      element.type = \"module\";\n      console.debug(\"Bokeh: injecting script tag for BokehJS library: \", url);\n      element.textContent = `\n      import ${name} from \"${url}\"\n      window.${name} = ${name}\n      window._bokeh_on_load()\n      `\n      document.head.appendChild(element);\n    }\n    if (!js_urls.length && !js_modules.length) {\n      on_load()\n    }\n  };\n\n  function inject_raw_css(css) {\n    const element = document.createElement(\"style\");\n    element.appendChild(document.createTextNode(css));\n    document.body.appendChild(element);\n  }\n\n  var js_urls = [];\n  var js_modules = [];\n  var js_exports = {};\n  var css_urls = [];\n  var inline_js = [    function(Bokeh) {\n      Bokeh.set_log_level(\"info\");\n    },\nfunction(Bokeh) {} // ensure no trailing comma for IE\n  ];\n\n  function run_inline_js() {\n    if ((root.Bokeh !== undefined) || (force === true)) {\n      for (var i = 0; i < inline_js.length; i++) {\n\ttry {\n          inline_js[i].call(root, root.Bokeh);\n\t} catch(e) {\n\t  if (!reloading) {\n\t    throw e;\n\t  }\n\t}\n      }\n      // Cache old bokeh versions\n      if (Bokeh != undefined && !reloading) {\n\tvar NewBokeh = root.Bokeh;\n\tif (Bokeh.versions === undefined) {\n\t  Bokeh.versions = new Map();\n\t}\n\tif (NewBokeh.version !== Bokeh.version) {\n\t  Bokeh.versions.set(NewBokeh.version, NewBokeh)\n\t}\n\troot.Bokeh = Bokeh;\n      }} else if (Date.now() < root._bokeh_timeout) {\n      setTimeout(run_inline_js, 100);\n    } else if (!root._bokeh_failed_load) {\n      console.log(\"Bokeh: BokehJS failed to load within specified timeout.\");\n      root._bokeh_failed_load = true;\n    }\n    root._bokeh_is_initializing = false\n  }\n\n  function load_or_wait() {\n    // Implement a backoff loop that tries to ensure we do not load multiple\n    // versions of Bokeh and its dependencies at the same time.\n    // In recent versions we use the root._bokeh_is_initializing flag\n    // to determine whether there is an ongoing attempt to initialize\n    // bokeh, however for backward compatibility we also try to ensure\n    // that we do not start loading a newer (Panel>=1.0 and Bokeh>3) version\n    // before older versions are fully initialized.\n    if (root._bokeh_is_initializing && Date.now() > root._bokeh_timeout) {\n      root._bokeh_is_initializing = false;\n      root._bokeh_onload_callbacks = undefined;\n      console.log(\"Bokeh: BokehJS was loaded multiple times but one version failed to initialize.\");\n      load_or_wait();\n    } else if (root._bokeh_is_initializing || (typeof root._bokeh_is_initializing === \"undefined\" && root._bokeh_onload_callbacks !== undefined)) {\n      setTimeout(load_or_wait, 100);\n    } else {\n      root._bokeh_is_initializing = true\n      root._bokeh_onload_callbacks = []\n      var bokeh_loaded = Bokeh != null && (Bokeh.version === py_version || (Bokeh.versions !== undefined && Bokeh.versions.has(py_version)));\n      if (!reloading && !bokeh_loaded) {\n\troot.Bokeh = undefined;\n      }\n      load_libs(css_urls, js_urls, js_modules, js_exports, function() {\n\tconsole.debug(\"Bokeh: BokehJS plotting callback run at\", now());\n\trun_inline_js();\n      });\n    }\n  }\n  // Give older versions of the autoload script a head-start to ensure\n  // they initialize before we start loading newer version.\n  setTimeout(load_or_wait, 100)\n}(window));",
      "application/vnd.holoviews_load.v0+json": ""
     },
     "metadata": {},
     "output_type": "display_data"
    },
    {
     "data": {
      "application/javascript": "\nif ((window.PyViz === undefined) || (window.PyViz instanceof HTMLElement)) {\n  window.PyViz = {comms: {}, comm_status:{}, kernels:{}, receivers: {}, plot_index: []}\n}\n\n\n    function JupyterCommManager() {\n    }\n\n    JupyterCommManager.prototype.register_target = function(plot_id, comm_id, msg_handler) {\n      if (window.comm_manager || ((window.Jupyter !== undefined) && (Jupyter.notebook.kernel != null))) {\n        var comm_manager = window.comm_manager || Jupyter.notebook.kernel.comm_manager;\n        comm_manager.register_target(comm_id, function(comm) {\n          comm.on_msg(msg_handler);\n        });\n      } else if ((plot_id in window.PyViz.kernels) && (window.PyViz.kernels[plot_id])) {\n        window.PyViz.kernels[plot_id].registerCommTarget(comm_id, function(comm) {\n          comm.onMsg = msg_handler;\n        });\n      } else if (typeof google != 'undefined' && google.colab.kernel != null) {\n        google.colab.kernel.comms.registerTarget(comm_id, (comm) => {\n          var messages = comm.messages[Symbol.asyncIterator]();\n          function processIteratorResult(result) {\n            var message = result.value;\n            console.log(message)\n            var content = {data: message.data, comm_id};\n            var buffers = []\n            for (var buffer of message.buffers || []) {\n              buffers.push(new DataView(buffer))\n            }\n            var metadata = message.metadata || {};\n            var msg = {content, buffers, metadata}\n            msg_handler(msg);\n            return messages.next().then(processIteratorResult);\n          }\n          return messages.next().then(processIteratorResult);\n        })\n      }\n    }\n\n    JupyterCommManager.prototype.get_client_comm = function(plot_id, comm_id, msg_handler) {\n      if (comm_id in window.PyViz.comms) {\n        return window.PyViz.comms[comm_id];\n      } else if (window.comm_manager || ((window.Jupyter !== undefined) && (Jupyter.notebook.kernel != null))) {\n        var comm_manager = window.comm_manager || Jupyter.notebook.kernel.comm_manager;\n        var comm = comm_manager.new_comm(comm_id, {}, {}, {}, comm_id);\n        if (msg_handler) {\n          comm.on_msg(msg_handler);\n        }\n      } else if ((plot_id in window.PyViz.kernels) && (window.PyViz.kernels[plot_id])) {\n        var comm = window.PyViz.kernels[plot_id].connectToComm(comm_id);\n        comm.open();\n        if (msg_handler) {\n          comm.onMsg = msg_handler;\n        }\n      } else if (typeof google != 'undefined' && google.colab.kernel != null) {\n        var comm_promise = google.colab.kernel.comms.open(comm_id)\n        comm_promise.then((comm) => {\n          window.PyViz.comms[comm_id] = comm;\n          if (msg_handler) {\n            var messages = comm.messages[Symbol.asyncIterator]();\n            function processIteratorResult(result) {\n              var message = result.value;\n              var content = {data: message.data};\n              var metadata = message.metadata || {comm_id};\n              var msg = {content, metadata}\n              msg_handler(msg);\n              return messages.next().then(processIteratorResult);\n            }\n            return messages.next().then(processIteratorResult);\n          }\n        }) \n        var sendClosure = (data, metadata, buffers, disposeOnDone) => {\n          return comm_promise.then((comm) => {\n            comm.send(data, metadata, buffers, disposeOnDone);\n          });\n        };\n        var comm = {\n          send: sendClosure\n        };\n      }\n      window.PyViz.comms[comm_id] = comm;\n      return comm;\n    }\n    window.PyViz.comm_manager = new JupyterCommManager();\n    \n\n\nvar JS_MIME_TYPE = 'application/javascript';\nvar HTML_MIME_TYPE = 'text/html';\nvar EXEC_MIME_TYPE = 'application/vnd.holoviews_exec.v0+json';\nvar CLASS_NAME = 'output';\n\n/**\n * Render data to the DOM node\n */\nfunction render(props, node) {\n  var div = document.createElement(\"div\");\n  var script = document.createElement(\"script\");\n  node.appendChild(div);\n  node.appendChild(script);\n}\n\n/**\n * Handle when a new output is added\n */\nfunction handle_add_output(event, handle) {\n  var output_area = handle.output_area;\n  var output = handle.output;\n  if ((output.data == undefined) || (!output.data.hasOwnProperty(EXEC_MIME_TYPE))) {\n    return\n  }\n  var id = output.metadata[EXEC_MIME_TYPE][\"id\"];\n  var toinsert = output_area.element.find(\".\" + CLASS_NAME.split(' ')[0]);\n  if (id !== undefined) {\n    var nchildren = toinsert.length;\n    var html_node = toinsert[nchildren-1].children[0];\n    html_node.innerHTML = output.data[HTML_MIME_TYPE];\n    var scripts = [];\n    var nodelist = html_node.querySelectorAll(\"script\");\n    for (var i in nodelist) {\n      if (nodelist.hasOwnProperty(i)) {\n        scripts.push(nodelist[i])\n      }\n    }\n\n    scripts.forEach( function (oldScript) {\n      var newScript = document.createElement(\"script\");\n      var attrs = [];\n      var nodemap = oldScript.attributes;\n      for (var j in nodemap) {\n        if (nodemap.hasOwnProperty(j)) {\n          attrs.push(nodemap[j])\n        }\n      }\n      attrs.forEach(function(attr) { newScript.setAttribute(attr.name, attr.value) });\n      newScript.appendChild(document.createTextNode(oldScript.innerHTML));\n      oldScript.parentNode.replaceChild(newScript, oldScript);\n    });\n    if (JS_MIME_TYPE in output.data) {\n      toinsert[nchildren-1].children[1].textContent = output.data[JS_MIME_TYPE];\n    }\n    output_area._hv_plot_id = id;\n    if ((window.Bokeh !== undefined) && (id in Bokeh.index)) {\n      window.PyViz.plot_index[id] = Bokeh.index[id];\n    } else {\n      window.PyViz.plot_index[id] = null;\n    }\n  } else if (output.metadata[EXEC_MIME_TYPE][\"server_id\"] !== undefined) {\n    var bk_div = document.createElement(\"div\");\n    bk_div.innerHTML = output.data[HTML_MIME_TYPE];\n    var script_attrs = bk_div.children[0].attributes;\n    for (var i = 0; i < script_attrs.length; i++) {\n      toinsert[toinsert.length - 1].childNodes[1].setAttribute(script_attrs[i].name, script_attrs[i].value);\n    }\n    // store reference to server id on output_area\n    output_area._bokeh_server_id = output.metadata[EXEC_MIME_TYPE][\"server_id\"];\n  }\n}\n\n/**\n * Handle when an output is cleared or removed\n */\nfunction handle_clear_output(event, handle) {\n  var id = handle.cell.output_area._hv_plot_id;\n  var server_id = handle.cell.output_area._bokeh_server_id;\n  if (((id === undefined) || !(id in PyViz.plot_index)) && (server_id !== undefined)) { return; }\n  var comm = window.PyViz.comm_manager.get_client_comm(\"hv-extension-comm\", \"hv-extension-comm\", function () {});\n  if (server_id !== null) {\n    comm.send({event_type: 'server_delete', 'id': server_id});\n    return;\n  } else if (comm !== null) {\n    comm.send({event_type: 'delete', 'id': id});\n  }\n  delete PyViz.plot_index[id];\n  if ((window.Bokeh !== undefined) & (id in window.Bokeh.index)) {\n    var doc = window.Bokeh.index[id].model.document\n    doc.clear();\n    const i = window.Bokeh.documents.indexOf(doc);\n    if (i > -1) {\n      window.Bokeh.documents.splice(i, 1);\n    }\n  }\n}\n\n/**\n * Handle kernel restart event\n */\nfunction handle_kernel_cleanup(event, handle) {\n  delete PyViz.comms[\"hv-extension-comm\"];\n  window.PyViz.plot_index = {}\n}\n\n/**\n * Handle update_display_data messages\n */\nfunction handle_update_output(event, handle) {\n  handle_clear_output(event, {cell: {output_area: handle.output_area}})\n  handle_add_output(event, handle)\n}\n\nfunction register_renderer(events, OutputArea) {\n  function append_mime(data, metadata, element) {\n    // create a DOM node to render to\n    var toinsert = this.create_output_subarea(\n    metadata,\n    CLASS_NAME,\n    EXEC_MIME_TYPE\n    );\n    this.keyboard_manager.register_events(toinsert);\n    // Render to node\n    var props = {data: data, metadata: metadata[EXEC_MIME_TYPE]};\n    render(props, toinsert[0]);\n    element.append(toinsert);\n    return toinsert\n  }\n\n  events.on('output_added.OutputArea', handle_add_output);\n  events.on('output_updated.OutputArea', handle_update_output);\n  events.on('clear_output.CodeCell', handle_clear_output);\n  events.on('delete.Cell', handle_clear_output);\n  events.on('kernel_ready.Kernel', handle_kernel_cleanup);\n\n  OutputArea.prototype.register_mime_type(EXEC_MIME_TYPE, append_mime, {\n    safe: true,\n    index: 0\n  });\n}\n\nif (window.Jupyter !== undefined) {\n  try {\n    var events = require('base/js/events');\n    var OutputArea = require('notebook/js/outputarea').OutputArea;\n    if (OutputArea.prototype.mime_types().indexOf(EXEC_MIME_TYPE) == -1) {\n      register_renderer(events, OutputArea);\n    }\n  } catch(err) {\n  }\n}\n",
      "application/vnd.holoviews_load.v0+json": ""
     },
     "metadata": {},
     "output_type": "display_data"
    },
    {
     "data": {
      "text/html": [
       "<style>*[data-root-id],\n",
       "*[data-root-id] > * {\n",
       "  box-sizing: border-box;\n",
       "  font-family: var(--jp-ui-font-family);\n",
       "  font-size: var(--jp-ui-font-size1);\n",
       "  color: var(--vscode-editor-foreground, var(--jp-ui-font-color1));\n",
       "}\n",
       "\n",
       "/* Override VSCode background color */\n",
       ".cell-output-ipywidget-background:has(\n",
       "    > .cell-output-ipywidget-background > .lm-Widget > *[data-root-id]\n",
       "  ),\n",
       ".cell-output-ipywidget-background:has(> .lm-Widget > *[data-root-id]) {\n",
       "  background-color: transparent !important;\n",
       "}\n",
       "</style>"
      ]
     },
     "metadata": {},
     "output_type": "display_data"
    }
   ],
   "source": [
    "import tomllib\n",
    "from pathlib import Path\n",
    "\n",
    "import hvplot.polars  # noqa\n",
    "import polars as pl\n",
    "\n",
    "hvplot.extension(\"matplotlib\")\n"
   ]
  },
  {
   "cell_type": "code",
   "execution_count": 2,
   "metadata": {},
   "outputs": [],
   "source": [
    "config_filepath = \"../../pipeline_config.toml\"\n",
    "with open(config_filepath, \"rb\") as f:\n",
    "    config = tomllib.load(f)"
   ]
  },
  {
   "cell_type": "code",
   "execution_count": 3,
   "metadata": {},
   "outputs": [],
   "source": [
    "hh = pl.read_csv(Path(config[\"raw\"][\"dir\"]) / config[\"hh_filename\"])\n",
    "person = pl.read_csv(Path(config[\"raw\"][\"dir\"]) / config[\"person_filename\"])\n",
    "trip = pl.read_csv(Path(config[\"raw\"][\"dir\"]) / config[\"trip_filename\"])\n",
    "day = pl.read_csv(Path(config[\"raw\"][\"dir\"]) / config[\"day_filename\"]).with_columns(\n",
    "    pl.col(\"hh_day_complete\").cast(bool)\n",
    ")\n",
    "personday = day.join(person, on=\"person_id\")\n",
    "tripday = trip.join(day, on=\"day_id\")"
   ]
  },
  {
   "cell_type": "code",
   "execution_count": 4,
   "metadata": {},
   "outputs": [],
   "source": [
    "# the day weight is the person-day weight, except that the person-day weight = 0 for\n",
    "# incomplete hh days (i.e. only days where the entire hh is complete is counted, even\n",
    "# if a person has a complete set of trips on that day---this can be seen most clearly in\n",
    "# the case of proxy reporting for kids: only the day of proxy reporting for the kids\n",
    "# has non-zero weights for the adults, even if the adults are on rMove the entire week)"
   ]
  },
  {
   "cell_type": "code",
   "execution_count": 5,
   "metadata": {},
   "outputs": [
    {
     "name": "stdout",
     "output_type": "stream",
     "text": [
      "From here on, I refer to the day weights as (person-)day weights, because that's what they are.\n"
     ]
    }
   ],
   "source": [
    "print(\n",
    "    \"From here on, I refer to the day weights as (person-)day weights, \"\n",
    "    \"because that's what they are.\"\n",
    ")\n"
   ]
  },
  {
   "cell_type": "code",
   "execution_count": 6,
   "metadata": {},
   "outputs": [
    {
     "name": "stdout",
     "output_type": "stream",
     "text": [
      "For each person, if we only count Tue/Wed/Thu days that are complete for the entire hh, the (person-)day weight is nonzero and unique\n"
     ]
    },
    {
     "data": {
      "text/html": [
       "<div><style>\n",
       ".dataframe > thead > tr,\n",
       ".dataframe > tbody > tr {\n",
       "  text-align: right;\n",
       "  white-space: pre-wrap;\n",
       "}\n",
       "</style>\n",
       "<small>shape: (1, 2)</small><table border=\"1\" class=\"dataframe\"><thead><tr><th>day_weight_is_unique</th><th>day_weight_gt_zero</th></tr><tr><td>bool</td><td>bool</td></tr></thead><tbody><tr><td>true</td><td>true</td></tr></tbody></table></div>"
      ],
      "text/plain": [
       "shape: (1, 2)\n",
       "┌──────────────────────┬────────────────────┐\n",
       "│ day_weight_is_unique ┆ day_weight_gt_zero │\n",
       "│ ---                  ┆ ---                │\n",
       "│ bool                 ┆ bool               │\n",
       "╞══════════════════════╪════════════════════╡\n",
       "│ true                 ┆ true               │\n",
       "└──────────────────────┴────────────────────┘"
      ]
     },
     "execution_count": 6,
     "metadata": {},
     "output_type": "execute_result"
    }
   ],
   "source": [
    "print(\n",
    "    \"For each person, if we only count Tue/Wed/Thu days that are complete for the \"\n",
    "    \"entire hh, \\nthe (person-)day weight is nonzero and unique\"\n",
    ")\n",
    "day.filter(pl.col(\"travel_dow\").is_in([2, 3, 4]) & pl.col(\"hh_day_complete\")).group_by(\n",
    "    \"person_id\"\n",
    ").agg(pl.col(\"day_weight\").unique()).select(\n",
    "    day_weight_is_unique=(pl.col(\"day_weight\").list.len() == 1).all(),\n",
    "    day_weight_gt_zero=(pl.col(\"day_weight\").list.first() > 0).all(),\n",
    ")\n"
   ]
  },
  {
   "cell_type": "code",
   "execution_count": 7,
   "metadata": {},
   "outputs": [
    {
     "name": "stdout",
     "output_type": "stream",
     "text": [
      "(person-)day weights behave as expected:\n",
      "For each person-day, (person-)day weight = person weight / (number of Tue/Wed/Thu days that are complete for the entire hh)\n"
     ]
    },
    {
     "data": {
      "text/html": [
       "<div><style>\n",
       ".dataframe > thead > tr,\n",
       ".dataframe > tbody > tr {\n",
       "  text-align: right;\n",
       "  white-space: pre-wrap;\n",
       "}\n",
       "</style>\n",
       "<small>shape: (1, 1)</small><table border=\"1\" class=\"dataframe\"><thead><tr><th>person_weight</th></tr><tr><td>bool</td></tr></thead><tbody><tr><td>true</td></tr></tbody></table></div>"
      ],
      "text/plain": [
       "shape: (1, 1)\n",
       "┌───────────────┐\n",
       "│ person_weight │\n",
       "│ ---           │\n",
       "│ bool          │\n",
       "╞═══════════════╡\n",
       "│ true          │\n",
       "└───────────────┘"
      ]
     },
     "execution_count": 7,
     "metadata": {},
     "output_type": "execute_result"
    }
   ],
   "source": [
    "print(\"(person-)day weights behave as expected:\")\n",
    "print(\n",
    "    \"For each person-day, (person-)day weight = person weight / \"\n",
    "    \"(number of Tue/Wed/Thu days that are complete for the entire hh)\"\n",
    ")\n",
    "# need to round because float comparisons are inexact,\n",
    "# and isclose isn't implemented in polars\n",
    "personday.filter(\n",
    "    pl.col(\"travel_dow\").is_in([2, 3, 4]) & pl.col(\"hh_day_complete\")\n",
    ").group_by(\"person_id\").agg(\n",
    "    pl.len(),\n",
    "    pl.col(\"person_weight\").unique().first(),\n",
    "    pl.col(\"day_weight\").unique().first(),\n",
    ").select(\n",
    "    (\n",
    "        (pl.col(\"person_weight\") / pl.col(\"len\")).round(6)\n",
    "        == pl.col(\"day_weight\").round(6)\n",
    "    ).all()\n",
    ")"
   ]
  },
  {
   "cell_type": "code",
   "execution_count": 8,
   "metadata": {},
   "outputs": [
    {
     "name": "stdout",
     "output_type": "stream",
     "text": [
      "(trip_weight == 0) iff (day_weight == 0):\n",
      "True True\n"
     ]
    }
   ],
   "source": [
    "print(\"(trip_weight == 0) iff (day_weight == 0):\")\n",
    "print(\n",
    "    tripday.filter(pl.col(\"trip_weight\") == 0)\n",
    "    .select((pl.col(\"day_weight\") == 0).all())\n",
    "    .item(),\n",
    "    tripday.filter(pl.col(\"day_weight\") == 0)\n",
    "    .select((pl.col(\"trip_weight\") == 0).all())\n",
    "    .item(),\n",
    ")"
   ]
  },
  {
   "cell_type": "code",
   "execution_count": 9,
   "metadata": {},
   "outputs": [
    {
     "name": "stdout",
     "output_type": "stream",
     "text": [
      "all rMove trips have trip_weight == day_weight: True\n"
     ]
    }
   ],
   "source": [
    "print(\n",
    "    \"all rMove trips have trip_weight == day_weight:\",\n",
    "    (\n",
    "        tripday.filter(pl.col(\"trip_weight_rmove_only\") > 0)  # only look at rMove trips\n",
    "        .select((pl.col(\"trip_weight\") == pl.col(\"day_weight\")).all())\n",
    "        .item()\n",
    "    ),\n",
    ")\n"
   ]
  },
  {
   "cell_type": "code",
   "execution_count": 10,
   "metadata": {},
   "outputs": [
    {
     "name": "stdout",
     "output_type": "stream",
     "text": [
      "all non-rMove trips have trip_weight = day_weight * (trip factor between 1.0 and 2.0000000000000093)\n"
     ]
    },
    {
     "data": {
      "text/html": [
       "<img src='data:image/png;base64,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' style='max-width:100%; margin: auto; display: block; '/>"
      ],
      "text/plain": [
       ":Histogram   [trip_weight]   (Count)"
      ]
     },
     "execution_count": 10,
     "metadata": {
      "application/vnd.holoviews_exec.v0+json": {}
     },
     "output_type": "execute_result"
    }
   ],
   "source": [
    "non_rmove_trips_with_nonzero_weight_trip_weight_day_weight_ratio = (\n",
    "    tripday\n",
    "    # only look at non-rMove trips with day_weight > 0\n",
    "    .filter(\n",
    "        (pl.col(\"trip_weight_rmove_only\") == 0) & (pl.col(\"day_weight\") > 0)\n",
    "    ).select((pl.col(\"trip_weight\") / pl.col(\"day_weight\")))\n",
    ")\n",
    "print(\n",
    "    \"all non-rMove trips have:\n",
    "    \"trip_weight = day_weight * (trip factor between \"\n",
    "    f\"{non_rmove_trips_with_nonzero_weight_trip_weight_day_weight_ratio.min().item()} \"\n",
    "    \"and \"\n",
    "    f\"{non_rmove_trips_with_nonzero_weight_trip_weight_day_weight_ratio.max().item()})\"\n",
    ")\n",
    "non_rmove_trips_with_nonzero_weight_trip_weight_day_weight_ratio.plot.hist()"
   ]
  },
  {
   "cell_type": "code",
   "execution_count": 11,
   "metadata": {},
   "outputs": [
    {
     "name": "stdout",
     "output_type": "stream",
     "text": [
      "the day_weight sum would be the number of trips WITHOUT the trip factor adjustment for non-rMove trips\n",
      "the trip_weight sum is the number of trips WITH the trip factor adjustment for non-rMove trips\n"
     ]
    },
    {
     "data": {
      "text/html": [
       "<div><style>\n",
       ".dataframe > thead > tr,\n",
       ".dataframe > tbody > tr {\n",
       "  text-align: right;\n",
       "  white-space: pre-wrap;\n",
       "}\n",
       "</style>\n",
       "<small>shape: (1, 4)</small><table border=\"1\" class=\"dataframe\"><thead><tr><th>trip_weight</th><th>trip_weight_rmove_only</th><th>day_weight</th><th>day_weight_rmove_only</th></tr><tr><td>f64</td><td>f64</td><td>f64</td><td>f64</td></tr></thead><tbody><tr><td>2.5426e7</td><td>2.5208e7</td><td>2.3775e7</td><td>2.5208e7</td></tr></tbody></table></div>"
      ],
      "text/plain": [
       "shape: (1, 4)\n",
       "┌─────────────┬────────────────────────┬────────────┬───────────────────────┐\n",
       "│ trip_weight ┆ trip_weight_rmove_only ┆ day_weight ┆ day_weight_rmove_only │\n",
       "│ ---         ┆ ---                    ┆ ---        ┆ ---                   │\n",
       "│ f64         ┆ f64                    ┆ f64        ┆ f64                   │\n",
       "╞═════════════╪════════════════════════╪════════════╪═══════════════════════╡\n",
       "│ 2.5426e7    ┆ 2.5208e7               ┆ 2.3775e7   ┆ 2.5208e7              │\n",
       "└─────────────┴────────────────────────┴────────────┴───────────────────────┘"
      ]
     },
     "execution_count": 11,
     "metadata": {},
     "output_type": "execute_result"
    }
   ],
   "source": [
    "print(\n",
    "    \"the day_weight sum would be the number of trips \"\n",
    "    \"WITHOUT the trip factor adjustment for non-rMove trips\"\n",
    ")\n",
    "print(\n",
    "    \"the trip_weight sum is the number of trips \"\n",
    "    \"WITH the trip factor adjustment for non-rMove trips\"\n",
    ")\n",
    "trip.join(day, on=\"day_id\").select(\n",
    "    pl.sum(\n",
    "        \"trip_weight\", \"trip_weight_rmove_only\", \"day_weight\", \"day_weight_rmove_only\"\n",
    "    )\n",
    ")\n"
   ]
  }
 ],
 "metadata": {
  "kernelspec": {
   "display_name": "Python 3",
   "language": "python",
   "name": "python3"
  },
  "language_info": {
   "codemirror_mode": {
    "name": "ipython",
    "version": 3
   },
   "file_extension": ".py",
   "mimetype": "text/x-python",
   "name": "python",
   "nbconvert_exporter": "python",
   "pygments_lexer": "ipython3",
   "version": "3.12.1"
  }
 },
 "nbformat": 4,
 "nbformat_minor": 2
}
