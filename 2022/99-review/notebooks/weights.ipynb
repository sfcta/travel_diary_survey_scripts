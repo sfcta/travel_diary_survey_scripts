{
 "cells": [
  {
   "cell_type": "code",
   "execution_count": 1,
   "metadata": {},
   "outputs": [],
   "source": [
    "from pathlib import Path\n",
    "\n",
    "import polars as pl"
   ]
  },
  {
   "cell_type": "code",
   "execution_count": 2,
   "metadata": {},
   "outputs": [],
   "source": [
    "raw_dir = Path(r\"Q:\\Data\\Surveys\\HouseholdSurveys\\MTC-SFCTA2022\\Deliverable_20240809\")"
   ]
  },
  {
   "cell_type": "code",
   "execution_count": 3,
   "metadata": {},
   "outputs": [],
   "source": [
    "hh = pl.read_csv(\n",
    "    raw_dir / \"hh.csv\", columns=[\"hh_id\", \"hh_weight\", \"hh_weight_rmove_only\"]\n",
    ")\n",
    "person = pl.read_csv(\n",
    "    raw_dir / \"person.csv\",\n",
    "    columns=[\n",
    "        \"hh_id\",\n",
    "        \"person_num\",\n",
    "        \"person_weight\",\n",
    "        \"person_weight_rmove_only\",\n",
    "        \"is_complete\",\n",
    "    ],\n",
    ").join(hh, on=\"hh_id\")"
   ]
  },
  {
   "cell_type": "code",
   "execution_count": 4,
   "metadata": {},
   "outputs": [
    {
     "data": {
      "text/plain": [
       "0"
      ]
     },
     "execution_count": 4,
     "metadata": {},
     "output_type": "execute_result"
    }
   ],
   "source": [
    "# all households have a non-zero weight\n",
    "len(hh.filter(pl.col(\"hh_weight\") == 0))\n"
   ]
  },
  {
   "cell_type": "code",
   "execution_count": 5,
   "metadata": {},
   "outputs": [],
   "source": [
    "# for persons: (is_complete == 995) iff (person_weight == 0)"
   ]
  },
  {
   "cell_type": "code",
   "execution_count": 6,
   "metadata": {},
   "outputs": [
    {
     "data": {
      "text/html": [
       "<div><style>\n",
       ".dataframe > thead > tr,\n",
       ".dataframe > tbody > tr {\n",
       "  text-align: right;\n",
       "  white-space: pre-wrap;\n",
       "}\n",
       "</style>\n",
       "<small>shape: (1, 1)</small><table border=\"1\" class=\"dataframe\"><thead><tr><th>is_complete</th></tr><tr><td>i64</td></tr></thead><tbody><tr><td>995</td></tr></tbody></table></div>"
      ],
      "text/plain": [
       "shape: (1, 1)\n",
       "┌─────────────┐\n",
       "│ is_complete │\n",
       "│ ---         │\n",
       "│ i64         │\n",
       "╞═════════════╡\n",
       "│ 995         │\n",
       "└─────────────┘"
      ]
     },
     "execution_count": 6,
     "metadata": {},
     "output_type": "execute_result"
    }
   ],
   "source": [
    "person.filter(pl.col(\"person_weight\") == 0).select(pl.col(\"is_complete\").unique())"
   ]
  },
  {
   "cell_type": "code",
   "execution_count": 7,
   "metadata": {},
   "outputs": [
    {
     "data": {
      "text/html": [
       "<div><style>\n",
       ".dataframe > thead > tr,\n",
       ".dataframe > tbody > tr {\n",
       "  text-align: right;\n",
       "  white-space: pre-wrap;\n",
       "}\n",
       "</style>\n",
       "<small>shape: (1, 1)</small><table border=\"1\" class=\"dataframe\"><thead><tr><th>person_weight</th></tr><tr><td>f64</td></tr></thead><tbody><tr><td>0.0</td></tr></tbody></table></div>"
      ],
      "text/plain": [
       "shape: (1, 1)\n",
       "┌───────────────┐\n",
       "│ person_weight │\n",
       "│ ---           │\n",
       "│ f64           │\n",
       "╞═══════════════╡\n",
       "│ 0.0           │\n",
       "└───────────────┘"
      ]
     },
     "execution_count": 7,
     "metadata": {},
     "output_type": "execute_result"
    }
   ],
   "source": [
    "person.filter(pl.col(\"is_complete\") == 995).select(pl.col(\"person_weight\").unique())"
   ]
  },
  {
   "cell_type": "code",
   "execution_count": 8,
   "metadata": {},
   "outputs": [
    {
     "name": "stdout",
     "output_type": "stream",
     "text": [
      "person_weight and hh_weight all equal? False\n",
      "total number of persons: 15985\n",
      "number of persons with different person and hh weights: 775\n",
      "number of persons with different rmove-only person and hh weights: 710\n"
     ]
    }
   ],
   "source": [
    "print(\n",
    "    \"person_weight and hh_weight all equal?\",\n",
    "    person.select((pl.col(\"person_weight\") == pl.col(\"hh_weight\")).all()).item(),\n",
    ")\n",
    "print(\"total number of persons:\", len(person))\n",
    "print(\n",
    "    \"number of persons with different person and hh weights:\",\n",
    "    len(person.filter((pl.col(\"person_weight\") != pl.col(\"hh_weight\")))),\n",
    ")\n",
    "print(\n",
    "    \"number of persons with different rmove-only person and hh weights:\",\n",
    "    len(\n",
    "        person.filter(\n",
    "            (pl.col(\"person_weight_rmove_only\") != pl.col(\"hh_weight_rmove_only\"))\n",
    "        )\n",
    "    ),\n",
    ")"
   ]
  },
  {
   "cell_type": "code",
   "execution_count": 9,
   "metadata": {},
   "outputs": [
    {
     "name": "stdout",
     "output_type": "stream",
     "text": [
      "of persons with different person and hh weights, all of them have a person weight of 0:\n"
     ]
    },
    {
     "data": {
      "text/html": [
       "<div><style>\n",
       ".dataframe > thead > tr,\n",
       ".dataframe > tbody > tr {\n",
       "  text-align: right;\n",
       "  white-space: pre-wrap;\n",
       "}\n",
       "</style>\n",
       "<small>shape: (1, 1)</small><table border=\"1\" class=\"dataframe\"><thead><tr><th>person_weight</th></tr><tr><td>bool</td></tr></thead><tbody><tr><td>true</td></tr></tbody></table></div>"
      ],
      "text/plain": [
       "shape: (1, 1)\n",
       "┌───────────────┐\n",
       "│ person_weight │\n",
       "│ ---           │\n",
       "│ bool          │\n",
       "╞═══════════════╡\n",
       "│ true          │\n",
       "└───────────────┘"
      ]
     },
     "execution_count": 9,
     "metadata": {},
     "output_type": "execute_result"
    }
   ],
   "source": [
    "print(\n",
    "    \"of persons with different person and hh weights, \"\n",
    "    \"all of them have a person weight of 0:\"\n",
    ")\n",
    "person.filter((pl.col(\"person_weight\") != pl.col(\"hh_weight\"))).select(\n",
    "    (pl.col(\"person_weight\") == 0).all()\n",
    ")"
   ]
  },
  {
   "cell_type": "code",
   "execution_count": 10,
   "metadata": {},
   "outputs": [
    {
     "name": "stdout",
     "output_type": "stream",
     "text": [
      "of persons with different rmove-only person and hh weights, all of them have a rmove-only person weight of 0:\n"
     ]
    },
    {
     "data": {
      "text/html": [
       "<div><style>\n",
       ".dataframe > thead > tr,\n",
       ".dataframe > tbody > tr {\n",
       "  text-align: right;\n",
       "  white-space: pre-wrap;\n",
       "}\n",
       "</style>\n",
       "<small>shape: (1, 1)</small><table border=\"1\" class=\"dataframe\"><thead><tr><th>person_weight_rmove_only</th></tr><tr><td>bool</td></tr></thead><tbody><tr><td>true</td></tr></tbody></table></div>"
      ],
      "text/plain": [
       "shape: (1, 1)\n",
       "┌──────────────────────────┐\n",
       "│ person_weight_rmove_only │\n",
       "│ ---                      │\n",
       "│ bool                     │\n",
       "╞══════════════════════════╡\n",
       "│ true                     │\n",
       "└──────────────────────────┘"
      ]
     },
     "execution_count": 10,
     "metadata": {},
     "output_type": "execute_result"
    }
   ],
   "source": [
    "print(\n",
    "    \"of persons with different rmove-only person and hh weights, \"\n",
    "    \"all of them have a rmove-only person weight of 0:\"\n",
    ")\n",
    "person.filter(\n",
    "    pl.col(\"person_weight_rmove_only\") != pl.col(\"hh_weight_rmove_only\")\n",
    ").select((pl.col(\"person_weight_rmove_only\") == 0).all())"
   ]
  }
 ],
 "metadata": {
  "kernelspec": {
   "display_name": "py312",
   "language": "python",
   "name": "python3"
  },
  "language_info": {
   "codemirror_mode": {
    "name": "ipython",
    "version": 3
   },
   "file_extension": ".py",
   "mimetype": "text/x-python",
   "name": "python",
   "nbconvert_exporter": "python",
   "pygments_lexer": "ipython3",
   "version": "3.12.3"
  }
 },
 "nbformat": 4,
 "nbformat_minor": 2
}
