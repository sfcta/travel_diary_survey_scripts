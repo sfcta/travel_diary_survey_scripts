{
 "cells": [
  {
   "cell_type": "code",
   "execution_count": null,
   "metadata": {},
   "outputs": [],
   "source": [
    "from pathlib import Path\n",
    "\n",
    "import polars as pl"
   ]
  },
  {
   "cell_type": "code",
   "execution_count": null,
   "metadata": {},
   "outputs": [],
   "source": [
    "survey_processed_dir = Path(\n",
    "    \"Q:/Data/Surveys/HouseholdSurveys/MTC-SFCTA2018/Processing_20211018\"\n",
    ")\n",
    "taz_spatial_join_dir = survey_processed_dir / \"spatial_join\"\n",
    "reformat_dir = survey_processed_dir / \"1_reformat_survey\"\n",
    "tour_extract_dir = survey_processed_dir / \"2_tour_extract\"\n",
    "tour_extract_allwk_dir = tour_extract_dir / \"wt_7day\"\n",
    "tour_extract_wkday_dir = tour_extract_dir / \"wt_wkday\"\n",
    "merge_skims_dir = survey_processed_dir / \"3_merge_skims\"\n",
    "\n",
    "out_dir = survey_processed_dir / \"5-summary_notebooks\"\n",
    "out_dir.mkdir(exist_ok=True)\n",
    "out_filepath = out_dir / \"output_csv_lengths.csv\""
   ]
  },
  {
   "cell_type": "code",
   "execution_count": null,
   "metadata": {},
   "outputs": [],
   "source": [
    "def get_csv_len(csv_filepath, separator=\",\"):\n",
    "    # with open(csv_filepath, \"rb\") as f:\n",
    "    #     return sum(1 for _ in f) - 1 # count the number of lines (drop the last newline)\n",
    "    return (\n",
    "        pl.scan_csv(csv_filepath, separator=separator).select(pl.len()).collect().item()\n",
    "    )"
   ]
  },
  {
   "cell_type": "code",
   "execution_count": null,
   "metadata": {},
   "outputs": [],
   "source": [
    "# TODO once filenames are more standardized, maybe we can simplify this\n",
    "# TODO is there a cleaner way to do this?\n",
    "df = pl.from_dict(\n",
    "    {\n",
    "        \"step\": [\n",
    "            # \"0-raw\",\n",
    "            \"0-taz_spatial_join\",\n",
    "            \"2a-reformat\",\n",
    "            \"2b-link_trips_week\",\n",
    "            \"3a-tour_extract\",\n",
    "            \"3b-tour_extract-wt_7day\",\n",
    "            \"3b-tour_extract-wt_wkday\",\n",
    "            \"4a-merge_skims\",\n",
    "        ],\n",
    "        \"hh\": [\n",
    "            # get_csv_len(survey_processed_dir / \"hh.csv\"),\n",
    "            get_csv_len(taz_spatial_join_dir / \"ex_hh_wZones.csv\"),\n",
    "            get_csv_len(reformat_dir / \"temp_hrecx.dat\", separator=\" \"),\n",
    "            None,\n",
    "            get_csv_len(tour_extract_dir / \"survey2018_hrecx.dat\", separator=\" \"),\n",
    "            get_csv_len(tour_extract_allwk_dir / \"survey2018_hrecx.dat\", separator=\" \"),\n",
    "            get_csv_len(tour_extract_wkday_dir / \"survey2018_hrecx.dat\", separator=\" \"),\n",
    "            get_csv_len(merge_skims_dir / \"survey2018_hrecx.dat\", separator=\" \"),\n",
    "        ],\n",
    "        \"person\": [\n",
    "            # get_csv_len(survey_processed_dir / \"person.csv\"),\n",
    "            get_csv_len(taz_spatial_join_dir / \"ex_person_wZones.csv\"),\n",
    "            get_csv_len(reformat_dir / \"temp_precx.dat\", separator=\" \"),\n",
    "            None,\n",
    "            get_csv_len(tour_extract_dir / \"survey2018_precx.dat\", separator=\" \"),\n",
    "            get_csv_len(tour_extract_allwk_dir / \"survey2018_precx.dat\", separator=\" \"),\n",
    "            get_csv_len(tour_extract_wkday_dir / \"survey2018_precx.dat\", separator=\" \"),\n",
    "            get_csv_len(merge_skims_dir / \"survey2018_precx.dat\", separator=\" \"),\n",
    "        ],\n",
    "        \"trip\": [\n",
    "            # get_csv_len(survey_processed_dir / \"trip.csv\"),\n",
    "            get_csv_len(taz_spatial_join_dir / \"ex_trip_wZones.csv\"),\n",
    "            get_csv_len(reformat_dir / \"temp_tripx.dat\", separator=\" \"),\n",
    "            get_csv_len(reformat_dir / \"temp_tripx_linked_week.dat\", separator=\" \"),\n",
    "            get_csv_len(tour_extract_dir / \"survey2018_tripx.dat\", separator=\" \"),\n",
    "            get_csv_len(tour_extract_allwk_dir / \"survey2018_tripx.dat\", separator=\" \"),\n",
    "            get_csv_len(tour_extract_wkday_dir / \"survey2018_tripx.dat\", separator=\" \"),\n",
    "            get_csv_len(merge_skims_dir / \"survey2018_tripx.dat\", separator=\" \"),\n",
    "        ],\n",
    "        \"personday\": [\n",
    "            # None,\n",
    "            None,\n",
    "            None,\n",
    "            None,\n",
    "            get_csv_len(tour_extract_dir / \"survey2018_pdayx.dat\", separator=\" \"),\n",
    "            get_csv_len(tour_extract_allwk_dir / \"survey2018_pdayx.dat\", separator=\" \"),\n",
    "            get_csv_len(tour_extract_wkday_dir / \"survey2018_pdayx.dat\", separator=\" \"),\n",
    "            get_csv_len(merge_skims_dir / \"survey2018_pdayx.dat\", separator=\" \"),\n",
    "        ],\n",
    "        \"tour\": [\n",
    "            # None,\n",
    "            None,\n",
    "            None,\n",
    "            None,\n",
    "            get_csv_len(tour_extract_dir / \"survey2018_tourx.dat\", separator=\" \"),\n",
    "            get_csv_len(tour_extract_allwk_dir / \"survey2018_tourx.dat\", separator=\" \"),\n",
    "            get_csv_len(tour_extract_wkday_dir / \"survey2018_tourx.dat\", separator=\" \"),\n",
    "            get_csv_len(merge_skims_dir / \"survey2018_tourx.dat\", separator=\" \"),\n",
    "        ],\n",
    "        \"trip_detailed\": [\n",
    "            # None,\n",
    "            None,\n",
    "            None,\n",
    "            get_csv_len(reformat_dir / \"temp_tripx_linked_detail_week.csv\"),\n",
    "            None,\n",
    "            None,\n",
    "            None,\n",
    "            None,\n",
    "        ],\n",
    "        \"accegr_week\": [\n",
    "            # None,\n",
    "            None,\n",
    "            None,\n",
    "            get_csv_len(reformat_dir / \"accegr_week.csv\"),\n",
    "            None,\n",
    "            None,\n",
    "            None,\n",
    "            None,\n",
    "        ],\n",
    "    }\n",
    ")"
   ]
  },
  {
   "cell_type": "code",
   "execution_count": null,
   "metadata": {},
   "outputs": [],
   "source": [
    "print(df)"
   ]
  },
  {
   "cell_type": "code",
   "execution_count": null,
   "metadata": {},
   "outputs": [],
   "source": [
    "df.write_csv(out_filepath)"
   ]
  }
 ],
 "metadata": {
  "kernelspec": {
   "display_name": "py312",
   "language": "python",
   "name": "python3"
  },
  "language_info": {
   "codemirror_mode": {
    "name": "ipython",
    "version": 3
   },
   "file_extension": ".py",
   "mimetype": "text/x-python",
   "name": "python",
   "nbconvert_exporter": "python",
   "pygments_lexer": "ipython3",
   "version": "3.12.3"
  }
 },
 "nbformat": 4,
 "nbformat_minor": 2
}
