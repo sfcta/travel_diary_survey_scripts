{
 "cells": [
  {
   "cell_type": "code",
   "execution_count": 1,
   "id": "ab520fd0-736b-4fcf-b467-c797bd8ef31e",
   "metadata": {},
   "outputs": [],
   "source": [
    "import sys, os, copy\n",
    "import numpy as np\n",
    "import pandas as pd\n",
    "import geopandas as gpd\n",
    "import datetime as dt\n",
    "from survey import Survey, nine_to_county, purp_num_to_name18, purp_num_to_name23, mode_num_to_name23, county_order\n",
    "from processed_survey import ProcessedSurvey\n",
    "from survey_completeness import flag_complete, PERSON_REQS, HH_REQS, DAY_REQS, TRIP_REQS\n",
    "sys.path.insert(0, r'Y:\\champ\\util\\pythonlib-migration\\master_versions\\misc_utils')\n",
    "from df_utils import df_to_excel\n",
    "\n",
    "from openpyxl import load_workbook\n",
    "from openpyxl.cell import MergedCell"
   ]
  },
  {
   "cell_type": "code",
   "execution_count": 2,
   "id": "d8c32420-c754-4371-834f-c742e44954db",
   "metadata": {},
   "outputs": [],
   "source": [
    "SURVEY_2023 = {'household':{'filepath_or_buffer':r'..\\..\\..\\..\\Review_20241127\\flagged\\hh.csv'},\n",
    "               'person':{'filepath_or_buffer':r'..\\..\\..\\..\\Review_20241127\\flagged\\person.csv'},\n",
    "               'day':{'filepath_or_buffer':r'..\\..\\..\\..\\Review_20241127\\flagged\\day.csv'},\n",
    "               'trip':{'filepath_or_buffer':r'..\\..\\..\\..\\Review_20241127\\flagged\\trip.csv'},\n",
    "               'vehicle':{'filepath_or_buffer':r'..\\..\\..\\..\\Deliverable_20241127\\vehicle.csv'},\n",
    "               'location':{'filepath_or_buffer':r'..\\..\\..\\..\\Deliverable_20241127\\location.csv'},\n",
    "               }\n",
    "OUTDIR = r'..\\..\\..\\..\\Review_20241127'\n",
    "COUNTIES = r'Q:\\GIS\\Boundaries\\Counties\\Counties.shp'\n",
    "FIPS_COUNTIES   =['001','013','041','055','075','081','085','095','097']"
   ]
  },
  {
   "cell_type": "code",
   "execution_count": 3,
   "id": "6d35c00a-a589-4f32-9249-b3f64a00ee41",
   "metadata": {},
   "outputs": [],
   "source": [
    "template_path = r'<PATH>\\completeness_sensitivity.xlsx'\n",
    "output_path = r'<PATH>\\completeness_sensitivity_rmove_only.xlsx'"
   ]
  },
  {
   "cell_type": "code",
   "execution_count": 4,
   "id": "c73784d2-bb2a-4158-b4db-b7dcbbb0f578",
   "metadata": {},
   "outputs": [],
   "source": [
    "survey_args = {'dir':r'<PATH>',\n",
    "               'hh':    {'file':'survey2023_hrecx_rewt_base2023.dat',\n",
    "                         'sep':' ',\n",
    "                         'weight':'hhexpfac'},\n",
    "               'person':{'file':'survey2023_precx_rewt_base2023.dat',\n",
    "                         'sep':' ',\n",
    "                         'weight':'psexpfac'},\n",
    "               'day':   {'file':'survey2023_pdayx_rewt_base2023.dat',\n",
    "                         'sep':' ',\n",
    "                         'weight':'pdexpfac'},\n",
    "               'trip':  {'file':'survey2023_tripx_rewt_base2023.dat',\n",
    "                         'sep':' ',\n",
    "                         'weight':'trexpfac'},\n",
    "               'tour':  {'file':'survey2023_tourx_rewt_base2023.dat',\n",
    "                         'sep':' ',\n",
    "                         'weight':'toexpfac'},\n",
    "#               'raw_dir': r'<PATH>',\n",
    "#               'raw_hh':     {'file':'hh.csv',\n",
    "#                              'weight':'hh_weight'},\n",
    "#               'raw_person': {'file':'person.csv',\n",
    "#                              'weight':'person_weight'},\n",
    "#               'raw_day':    {'file':'day.csv',\n",
    "#                              'weight':'day_weight'},\n",
    "#               'raw_trip':   {'file':'trip.csv',\n",
    "#                              'weight':'trip_weight'},\n",
    "             }"
   ]
  },
  {
   "cell_type": "code",
   "execution_count": 5,
   "id": "f5a9bd0d-2810-4e58-b0c4-60bfeb6d708d",
   "metadata": {},
   "outputs": [],
   "source": [
    "s23 = Survey(**SURVEY_2023)"
   ]
  },
  {
   "cell_type": "code",
   "execution_count": 6,
   "id": "a0e9dbba-5c5e-4083-9d86-f9df3a589d71",
   "metadata": {},
   "outputs": [],
   "source": [
    "ps23 = ProcessedSurvey(**survey_args)\n",
    "hh2 = ps23.hh.data.rename(columns={'hhno':'hh_id'})\n",
    "hh2['tour_complete'] = 1\n",
    "person2 = ps23.person.data.rename(columns={'hhno':'hh_id','pno':'person_num'})\n",
    "person2['tour_complete'] = 1\n",
    "day2 = ps23.day.data.rename(columns={'hhno':'hh_id','pno':'person_num','day':'travel_dow'})\n",
    "day2['tour_complete'] = 1\n",
    "trip2 = ps23.trip.data.rename(columns={'hhno':'hh_id','pno':'person_num','day':'travel_dow','tsvid':'trip_num'})\n",
    "trip2['tour_complete'] = 1\n",
    "tour2 = ps23.tour.data\n",
    "tour2['tour_complete'] = 1"
   ]
  },
  {
   "cell_type": "code",
   "execution_count": 7,
   "id": "97f11656-3ec3-45ae-a22d-c34e2bcde0c3",
   "metadata": {},
   "outputs": [
    {
     "name": "stderr",
     "output_type": "stream",
     "text": [
      "Q:\\Data\\Surveys\\HouseholdSurveys\\MTC-SFCTA2022\\travel_diary_survey_scripts\\2022_v00c\\99-review\\notebooks\\survey_completeness.py:84: SettingWithCopyWarning: \n",
      "A value is trying to be set on a copy of a slice from a DataFrame\n",
      "\n",
      "See the caveats in the documentation: https://pandas.pydata.org/pandas-docs/stable/user_guide/indexing.html#returning-a-view-versus-a-copy\n",
      "  person.drop(columns=['sfcta_num_days_complete'], inplace=True)\n"
     ]
    },
    {
     "name": "stdout",
     "output_type": "stream",
     "text": [
      "family 0 0 15985 15210\n"
     ]
    },
    {
     "name": "stderr",
     "output_type": "stream",
     "text": [
      "Q:\\Data\\Surveys\\HouseholdSurveys\\MTC-SFCTA2022\\travel_diary_survey_scripts\\2022_v00c\\99-review\\notebooks\\survey_completeness.py:84: SettingWithCopyWarning: \n",
      "A value is trying to be set on a copy of a slice from a DataFrame\n",
      "\n",
      "See the caveats in the documentation: https://pandas.pydata.org/pandas-docs/stable/user_guide/indexing.html#returning-a-view-versus-a-copy\n",
      "  person.drop(columns=['sfcta_num_days_complete'], inplace=True)\n"
     ]
    },
    {
     "name": "stdout",
     "output_type": "stream",
     "text": [
      "family 0 1 15985 15210\n"
     ]
    },
    {
     "name": "stderr",
     "output_type": "stream",
     "text": [
      "Q:\\Data\\Surveys\\HouseholdSurveys\\MTC-SFCTA2022\\travel_diary_survey_scripts\\2022_v00c\\99-review\\notebooks\\survey_completeness.py:84: SettingWithCopyWarning: \n",
      "A value is trying to be set on a copy of a slice from a DataFrame\n",
      "\n",
      "See the caveats in the documentation: https://pandas.pydata.org/pandas-docs/stable/user_guide/indexing.html#returning-a-view-versus-a-copy\n",
      "  person.drop(columns=['sfcta_num_days_complete'], inplace=True)\n"
     ]
    },
    {
     "name": "stdout",
     "output_type": "stream",
     "text": [
      "family 1 0 15985 15210\n"
     ]
    },
    {
     "name": "stderr",
     "output_type": "stream",
     "text": [
      "Q:\\Data\\Surveys\\HouseholdSurveys\\MTC-SFCTA2022\\travel_diary_survey_scripts\\2022_v00c\\99-review\\notebooks\\survey_completeness.py:84: SettingWithCopyWarning: \n",
      "A value is trying to be set on a copy of a slice from a DataFrame\n",
      "\n",
      "See the caveats in the documentation: https://pandas.pydata.org/pandas-docs/stable/user_guide/indexing.html#returning-a-view-versus-a-copy\n",
      "  person.drop(columns=['sfcta_num_days_complete'], inplace=True)\n"
     ]
    },
    {
     "name": "stdout",
     "output_type": "stream",
     "text": [
      "family 1 1 15985 15210\n"
     ]
    },
    {
     "name": "stderr",
     "output_type": "stream",
     "text": [
      "Q:\\Data\\Surveys\\HouseholdSurveys\\MTC-SFCTA2022\\travel_diary_survey_scripts\\2022_v00c\\99-review\\notebooks\\survey_completeness.py:84: SettingWithCopyWarning: \n",
      "A value is trying to be set on a copy of a slice from a DataFrame\n",
      "\n",
      "See the caveats in the documentation: https://pandas.pydata.org/pandas-docs/stable/user_guide/indexing.html#returning-a-view-versus-a-copy\n",
      "  person.drop(columns=['sfcta_num_days_complete'], inplace=True)\n"
     ]
    },
    {
     "name": "stdout",
     "output_type": "stream",
     "text": [
      "family 2 0 15985 15210\n"
     ]
    },
    {
     "name": "stderr",
     "output_type": "stream",
     "text": [
      "Q:\\Data\\Surveys\\HouseholdSurveys\\MTC-SFCTA2022\\travel_diary_survey_scripts\\2022_v00c\\99-review\\notebooks\\survey_completeness.py:84: SettingWithCopyWarning: \n",
      "A value is trying to be set on a copy of a slice from a DataFrame\n",
      "\n",
      "See the caveats in the documentation: https://pandas.pydata.org/pandas-docs/stable/user_guide/indexing.html#returning-a-view-versus-a-copy\n",
      "  person.drop(columns=['sfcta_num_days_complete'], inplace=True)\n"
     ]
    },
    {
     "name": "stdout",
     "output_type": "stream",
     "text": [
      "family 2 1 15985 15210\n"
     ]
    },
    {
     "name": "stderr",
     "output_type": "stream",
     "text": [
      "Q:\\Data\\Surveys\\HouseholdSurveys\\MTC-SFCTA2022\\travel_diary_survey_scripts\\2022_v00c\\99-review\\notebooks\\survey_completeness.py:84: SettingWithCopyWarning: \n",
      "A value is trying to be set on a copy of a slice from a DataFrame\n",
      "\n",
      "See the caveats in the documentation: https://pandas.pydata.org/pandas-docs/stable/user_guide/indexing.html#returning-a-view-versus-a-copy\n",
      "  person.drop(columns=['sfcta_num_days_complete'], inplace=True)\n"
     ]
    },
    {
     "name": "stdout",
     "output_type": "stream",
     "text": [
      "family 3 0 15985 15210\n"
     ]
    },
    {
     "name": "stderr",
     "output_type": "stream",
     "text": [
      "Q:\\Data\\Surveys\\HouseholdSurveys\\MTC-SFCTA2022\\travel_diary_survey_scripts\\2022_v00c\\99-review\\notebooks\\survey_completeness.py:84: SettingWithCopyWarning: \n",
      "A value is trying to be set on a copy of a slice from a DataFrame\n",
      "\n",
      "See the caveats in the documentation: https://pandas.pydata.org/pandas-docs/stable/user_guide/indexing.html#returning-a-view-versus-a-copy\n",
      "  person.drop(columns=['sfcta_num_days_complete'], inplace=True)\n"
     ]
    },
    {
     "name": "stdout",
     "output_type": "stream",
     "text": [
      "family 3 1 15985 15210\n"
     ]
    },
    {
     "name": "stderr",
     "output_type": "stream",
     "text": [
      "Q:\\Data\\Surveys\\HouseholdSurveys\\MTC-SFCTA2022\\travel_diary_survey_scripts\\2022_v00c\\99-review\\notebooks\\survey_completeness.py:84: SettingWithCopyWarning: \n",
      "A value is trying to be set on a copy of a slice from a DataFrame\n",
      "\n",
      "See the caveats in the documentation: https://pandas.pydata.org/pandas-docs/stable/user_guide/indexing.html#returning-a-view-versus-a-copy\n",
      "  person.drop(columns=['sfcta_num_days_complete'], inplace=True)\n"
     ]
    },
    {
     "name": "stdout",
     "output_type": "stream",
     "text": [
      "family 4 0 15985 15210\n"
     ]
    },
    {
     "name": "stderr",
     "output_type": "stream",
     "text": [
      "Q:\\Data\\Surveys\\HouseholdSurveys\\MTC-SFCTA2022\\travel_diary_survey_scripts\\2022_v00c\\99-review\\notebooks\\survey_completeness.py:84: SettingWithCopyWarning: \n",
      "A value is trying to be set on a copy of a slice from a DataFrame\n",
      "\n",
      "See the caveats in the documentation: https://pandas.pydata.org/pandas-docs/stable/user_guide/indexing.html#returning-a-view-versus-a-copy\n",
      "  person.drop(columns=['sfcta_num_days_complete'], inplace=True)\n"
     ]
    },
    {
     "name": "stdout",
     "output_type": "stream",
     "text": [
      "family 4 1 15985 15210\n"
     ]
    },
    {
     "name": "stderr",
     "output_type": "stream",
     "text": [
      "Q:\\Data\\Surveys\\HouseholdSurveys\\MTC-SFCTA2022\\travel_diary_survey_scripts\\2022_v00c\\99-review\\notebooks\\survey_completeness.py:84: SettingWithCopyWarning: \n",
      "A value is trying to be set on a copy of a slice from a DataFrame\n",
      "\n",
      "See the caveats in the documentation: https://pandas.pydata.org/pandas-docs/stable/user_guide/indexing.html#returning-a-view-versus-a-copy\n",
      "  person.drop(columns=['sfcta_num_days_complete'], inplace=True)\n"
     ]
    },
    {
     "name": "stdout",
     "output_type": "stream",
     "text": [
      "family 5 0 15985 15210\n"
     ]
    },
    {
     "name": "stderr",
     "output_type": "stream",
     "text": [
      "Q:\\Data\\Surveys\\HouseholdSurveys\\MTC-SFCTA2022\\travel_diary_survey_scripts\\2022_v00c\\99-review\\notebooks\\survey_completeness.py:84: SettingWithCopyWarning: \n",
      "A value is trying to be set on a copy of a slice from a DataFrame\n",
      "\n",
      "See the caveats in the documentation: https://pandas.pydata.org/pandas-docs/stable/user_guide/indexing.html#returning-a-view-versus-a-copy\n",
      "  person.drop(columns=['sfcta_num_days_complete'], inplace=True)\n"
     ]
    },
    {
     "name": "stdout",
     "output_type": "stream",
     "text": [
      "family 5 1 15985 15210\n"
     ]
    },
    {
     "name": "stderr",
     "output_type": "stream",
     "text": [
      "Q:\\Data\\Surveys\\HouseholdSurveys\\MTC-SFCTA2022\\travel_diary_survey_scripts\\2022_v00c\\99-review\\notebooks\\survey_completeness.py:84: SettingWithCopyWarning: \n",
      "A value is trying to be set on a copy of a slice from a DataFrame\n",
      "\n",
      "See the caveats in the documentation: https://pandas.pydata.org/pandas-docs/stable/user_guide/indexing.html#returning-a-view-versus-a-copy\n",
      "  person.drop(columns=['sfcta_num_days_complete'], inplace=True)\n"
     ]
    },
    {
     "name": "stdout",
     "output_type": "stream",
     "text": [
      "family 6 0 15985 15210\n"
     ]
    },
    {
     "name": "stderr",
     "output_type": "stream",
     "text": [
      "Q:\\Data\\Surveys\\HouseholdSurveys\\MTC-SFCTA2022\\travel_diary_survey_scripts\\2022_v00c\\99-review\\notebooks\\survey_completeness.py:84: SettingWithCopyWarning: \n",
      "A value is trying to be set on a copy of a slice from a DataFrame\n",
      "\n",
      "See the caveats in the documentation: https://pandas.pydata.org/pandas-docs/stable/user_guide/indexing.html#returning-a-view-versus-a-copy\n",
      "  person.drop(columns=['sfcta_num_days_complete'], inplace=True)\n"
     ]
    },
    {
     "name": "stdout",
     "output_type": "stream",
     "text": [
      "family 6 1 15985 15210\n"
     ]
    },
    {
     "name": "stderr",
     "output_type": "stream",
     "text": [
      "Q:\\Data\\Surveys\\HouseholdSurveys\\MTC-SFCTA2022\\travel_diary_survey_scripts\\2022_v00c\\99-review\\notebooks\\survey_completeness.py:84: SettingWithCopyWarning: \n",
      "A value is trying to be set on a copy of a slice from a DataFrame\n",
      "\n",
      "See the caveats in the documentation: https://pandas.pydata.org/pandas-docs/stable/user_guide/indexing.html#returning-a-view-versus-a-copy\n",
      "  person.drop(columns=['sfcta_num_days_complete'], inplace=True)\n"
     ]
    },
    {
     "name": "stdout",
     "output_type": "stream",
     "text": [
      "family 7 0 15985 15210\n"
     ]
    },
    {
     "name": "stderr",
     "output_type": "stream",
     "text": [
      "Q:\\Data\\Surveys\\HouseholdSurveys\\MTC-SFCTA2022\\travel_diary_survey_scripts\\2022_v00c\\99-review\\notebooks\\survey_completeness.py:84: SettingWithCopyWarning: \n",
      "A value is trying to be set on a copy of a slice from a DataFrame\n",
      "\n",
      "See the caveats in the documentation: https://pandas.pydata.org/pandas-docs/stable/user_guide/indexing.html#returning-a-view-versus-a-copy\n",
      "  person.drop(columns=['sfcta_num_days_complete'], inplace=True)\n"
     ]
    },
    {
     "name": "stdout",
     "output_type": "stream",
     "text": [
      "family 7 1 15985 15210\n",
      "household 0 0 15985 15985\n",
      "household 0 1 15985 15985\n",
      "household 1 0 15985 15985\n",
      "household 1 1 15985 15985\n",
      "household 2 0 15985 15985\n",
      "household 2 1 15985 15985\n",
      "household 3 0 15985 15985\n",
      "household 3 1 15985 15985\n",
      "household 4 0 15985 15985\n",
      "household 4 1 15985 15985\n",
      "household 5 0 15985 15985\n",
      "household 5 1 15985 15985\n",
      "household 6 0 15985 15985\n",
      "household 6 1 15985 15985\n",
      "household 7 0 15985 15985\n",
      "household 7 1 15985 15985\n"
     ]
    },
    {
     "name": "stderr",
     "output_type": "stream",
     "text": [
      "Q:\\Data\\Surveys\\HouseholdSurveys\\MTC-SFCTA2022\\travel_diary_survey_scripts\\2022_v00c\\99-review\\notebooks\\survey_completeness.py:84: SettingWithCopyWarning: \n",
      "A value is trying to be set on a copy of a slice from a DataFrame\n",
      "\n",
      "See the caveats in the documentation: https://pandas.pydata.org/pandas-docs/stable/user_guide/indexing.html#returning-a-view-versus-a-copy\n",
      "  person.drop(columns=['sfcta_num_days_complete'], inplace=True)\n"
     ]
    },
    {
     "name": "stdout",
     "output_type": "stream",
     "text": [
      "family 0 0 15985 15210\n"
     ]
    },
    {
     "name": "stderr",
     "output_type": "stream",
     "text": [
      "Q:\\Data\\Surveys\\HouseholdSurveys\\MTC-SFCTA2022\\travel_diary_survey_scripts\\2022_v00c\\99-review\\notebooks\\survey_completeness.py:84: SettingWithCopyWarning: \n",
      "A value is trying to be set on a copy of a slice from a DataFrame\n",
      "\n",
      "See the caveats in the documentation: https://pandas.pydata.org/pandas-docs/stable/user_guide/indexing.html#returning-a-view-versus-a-copy\n",
      "  person.drop(columns=['sfcta_num_days_complete'], inplace=True)\n"
     ]
    },
    {
     "name": "stdout",
     "output_type": "stream",
     "text": [
      "family 0 1 15985 15210\n"
     ]
    },
    {
     "name": "stderr",
     "output_type": "stream",
     "text": [
      "Q:\\Data\\Surveys\\HouseholdSurveys\\MTC-SFCTA2022\\travel_diary_survey_scripts\\2022_v00c\\99-review\\notebooks\\survey_completeness.py:84: SettingWithCopyWarning: \n",
      "A value is trying to be set on a copy of a slice from a DataFrame\n",
      "\n",
      "See the caveats in the documentation: https://pandas.pydata.org/pandas-docs/stable/user_guide/indexing.html#returning-a-view-versus-a-copy\n",
      "  person.drop(columns=['sfcta_num_days_complete'], inplace=True)\n"
     ]
    },
    {
     "name": "stdout",
     "output_type": "stream",
     "text": [
      "family 1 0 15985 15210\n"
     ]
    },
    {
     "name": "stderr",
     "output_type": "stream",
     "text": [
      "Q:\\Data\\Surveys\\HouseholdSurveys\\MTC-SFCTA2022\\travel_diary_survey_scripts\\2022_v00c\\99-review\\notebooks\\survey_completeness.py:84: SettingWithCopyWarning: \n",
      "A value is trying to be set on a copy of a slice from a DataFrame\n",
      "\n",
      "See the caveats in the documentation: https://pandas.pydata.org/pandas-docs/stable/user_guide/indexing.html#returning-a-view-versus-a-copy\n",
      "  person.drop(columns=['sfcta_num_days_complete'], inplace=True)\n"
     ]
    },
    {
     "name": "stdout",
     "output_type": "stream",
     "text": [
      "family 1 1 15985 15210\n"
     ]
    },
    {
     "name": "stderr",
     "output_type": "stream",
     "text": [
      "Q:\\Data\\Surveys\\HouseholdSurveys\\MTC-SFCTA2022\\travel_diary_survey_scripts\\2022_v00c\\99-review\\notebooks\\survey_completeness.py:84: SettingWithCopyWarning: \n",
      "A value is trying to be set on a copy of a slice from a DataFrame\n",
      "\n",
      "See the caveats in the documentation: https://pandas.pydata.org/pandas-docs/stable/user_guide/indexing.html#returning-a-view-versus-a-copy\n",
      "  person.drop(columns=['sfcta_num_days_complete'], inplace=True)\n"
     ]
    },
    {
     "name": "stdout",
     "output_type": "stream",
     "text": [
      "family 2 0 15985 15210\n"
     ]
    },
    {
     "name": "stderr",
     "output_type": "stream",
     "text": [
      "Q:\\Data\\Surveys\\HouseholdSurveys\\MTC-SFCTA2022\\travel_diary_survey_scripts\\2022_v00c\\99-review\\notebooks\\survey_completeness.py:84: SettingWithCopyWarning: \n",
      "A value is trying to be set on a copy of a slice from a DataFrame\n",
      "\n",
      "See the caveats in the documentation: https://pandas.pydata.org/pandas-docs/stable/user_guide/indexing.html#returning-a-view-versus-a-copy\n",
      "  person.drop(columns=['sfcta_num_days_complete'], inplace=True)\n"
     ]
    },
    {
     "name": "stdout",
     "output_type": "stream",
     "text": [
      "family 2 1 15985 15210\n"
     ]
    },
    {
     "name": "stderr",
     "output_type": "stream",
     "text": [
      "Q:\\Data\\Surveys\\HouseholdSurveys\\MTC-SFCTA2022\\travel_diary_survey_scripts\\2022_v00c\\99-review\\notebooks\\survey_completeness.py:84: SettingWithCopyWarning: \n",
      "A value is trying to be set on a copy of a slice from a DataFrame\n",
      "\n",
      "See the caveats in the documentation: https://pandas.pydata.org/pandas-docs/stable/user_guide/indexing.html#returning-a-view-versus-a-copy\n",
      "  person.drop(columns=['sfcta_num_days_complete'], inplace=True)\n"
     ]
    },
    {
     "name": "stdout",
     "output_type": "stream",
     "text": [
      "family 3 0 15985 15210\n"
     ]
    },
    {
     "name": "stderr",
     "output_type": "stream",
     "text": [
      "Q:\\Data\\Surveys\\HouseholdSurveys\\MTC-SFCTA2022\\travel_diary_survey_scripts\\2022_v00c\\99-review\\notebooks\\survey_completeness.py:84: SettingWithCopyWarning: \n",
      "A value is trying to be set on a copy of a slice from a DataFrame\n",
      "\n",
      "See the caveats in the documentation: https://pandas.pydata.org/pandas-docs/stable/user_guide/indexing.html#returning-a-view-versus-a-copy\n",
      "  person.drop(columns=['sfcta_num_days_complete'], inplace=True)\n"
     ]
    },
    {
     "name": "stdout",
     "output_type": "stream",
     "text": [
      "family 3 1 15985 15210\n"
     ]
    },
    {
     "name": "stderr",
     "output_type": "stream",
     "text": [
      "Q:\\Data\\Surveys\\HouseholdSurveys\\MTC-SFCTA2022\\travel_diary_survey_scripts\\2022_v00c\\99-review\\notebooks\\survey_completeness.py:84: SettingWithCopyWarning: \n",
      "A value is trying to be set on a copy of a slice from a DataFrame\n",
      "\n",
      "See the caveats in the documentation: https://pandas.pydata.org/pandas-docs/stable/user_guide/indexing.html#returning-a-view-versus-a-copy\n",
      "  person.drop(columns=['sfcta_num_days_complete'], inplace=True)\n"
     ]
    },
    {
     "name": "stdout",
     "output_type": "stream",
     "text": [
      "family 4 0 15985 15210\n"
     ]
    },
    {
     "name": "stderr",
     "output_type": "stream",
     "text": [
      "Q:\\Data\\Surveys\\HouseholdSurveys\\MTC-SFCTA2022\\travel_diary_survey_scripts\\2022_v00c\\99-review\\notebooks\\survey_completeness.py:84: SettingWithCopyWarning: \n",
      "A value is trying to be set on a copy of a slice from a DataFrame\n",
      "\n",
      "See the caveats in the documentation: https://pandas.pydata.org/pandas-docs/stable/user_guide/indexing.html#returning-a-view-versus-a-copy\n",
      "  person.drop(columns=['sfcta_num_days_complete'], inplace=True)\n"
     ]
    },
    {
     "name": "stdout",
     "output_type": "stream",
     "text": [
      "family 4 1 15985 15210\n"
     ]
    },
    {
     "name": "stderr",
     "output_type": "stream",
     "text": [
      "Q:\\Data\\Surveys\\HouseholdSurveys\\MTC-SFCTA2022\\travel_diary_survey_scripts\\2022_v00c\\99-review\\notebooks\\survey_completeness.py:84: SettingWithCopyWarning: \n",
      "A value is trying to be set on a copy of a slice from a DataFrame\n",
      "\n",
      "See the caveats in the documentation: https://pandas.pydata.org/pandas-docs/stable/user_guide/indexing.html#returning-a-view-versus-a-copy\n",
      "  person.drop(columns=['sfcta_num_days_complete'], inplace=True)\n"
     ]
    },
    {
     "name": "stdout",
     "output_type": "stream",
     "text": [
      "family 5 0 15985 15210\n"
     ]
    },
    {
     "name": "stderr",
     "output_type": "stream",
     "text": [
      "Q:\\Data\\Surveys\\HouseholdSurveys\\MTC-SFCTA2022\\travel_diary_survey_scripts\\2022_v00c\\99-review\\notebooks\\survey_completeness.py:84: SettingWithCopyWarning: \n",
      "A value is trying to be set on a copy of a slice from a DataFrame\n",
      "\n",
      "See the caveats in the documentation: https://pandas.pydata.org/pandas-docs/stable/user_guide/indexing.html#returning-a-view-versus-a-copy\n",
      "  person.drop(columns=['sfcta_num_days_complete'], inplace=True)\n"
     ]
    },
    {
     "name": "stdout",
     "output_type": "stream",
     "text": [
      "family 5 1 15985 15210\n"
     ]
    },
    {
     "name": "stderr",
     "output_type": "stream",
     "text": [
      "Q:\\Data\\Surveys\\HouseholdSurveys\\MTC-SFCTA2022\\travel_diary_survey_scripts\\2022_v00c\\99-review\\notebooks\\survey_completeness.py:84: SettingWithCopyWarning: \n",
      "A value is trying to be set on a copy of a slice from a DataFrame\n",
      "\n",
      "See the caveats in the documentation: https://pandas.pydata.org/pandas-docs/stable/user_guide/indexing.html#returning-a-view-versus-a-copy\n",
      "  person.drop(columns=['sfcta_num_days_complete'], inplace=True)\n"
     ]
    },
    {
     "name": "stdout",
     "output_type": "stream",
     "text": [
      "family 6 0 15985 15210\n"
     ]
    },
    {
     "name": "stderr",
     "output_type": "stream",
     "text": [
      "Q:\\Data\\Surveys\\HouseholdSurveys\\MTC-SFCTA2022\\travel_diary_survey_scripts\\2022_v00c\\99-review\\notebooks\\survey_completeness.py:84: SettingWithCopyWarning: \n",
      "A value is trying to be set on a copy of a slice from a DataFrame\n",
      "\n",
      "See the caveats in the documentation: https://pandas.pydata.org/pandas-docs/stable/user_guide/indexing.html#returning-a-view-versus-a-copy\n",
      "  person.drop(columns=['sfcta_num_days_complete'], inplace=True)\n"
     ]
    },
    {
     "name": "stdout",
     "output_type": "stream",
     "text": [
      "family 6 1 15985 15210\n"
     ]
    },
    {
     "name": "stderr",
     "output_type": "stream",
     "text": [
      "Q:\\Data\\Surveys\\HouseholdSurveys\\MTC-SFCTA2022\\travel_diary_survey_scripts\\2022_v00c\\99-review\\notebooks\\survey_completeness.py:84: SettingWithCopyWarning: \n",
      "A value is trying to be set on a copy of a slice from a DataFrame\n",
      "\n",
      "See the caveats in the documentation: https://pandas.pydata.org/pandas-docs/stable/user_guide/indexing.html#returning-a-view-versus-a-copy\n",
      "  person.drop(columns=['sfcta_num_days_complete'], inplace=True)\n"
     ]
    },
    {
     "name": "stdout",
     "output_type": "stream",
     "text": [
      "family 7 0 15985 15210\n"
     ]
    },
    {
     "name": "stderr",
     "output_type": "stream",
     "text": [
      "Q:\\Data\\Surveys\\HouseholdSurveys\\MTC-SFCTA2022\\travel_diary_survey_scripts\\2022_v00c\\99-review\\notebooks\\survey_completeness.py:84: SettingWithCopyWarning: \n",
      "A value is trying to be set on a copy of a slice from a DataFrame\n",
      "\n",
      "See the caveats in the documentation: https://pandas.pydata.org/pandas-docs/stable/user_guide/indexing.html#returning-a-view-versus-a-copy\n",
      "  person.drop(columns=['sfcta_num_days_complete'], inplace=True)\n"
     ]
    },
    {
     "name": "stdout",
     "output_type": "stream",
     "text": [
      "family 7 1 15985 15210\n",
      "household 0 0 15985 15985\n",
      "household 0 1 15985 15985\n",
      "household 1 0 15985 15985\n",
      "household 1 1 15985 15985\n",
      "household 2 0 15985 15985\n",
      "household 2 1 15985 15985\n",
      "household 3 0 15985 15985\n",
      "household 3 1 15985 15985\n",
      "household 4 0 15985 15985\n",
      "household 4 1 15985 15985\n",
      "household 5 0 15985 15985\n",
      "household 5 1 15985 15985\n",
      "household 6 0 15985 15985\n",
      "household 6 1 15985 15985\n",
      "household 7 0 15985 15985\n",
      "household 7 1 15985 15985\n"
     ]
    }
   ],
   "source": [
    "ITEM_CRITERIA = ['lenient','strict']\n",
    "HOUSEHOLD_UNIT = ['family','household']\n",
    "CONCURRENT_DAYS = [0,1,2,3,4,5,6,7]\n",
    "CONCURRENT_WEIGHTED_DAYS = [0,1]\n",
    "\n",
    "mi = pd.MultiIndex.from_product([ITEM_CRITERIA,HOUSEHOLD_UNIT,CONCURRENT_DAYS,CONCURRENT_WEIGHTED_DAYS],\n",
    "                                names=['item_critera','household_unit','concurrent_days','concurrent_weighted_days'])\n",
    "hhcols = ['sfcta_hh_survey_complete','sfcta_hh_persons_complete',\n",
    "          'sfcta_hh_concurrent_complete','sfcta_hh_concurrent_weighted_complete',\n",
    "          'sfcta_hh_complete']\n",
    "\n",
    "hhdf = pd.DataFrame(index=mi, columns=hhcols+['tour_complete','all_complete'])\n",
    "psdf = pd.DataFrame(index=mi, columns=hhcols+['tour_complete','all_complete'])\n",
    "pddf = pd.DataFrame(index=mi, columns=hhcols+['tour_complete','all_complete'])\n",
    "trdf = pd.DataFrame(index=mi, columns=hhcols+['tour_complete','all_complete'])\n",
    "todf = pd.DataFrame(index=mi, columns=hhcols+['tour_complete','all_complete'])\n",
    "for h1 in ITEM_CRITERIA:\n",
    "    if h1 == 'strict':\n",
    "        person_reqs = PERSON_REQS + ['student_complete','work_loc_complete','transit_pass_complete','has_proxy_complete','can_drive_complete']\n",
    "    else:\n",
    "        person_reqs = PERSON_REQS\n",
    "        \n",
    "    for h2 in HOUSEHOLD_UNIT:\n",
    "        for concurrent_days in CONCURRENT_DAYS:\n",
    "            for concurrent_weighted_days in CONCURRENT_WEIGHTED_DAYS:\n",
    "                flagged = flag_complete(\n",
    "                    copy.copy(s23), \n",
    "                    hh_unit=h2,\n",
    "                    person_reqs=person_reqs,\n",
    "                    concurrent_days=concurrent_days,\n",
    "                    concurrent_weighted_days=concurrent_weighted_days\n",
    "                )\n",
    "                print(h2, concurrent_days, concurrent_weighted_days, len(s23.person), len(flagged.person))\n",
    "                hh = pd.merge(flagged.hh, hh2[['hh_id','tour_complete']], how='left').fillna(0)\n",
    "                hh['all_complete'] = hh['sfcta_hh_complete'] * hh['tour_complete']\n",
    "                person = pd.merge(flagged.person, person2[['hh_id','person_num','tour_complete']], how='left').fillna(0)\n",
    "                person = pd.merge(flagged.hh[['hh_id']+hhcols], person)\n",
    "                person['all_complete'] = person['sfcta_hh_complete'] * person['tour_complete']\n",
    "                day = pd.merge(flagged.day, day2[['hh_id','person_num','travel_dow','tour_complete']], how='left').fillna(0)\n",
    "                day = pd.merge(flagged.hh[['hh_id']+hhcols], day)\n",
    "                day['all_complete'] = day['sfcta_hh_complete'] * day['tour_complete']\n",
    "                trip = pd.merge(flagged.trip, trip2[['hh_id','person_num','travel_dow','trip_num','tour_complete']], how='left').fillna(0)\n",
    "                trip = pd.merge(flagged.hh[['hh_id']+hhcols], trip)\n",
    "                trip['all_complete'] = trip['sfcta_hh_complete'] * trip['tour_complete']\n",
    "\n",
    "                outcols = hhcols+['tour_complete','all_complete']\n",
    "                hhdata = [h1,h2,concurrent_days,concurrent_weighted_days]+list(hh[outcols].sum().values)\n",
    "                d = pd.DataFrame(columns=['item_criteria','household_unit','concurrent_days','concurrent_weighted_days']+outcols, data=[hhdata])\n",
    "                d.set_index(['item_criteria','household_unit','concurrent_days','concurrent_weighted_days'], inplace=True)\n",
    "                hhdf.update(d)\n",
    "\n",
    "                psdata = [h1,h2,concurrent_days,concurrent_weighted_days]+list(person[outcols].sum().values)\n",
    "                d = pd.DataFrame(columns=['item_criteria','household_unit','concurrent_days','concurrent_weighted_days']+outcols, data=[psdata])\n",
    "                d.set_index(['item_criteria','household_unit','concurrent_days','concurrent_weighted_days'], inplace=True)\n",
    "                psdf.update(d)\n",
    "\n",
    "                pddata = [h1,h2,concurrent_days,concurrent_weighted_days]+list(day[outcols].sum().values)\n",
    "                d = pd.DataFrame(columns=['item_criteria','household_unit','concurrent_days','concurrent_weighted_days']+outcols, data=[pddata])\n",
    "                d.set_index(['item_criteria','household_unit','concurrent_days','concurrent_weighted_days'], inplace=True)\n",
    "                pddf.update(d)\n",
    "\n",
    "                trdata = [h1,h2,concurrent_days,concurrent_weighted_days]+list(trip[outcols].sum().values)\n",
    "                d = pd.DataFrame(columns=['item_criteria','household_unit','concurrent_days','concurrent_weighted_days']+outcols, data=[trdata])\n",
    "                d.set_index(['item_criteria','household_unit','concurrent_days','concurrent_weighted_days'], inplace=True)\n",
    "                trdf.update(d)"
   ]
  },
  {
   "cell_type": "code",
   "execution_count": 8,
   "id": "e6257681-8922-470b-b26b-68482edb20ba",
   "metadata": {},
   "outputs": [
    {
     "name": "stdout",
     "output_type": "stream",
     "text": [
      "Data written successfully to Q:\\Data\\Surveys\\HouseholdSurveys\\MTC-SFCTA2022\\Review_20241127\\completeness_sensitivity_rmove_only.xlsx\n"
     ]
    }
   ],
   "source": [
    "wb = load_workbook(template_path)\n",
    "for sheet, df in zip(['household','person','day','trip'],[hhdf,psdf,pddf,trdf]):\n",
    "    ws = wb[sheet]\n",
    "\n",
    "    start_row = 3\n",
    "    start_col = 1\n",
    "    multiindex_offset = 1\n",
    "    if isinstance(df.index, pd.MultiIndex):\n",
    "        multiindex_offset = len(df.index.levels)\n",
    "    # Write DataFrame row index\n",
    "    for i, idx in enumerate(df.index):\n",
    "        if isinstance(idx, tuple):\n",
    "            for j, jdx in enumerate(idx):\n",
    "                try:\n",
    "                    ws.cell(row=start_row + i, column=start_col+j, value=jdx)\n",
    "                except:\n",
    "                    pass\n",
    "        else:\n",
    "            try:\n",
    "                ws.cell(row=start_row + i, column=start_col, value=idx)\n",
    "            except:\n",
    "                pass\n",
    "    \n",
    "    # Write DataFrame columns and values\n",
    "    for i, (idx, row) in enumerate(df.iterrows()):\n",
    "        for j, value in enumerate(row):\n",
    "            if pd.notnull(value):\n",
    "                ws.cell(row=start_row + i, column=start_col + j +multiindex_offset, value=value)\n",
    "    \n",
    "# Save the updated Excel file\n",
    "wb.save(output_path)\n",
    "print(f\"Data written successfully to {output_path}\")"
   ]
  }
 ],
 "metadata": {
  "kernelspec": {
   "display_name": "Python 3 (ipykernel)",
   "language": "python",
   "name": "python3"
  },
  "language_info": {
   "codemirror_mode": {
    "name": "ipython",
    "version": 3
   },
   "file_extension": ".py",
   "mimetype": "text/x-python",
   "name": "python",
   "nbconvert_exporter": "python",
   "pygments_lexer": "ipython3",
   "version": "3.11.7"
  }
 },
 "nbformat": 4,
 "nbformat_minor": 5
}
