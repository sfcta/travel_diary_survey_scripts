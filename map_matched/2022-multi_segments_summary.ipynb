{
 "cells": [
  {
   "cell_type": "code",
   "execution_count": null,
   "metadata": {},
   "outputs": [],
   "source": [
    "import sys\n",
    "from pathlib import Path\n",
    "\n",
    "import geopandas as gpd\n",
    "import polars as pl\n",
    "\n",
    "sys.path.append(\"../2024-downtown_today\")\n",
    "from downtown_today_utils import parse_geog, taz_cols_to_county"
   ]
  },
  {
   "cell_type": "code",
   "execution_count": null,
   "metadata": {},
   "outputs": [],
   "source": [
    "def extract_matched_paths_columns(\n",
    "    map_matching_gpkg_filepath, matched_paths_parquet_filepath\n",
    "):\n",
    "    matched_path_gdf = gpd.read_file(\n",
    "        map_matching_gpkg_filepath,\n",
    "        layer=\"matched_path_gdf\",\n",
    "        engine=\"pyogrio\",  # pyogrio: drastic speed up over fiona\n",
    "    )\n",
    "    matched_path_gdf[[\"trip_id\", \"osmid\", \"name\"]].to_parquet(\n",
    "        matched_paths_parquet_filepath\n",
    "    )"
   ]
  },
  {
   "cell_type": "code",
   "execution_count": null,
   "metadata": {},
   "outputs": [],
   "source": [
    "survey_dir = Path(r\"Q:\\Data\\Surveys\\HouseholdSurveys\\MTC-SFCTA2022\")\n",
    "map_match_dir = survey_dir / \"BATS 2023 TDS Conflation/OSM_match_v2\"\n",
    "map_matching_gpkg_filepath = map_match_dir / \"tds_conflation_results.gpkg\"\n",
    "matched_paths_parquet_filepath = (\n",
    "    map_match_dir / \"matched_path_gdf-cols_extract-tripid-osmid-name.parquet\"\n",
    ")\n"
   ]
  },
  {
   "cell_type": "code",
   "execution_count": null,
   "metadata": {},
   "outputs": [],
   "source": [
    "# only run on first run (time consuming):\n",
    "extract_matched_paths_columns(\n",
    "    map_matching_gpkg_filepath, matched_paths_parquet_filepath\n",
    ")"
   ]
  },
  {
   "cell_type": "code",
   "execution_count": null,
   "metadata": {},
   "outputs": [],
   "source": [
    "taz_analysis_neighborhoods_gis_filepath = (\n",
    "    Path(r\"Q:\\GIS\\Policy\\San_Francisco\\Analysis_Neighborhoods\")\n",
    "    / \"taz2454-sf_only-with_analysis_neighborhoods.gpkg\"\n",
    ")\n",
    "taz_analysis_neighborhoods = gpd.read_file(\n",
    "    taz_analysis_neighborhoods_gis_filepath, columns=[\"TAZ\", \"analysis_neighborhood\"]\n",
    ")\n",
    "taz_gis_filepath = r\"Q:\\GIS\\Model\\TAZ\\SFCTA_TAZ\\TAZ2454.shp\"\n",
    "taz_county = gpd.read_file(taz_gis_filepath, columns=[\"TAZ\", \"COUNTY\"])"
   ]
  },
  {
   "cell_type": "code",
   "execution_count": null,
   "metadata": {},
   "outputs": [],
   "source": [
    "managed_lanes_study_segments = pl.read_csv(\n",
    "    r\"Q:\\Model Projects\\Freeway Network Managed Lanes\\data\\ml_study_locations.csv\"\n",
    ")"
   ]
  },
  {
   "cell_type": "code",
   "execution_count": null,
   "metadata": {},
   "outputs": [],
   "source": [
    "survey_results_dir = survey_dir / \"Processed_20241127/reformat_2019_rmoveonly\"\n",
    "trips_raw = pl.read_csv(survey_results_dir / \"01-taz_spatial_join/trip.csv\")\n",
    "trips = pl.read_csv(survey_results_dir / \"04-merge_skims/adj_weights/trip.csv\").join(\n",
    "    trips_raw.select(\"trip_id\", \"hh_id\", \"person_num\", \"trip_num\"),\n",
    "    left_on=[\"hhno\", \"pno\", \"tsvid\"],\n",
    "    right_on=[\"hh_id\", \"person_num\", \"trip_num\"],\n",
    ")\n",
    "# tsvid / trip_num continues regardless of day / travel_date_dow"
   ]
  },
  {
   "cell_type": "code",
   "execution_count": null,
   "metadata": {},
   "outputs": [],
   "source": [
    "# unique: some trips traverse each segment multiple times (due to errors in\n",
    "# map matching, though one can do that in real life too)\n",
    "# drop_nulls: SFCTA's survey processing pipeline removes some trips\n",
    "# (note that some of the matched paths' 'name' filed is null)\n",
    "matched_paths = taz_cols_to_county(\n",
    "    parse_geog(\n",
    "        pl.read_parquet(matched_paths_parquet_filepath)\n",
    "        .rename({\"name\": \"map_match_name\"})\n",
    "        .unique([\"trip_id\", \"osmid\"])\n",
    "        .join(trips, on=\"trip_id\", how=\"left\")\n",
    "        .drop_nulls(\"trexpfac\"),\n",
    "        taz_analysis_neighborhoods,\n",
    "    ),\n",
    "    taz_county,\n",
    ").with_columns(\n",
    "    pl.col(\"o_county\", \"d_county\").replace_strict(\n",
    "        {\n",
    "            1: \"1-sf\",\n",
    "            2: \"2-san mateo\",\n",
    "            3: \"3-santa clara\",\n",
    "            4: \"4-alameda\",\n",
    "            5: \"5-contra costa\",\n",
    "            6: \"6-solano\",\n",
    "            7: \"7-napa\",\n",
    "            8: \"8-sonoma\",\n",
    "            9: \"9-marin\",\n",
    "        }\n",
    "    )\n",
    ")"
   ]
  },
  {
   "cell_type": "code",
   "execution_count": null,
   "metadata": {},
   "outputs": [],
   "source": [
    "def get_trips_on_segments(matched_paths, osmids):\n",
    "    return (\n",
    "        matched_paths.filter(pl.col(\"osmid\").is_in(osmids))\n",
    "        # only keep one trip entry even if the trip traveresed multiple study segments\n",
    "        .group_by(\"trip_id\")\n",
    "        .agg(pl.first(\"o_geog\", \"d_geog\", \"dpurp\", \"trexpfac\", \"o_county\", \"d_county\"))\n",
    "    )\n",
    "\n",
    "\n",
    "def calculate_long_summary(trips, cols):\n",
    "    return (\n",
    "        trips.group_by(cols)\n",
    "        .agg(pl.len(), pl.sum(\"trexpfac\"))\n",
    "        .sort(cols)\n",
    "        .with_columns(weighted_share=(pl.col(\"trexpfac\") / pl.sum(\"trexpfac\")))\n",
    "    )"
   ]
  },
  {
   "cell_type": "code",
   "execution_count": null,
   "metadata": {},
   "outputs": [],
   "source": [
    "study_segments_osmids = managed_lanes_study_segments.filter(\n",
    "    pl.col(\"segment\").is_in([\"80-DT-EB\", \"80-DT-WB\", \"101-N-NB\", \"101-N-SB\"])\n",
    "    # pl.col(\"segment\").is_in([\"80-BB-EB\", \"80-BB-WB\"])\n",
    ").get_column(\"osmid\")"
   ]
  },
  {
   "cell_type": "code",
   "execution_count": null,
   "metadata": {},
   "outputs": [],
   "source": [
    "matched_trips_od_long = calculate_long_summary(\n",
    "    get_trips_on_segments(matched_paths, study_segments_osmids),\n",
    "    [\"o_geog\", \"d_geog\"],\n",
    ")\n",
    "matched_trips_od_long"
   ]
  },
  {
   "cell_type": "code",
   "execution_count": null,
   "metadata": {},
   "outputs": [],
   "source": [
    "matched_trips_od_long.pivot(\n",
    "    index=[\"o_geog\"],\n",
    "    on=\"d_geog\",\n",
    "    values=[\"len\"],\n",
    "    sort_columns=True,\n",
    ")"
   ]
  },
  {
   "cell_type": "code",
   "execution_count": null,
   "metadata": {},
   "outputs": [],
   "source": [
    "matched_trips_od_long.pivot(\n",
    "    index=[\"o_geog\"],\n",
    "    on=\"d_geog\",\n",
    "    values=[\"trexpfac\"],\n",
    "    sort_columns=True,\n",
    ")"
   ]
  },
  {
   "cell_type": "code",
   "execution_count": null,
   "metadata": {},
   "outputs": [],
   "source": [
    "matched_trips_od_long.pivot(\n",
    "    index=[\"o_geog\"],\n",
    "    on=\"d_geog\",\n",
    "    values=[\"weighted_share\"],\n",
    "    sort_columns=True,\n",
    ")"
   ]
  },
  {
   "cell_type": "code",
   "execution_count": null,
   "metadata": {},
   "outputs": [],
   "source": [
    "matched_trips_dpurp_long = calculate_long_summary(\n",
    "    get_trips_on_segments(matched_paths, study_segments_osmids), \"dpurp\"\n",
    ")\n",
    "matched_trips_dpurp_long"
   ]
  },
  {
   "cell_type": "code",
   "execution_count": null,
   "metadata": {},
   "outputs": [],
   "source": [
    "matched_trips_county_long = calculate_long_summary(\n",
    "    get_trips_on_segments(matched_paths, study_segments_osmids),\n",
    "    [\"o_county\", \"d_county\"],\n",
    ")\n",
    "matched_trips_county_long"
   ]
  },
  {
   "cell_type": "code",
   "execution_count": null,
   "metadata": {},
   "outputs": [],
   "source": [
    "matched_trips_county_long.pivot(\n",
    "    index=[\"o_county\"],\n",
    "    on=\"d_county\",\n",
    "    values=[\"trexpfac\"],\n",
    "    sort_columns=True,\n",
    ")"
   ]
  },
  {
   "cell_type": "code",
   "execution_count": null,
   "metadata": {},
   "outputs": [],
   "source": [
    "matched_trips_county_long.pivot(\n",
    "    index=[\"o_county\"],\n",
    "    on=\"d_county\",\n",
    "    values=[\"weighted_share\"],\n",
    "    sort_columns=True,\n",
    ")"
   ]
  }
 ],
 "metadata": {
  "kernelspec": {
   "display_name": ".venv",
   "language": "python",
   "name": "python3"
  },
  "language_info": {
   "codemirror_mode": {
    "name": "ipython",
    "version": 3
   },
   "file_extension": ".py",
   "mimetype": "text/x-python",
   "name": "python",
   "nbconvert_exporter": "python",
   "pygments_lexer": "ipython3",
   "version": "3.12.1"
  }
 },
 "nbformat": 4,
 "nbformat_minor": 2
}
