{
 "cells": [
  {
   "cell_type": "code",
   "execution_count": null,
   "metadata": {},
   "outputs": [],
   "source": [
    "from pathlib import Path\n",
    "\n",
    "import geopandas as gpd\n",
    "import polars as pl"
   ]
  },
  {
   "cell_type": "code",
   "execution_count": null,
   "metadata": {},
   "outputs": [],
   "source": [
    "def extract_matched_paths_columns(\n",
    "    map_matching_gpkg_filepath, matched_paths_parquet_filepath\n",
    "):\n",
    "    matched_path_gdf = gpd.read_file(\n",
    "        map_matching_gpkg_filepath,\n",
    "        layer=\"matched_path_gdf\",\n",
    "        engine=\"pyogrio\",  # pyogrio: drastic speed up over fiona\n",
    "    )\n",
    "    matched_path_gdf[[\"trip_id\", \"osmid\", \"name\"]].to_parquet(\n",
    "        matched_paths_parquet_filepath\n",
    "    )"
   ]
  },
  {
   "cell_type": "code",
   "execution_count": null,
   "metadata": {},
   "outputs": [],
   "source": [
    "survey_dir = Path(r\"Q:\\Data\\Surveys\\HouseholdSurveys\\MTC-SFCTA2022\")\n",
    "map_match_dir = survey_dir / \"BATS 2023 TDS Conflation/OSM_match_v2\"\n",
    "map_matching_gpkg_filepath = map_match_dir / \"tds_conflation_results.gpkg\"\n",
    "matched_paths_parquet_filepath = (\n",
    "    map_match_dir / \"matched_path_gdf-cols_extract-tripid-osmid-name.parquet\"\n",
    ")\n",
    "output_dir = Path(r\"Q:\\Model Projects\\Freeway Network Managed Lanes\\results\")"
   ]
  },
  {
   "cell_type": "code",
   "execution_count": null,
   "metadata": {},
   "outputs": [],
   "source": [
    "# only run on first run (time consuming):\n",
    "extract_matched_paths_columns(\n",
    "    map_matching_gpkg_filepath, matched_paths_parquet_filepath\n",
    ")"
   ]
  },
  {
   "cell_type": "code",
   "execution_count": null,
   "metadata": {},
   "outputs": [],
   "source": [
    "study_segments = pl.read_csv(\n",
    "    r\"Q:\\Model Projects\\Freeway Network Managed Lanes\\data\\ml_study_locations.csv\"\n",
    ")"
   ]
  },
  {
   "cell_type": "code",
   "execution_count": null,
   "metadata": {},
   "outputs": [],
   "source": [
    "survey_results_dir = survey_dir / \"Processed_20241127/reformat_2019_rmoveonly\"\n",
    "trips_raw = pl.read_csv(survey_results_dir / \"01-taz_spatial_join/trip.csv\")\n",
    "trips = pl.read_csv(survey_results_dir / \"04-merge_skims/adj_weights/trip.csv\").join(\n",
    "    trips_raw.select(\"trip_id\", \"hh_id\", \"person_num\", \"trip_num\"),\n",
    "    left_on=[\"hhno\", \"pno\", \"tsvid\"],\n",
    "    right_on=[\"hh_id\", \"person_num\", \"trip_num\"],\n",
    ")\n",
    "# tsvid / trip_num continues regardless of day / travel_date_dow"
   ]
  },
  {
   "cell_type": "code",
   "execution_count": null,
   "metadata": {},
   "outputs": [],
   "source": [
    "# unique: some trips traverse each segment multiple times (due to errors in\n",
    "# map matching, though one can do that in real life too)\n",
    "# drop_nulls: SFCTA's survey processing pipeline removes some trips\n",
    "# (note that some of the matched paths' 'name' filed is null)\n",
    "matched_paths = (\n",
    "    pl.read_parquet(matched_paths_parquet_filepath)\n",
    "    .rename({\"name\": \"map_match_name\"})\n",
    "    .unique()\n",
    "    .join(trips, on=\"trip_id\", how=\"left\")\n",
    "    .drop_nulls(\"trexpfac\")\n",
    ")"
   ]
  },
  {
   "cell_type": "code",
   "execution_count": null,
   "metadata": {},
   "outputs": [],
   "source": [
    "matched_paths_mode_by_segment_long = matched_paths.group_by(\n",
    "    \"osmid\", \"map_match_name\", \"mode\"\n",
    ").agg(pl.len(), pl.sum(\"trexpfac\"))\n",
    "# N.B. since we're aggregating trips over EACH segment, we don't need to do calculations\n",
    "# for only keeping one trip entry even if the trip traveresed multiple study segments\n",
    "modes = matched_paths_mode_by_segment_long.get_column(\"mode\").unique()\n",
    "matched_paths_mode_by_segment_wide = (\n",
    "    matched_paths_mode_by_segment_long.pivot(\n",
    "        index=[\"osmid\", \"map_match_name\"],\n",
    "        on=\"mode\",\n",
    "        values=[\"len\", \"trexpfac\"],\n",
    "        sort_columns=True,\n",
    "    )\n",
    "    .fill_null(0)\n",
    "    .with_columns(trexpfac_sum=pl.sum_horizontal(pl.selectors.matches(r\"trexpfac_\\d\")))\n",
    "    .with_columns(\n",
    "        [\n",
    "            (pl.col(f\"trexpfac_{i}\") / pl.col(\"trexpfac_sum\")).alias(f\"mode_share_{i}\")\n",
    "            for i in modes\n",
    "        ]\n",
    "    )\n",
    ")"
   ]
  },
  {
   "cell_type": "code",
   "execution_count": null,
   "metadata": {},
   "outputs": [],
   "source": [
    "study_segments_mode_share = study_segments.join(\n",
    "    matched_paths_mode_by_segment_wide, \"osmid\", how=\"left\"\n",
    ")\n",
    "study_segments_mode_share.write_csv(output_dir / \"ml_study_locations-mode_shares.csv\")\n",
    "study_segments_mode_share"
   ]
  },
  {
   "cell_type": "code",
   "execution_count": null,
   "metadata": {},
   "outputs": [],
   "source": [
    "matched_trips_on_study_segments_list = (\n",
    "    matched_paths.join(study_segments, \"osmid\", how=\"inner\")\n",
    "    .group_by(trips.columns)\n",
    "    .agg(pl.col(\"segment\"))\n",
    ")\n",
    "matched_trips_on_study_segments_list.write_parquet(\n",
    "    output_dir / \"trips-on_ml_study_segments-list.parquet\"\n",
    ")"
   ]
  },
  {
   "cell_type": "code",
   "execution_count": null,
   "metadata": {},
   "outputs": [],
   "source": [
    "matched_trips_on_study_segments_dummies = (\n",
    "    matched_trips_on_study_segments_list.explode(\"segment\")\n",
    "    .to_dummies(\"segment\")\n",
    "    .group_by(trips.columns)\n",
    "    .max()\n",
    ")\n",
    "matched_trips_on_study_segments_dummies.write_csv(\n",
    "    output_dir / \"trips-on_ml_study_segments-dummies.csv\"\n",
    ")"
   ]
  },
  {
   "cell_type": "code",
   "execution_count": null,
   "metadata": {},
   "outputs": [],
   "source": []
  }
 ],
 "metadata": {
  "kernelspec": {
   "display_name": "py312",
   "language": "python",
   "name": "python3"
  },
  "language_info": {
   "codemirror_mode": {
    "name": "ipython",
    "version": 3
   },
   "file_extension": ".py",
   "mimetype": "text/x-python",
   "name": "python",
   "nbconvert_exporter": "python",
   "pygments_lexer": "ipython3",
   "version": "3.12.3"
  }
 },
 "nbformat": 4,
 "nbformat_minor": 2
}
