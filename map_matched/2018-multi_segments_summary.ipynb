{
 "cells": [
  {
   "cell_type": "code",
   "execution_count": null,
   "metadata": {},
   "outputs": [],
   "source": [
    "import sys\n",
    "from pathlib import Path\n",
    "\n",
    "import geopandas as gpd\n",
    "import polars as pl\n",
    "\n",
    "sys.path.append(\"../2024-downtown_today\")\n",
    "from downtown_today_utils import parse_geog, taz_cols_to_county"
   ]
  },
  {
   "cell_type": "code",
   "execution_count": null,
   "metadata": {},
   "outputs": [],
   "source": [
    "survey_2018_dir = Path(r\"Q:\\Data\\Surveys\\HouseholdSurveys\\MTC-SFCTA2018\")\n",
    "\n",
    "# LOAD otaz, dtaz, dpurp FROM TRIPS (AFTER SFCTA PIPELINE)\n",
    "trips_raw = pl.read_csv(\n",
    "    survey_2018_dir / \"Deliverable_20210302/trip.csv\",\n",
    "    columns=[\"hh_id\", \"person_id\", \"person_num\", \"linked_trip_id\", \"trip_id\"],\n",
    ")\n",
    "# processed through SFCTA pipeline\n",
    "trips_processed = (\n",
    "    pl.read_csv(\n",
    "        survey_2018_dir / r\"Processing_20210302\\3_merge_skims\\survey2018_tripx.dat\",\n",
    "        separator=\" \",\n",
    "        columns=[\"hhno\", \"pno\", \"tsvid\", \"otaz\", \"dtaz\", \"dpurp\", \"trexpfac\"],\n",
    "    )\n",
    "    # deal with linked trips that have multiple trip entries -> merge them back together\n",
    "    .with_columns(\n",
    "        pl.col(\"otaz\", \"dtaz\").replace({-1: None}),\n",
    "        pl.col(\"dpurp\").replace({10: None}),  # CH suspects these are transfers\n",
    "    )\n",
    "    .group_by(\"hhno\", \"pno\", \"tsvid\")\n",
    "    # max should be fine because I set the values that I want to drop to null\n",
    "    .agg(pl.max(\"trexpfac\", \"otaz\", \"dtaz\", \"dpurp\"))\n",
    ")\n",
    "trips = trips_raw.join(\n",
    "    trips_processed,\n",
    "    left_on=[\"hh_id\", \"person_num\", \"linked_trip_id\"],\n",
    "    right_on=[\"hhno\", \"pno\", \"tsvid\"],\n",
    "    how=\"left\",\n",
    "    validate=\"m:1\",\n",
    ")"
   ]
  },
  {
   "cell_type": "code",
   "execution_count": null,
   "metadata": {},
   "outputs": [],
   "source": [
    "taz_analysis_neighborhoods_gis_filepath = (\n",
    "    Path(r\"Q:\\GIS\\Policy\\San_Francisco\\Analysis_Neighborhoods\")\n",
    "    / \"taz2454-sf_only-with_analysis_neighborhoods.gpkg\"\n",
    ")\n",
    "taz_analysis_neighborhoods = gpd.read_file(\n",
    "    taz_analysis_neighborhoods_gis_filepath, columns=[\"TAZ\", \"analysis_neighborhood\"]\n",
    ")\n",
    "taz_gis_filepath = r\"Q:\\GIS\\Model\\TAZ\\SFCTA_TAZ\\TAZ2454.shp\"\n",
    "taz_county = gpd.read_file(taz_gis_filepath, columns=[\"TAZ\", \"COUNTY\"])"
   ]
  },
  {
   "cell_type": "code",
   "execution_count": null,
   "metadata": {},
   "outputs": [],
   "source": [
    "matched_trips = taz_cols_to_county(\n",
    "    parse_geog(\n",
    "        # matched trips csv created with\n",
    "        # Q:\\Data\\Surveys\\HouseholdSurveys\\MTC-SFCTA2018\\Processing_20210302\n",
    "        #   \\Map Matching\\notebooks\\i80_101_between_280_and_baybridge_traces.ipynb\n",
    "        pl.read_csv(\n",
    "            survey_2018_dir\n",
    "            / r\"Processing_20210302\\Map Matching\\output_processed\"\n",
    "            / \"trips-US101&I80-between_I280_and_baybridge.csv\",\n",
    "            # / \"trips_bay_bridge.csv\",\n",
    "            schema_overrides={\"trexpfac_y\": pl.Float64},\n",
    "        )\n",
    "        .join(trips.select(\"trip_id\", \"otaz\", \"dtaz\", \"dpurp\"), on=\"trip_id\")\n",
    "        .rename({\"trexpfac_y\": \"trexpfac\"})\n",
    "        .filter(pl.col(\"trexpfac\") > 0),\n",
    "        taz_analysis_neighborhoods,\n",
    "    ),\n",
    "    taz_county,\n",
    ").with_columns(\n",
    "    pl.col(\"o_county\", \"d_county\").replace_strict(\n",
    "        {\n",
    "            1: \"1-sf\",\n",
    "            2: \"2-san mateo\",\n",
    "            3: \"3-santa clara\",\n",
    "            4: \"4-alameda\",\n",
    "            5: \"5-contra costa\",\n",
    "            6: \"6-solano\",\n",
    "            7: \"7-napa\",\n",
    "            8: \"8-sonoma\",\n",
    "            9: \"9-marin\",\n",
    "        }\n",
    "    )\n",
    ")"
   ]
  },
  {
   "cell_type": "code",
   "execution_count": null,
   "metadata": {},
   "outputs": [],
   "source": [
    "matched_trips_od_long = (\n",
    "    matched_trips.group_by(\"o_geog\", \"d_geog\")\n",
    "    .agg(pl.len(), pl.sum(\"trexpfac\"))\n",
    "    .sort(\"o_geog\", \"d_geog\")\n",
    "    .with_columns(weighted_share=(pl.col(\"trexpfac\") / pl.sum(\"trexpfac\")))\n",
    ")\n",
    "matched_trips_od_long"
   ]
  },
  {
   "cell_type": "code",
   "execution_count": null,
   "metadata": {},
   "outputs": [],
   "source": [
    "matched_trips_od_long.pivot(\n",
    "    index=[\"o_geog\"],\n",
    "    on=\"d_geog\",\n",
    "    values=[\"len\"],\n",
    "    sort_columns=True,\n",
    ")"
   ]
  },
  {
   "cell_type": "code",
   "execution_count": null,
   "metadata": {},
   "outputs": [],
   "source": [
    "matched_trips_od_long.pivot(\n",
    "    index=[\"o_geog\"],\n",
    "    on=\"d_geog\",\n",
    "    values=[\"trexpfac\"],\n",
    "    sort_columns=True,\n",
    ")"
   ]
  },
  {
   "cell_type": "code",
   "execution_count": null,
   "metadata": {},
   "outputs": [],
   "source": [
    "matched_trips_od_long.pivot(\n",
    "    index=[\"o_geog\"],\n",
    "    on=\"d_geog\",\n",
    "    values=[\"weighted_share\"],\n",
    "    sort_columns=True,\n",
    ")"
   ]
  },
  {
   "cell_type": "code",
   "execution_count": null,
   "metadata": {},
   "outputs": [],
   "source": [
    "matched_trips_dpurp_long = (\n",
    "    matched_trips.group_by(\"dpurp\")\n",
    "    .agg(pl.len(), pl.sum(\"trexpfac\"))\n",
    "    .sort(\"dpurp\")\n",
    "    .with_columns(weighted_share=(pl.col(\"trexpfac\") / pl.sum(\"trexpfac\")))\n",
    ")\n",
    "matched_trips_dpurp_long"
   ]
  },
  {
   "cell_type": "code",
   "execution_count": null,
   "metadata": {},
   "outputs": [],
   "source": [
    "matched_trips_county_long = (\n",
    "    matched_trips.group_by(\"o_county\", \"d_county\")\n",
    "    .agg(pl.len(), pl.sum(\"trexpfac\"))\n",
    "    .sort(\"o_county\", \"d_county\")\n",
    "    .with_columns(weighted_share=(pl.col(\"trexpfac\") / pl.sum(\"trexpfac\")))\n",
    ")"
   ]
  },
  {
   "cell_type": "code",
   "execution_count": null,
   "metadata": {},
   "outputs": [],
   "source": [
    "matched_trips_county_long.pivot(\n",
    "    index=[\"o_county\"],\n",
    "    on=\"d_county\",\n",
    "    values=[\"trexpfac\"],\n",
    "    sort_columns=True,\n",
    ")"
   ]
  },
  {
   "cell_type": "code",
   "execution_count": null,
   "metadata": {},
   "outputs": [],
   "source": [
    "matched_trips_county_long.pivot(\n",
    "    index=[\"o_county\"],\n",
    "    on=\"d_county\",\n",
    "    values=[\"weighted_share\"],\n",
    "    sort_columns=True,\n",
    ")"
   ]
  }
 ],
 "metadata": {
  "kernelspec": {
   "display_name": "py312",
   "language": "python",
   "name": "python3"
  },
  "language_info": {
   "codemirror_mode": {
    "name": "ipython",
    "version": 3
   },
   "file_extension": ".py",
   "mimetype": "text/x-python",
   "name": "python",
   "nbconvert_exporter": "python",
   "pygments_lexer": "ipython3",
   "version": "3.12.3"
  }
 },
 "nbformat": 4,
 "nbformat_minor": 2
}
